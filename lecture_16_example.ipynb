{
 "cells": [
  {
   "cell_type": "markdown",
   "id": "0c2abe6c",
   "metadata": {},
   "source": [
    "# Lecture 16 Example"
   ]
  },
  {
   "cell_type": "code",
   "execution_count": 1,
   "id": "d8685a92",
   "metadata": {},
   "outputs": [
    {
     "data": {
      "text/plain": [
       "2"
      ]
     },
     "execution_count": 1,
     "metadata": {},
     "output_type": "execute_result"
    }
   ],
   "source": [
    "1 + 1"
   ]
  },
  {
   "cell_type": "code",
   "execution_count": 15,
   "id": "0eb8967f",
   "metadata": {},
   "outputs": [],
   "source": [
    "x = 0"
   ]
  },
  {
   "cell_type": "code",
   "execution_count": 7,
   "id": "eb658131",
   "metadata": {},
   "outputs": [],
   "source": [
    "# Graphing!"
   ]
  },
  {
   "cell_type": "code",
   "execution_count": 5,
   "id": "c6eefbe6",
   "metadata": {},
   "outputs": [
    {
     "data": {
      "application/vnd.plotly.v1+json": {
       "config": {
        "plotlyServerURL": "https://plot.ly"
       },
       "data": [
        {
         "hovertemplate": "total_bill=%{x}<br>tip=%{y}<extra></extra>",
         "legendgroup": "",
         "marker": {
          "color": "#636efa",
          "symbol": "circle"
         },
         "mode": "markers",
         "name": "",
         "orientation": "v",
         "showlegend": false,
         "type": "scatter",
         "x": {
          "bdata": "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",
          "dtype": "f8"
         },
         "xaxis": "x",
         "y": {
          "bdata": "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",
          "dtype": "f8"
         },
         "yaxis": "y"
        },
        {
         "hovertemplate": "<b>OLS trendline</b><br>tip = 0.105025 * total_bill + 0.92027<br>R<sup>2</sup>=0.456617<br><br>total_bill=%{x}<br>tip=%{y} <b>(trend)</b><extra></extra>",
         "legendgroup": "",
         "marker": {
          "color": "#636efa",
          "symbol": "circle"
         },
         "mode": "lines",
         "name": "",
         "showlegend": false,
         "type": "scatter",
         "x": {
          "bdata": "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",
          "dtype": "f8"
         },
         "xaxis": "x",
         "y": {
          "bdata": "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",
          "dtype": "f8"
         },
         "yaxis": "y"
        }
       ],
       "layout": {
        "legend": {
         "tracegroupgap": 0
        },
        "margin": {
         "t": 60
        },
        "template": {
         "data": {
          "bar": [
           {
            "error_x": {
             "color": "#2a3f5f"
            },
            "error_y": {
             "color": "#2a3f5f"
            },
            "marker": {
             "line": {
              "color": "#E5ECF6",
              "width": 0.5
             },
             "pattern": {
              "fillmode": "overlay",
              "size": 10,
              "solidity": 0.2
             }
            },
            "type": "bar"
           }
          ],
          "barpolar": [
           {
            "marker": {
             "line": {
              "color": "#E5ECF6",
              "width": 0.5
             },
             "pattern": {
              "fillmode": "overlay",
              "size": 10,
              "solidity": 0.2
             }
            },
            "type": "barpolar"
           }
          ],
          "carpet": [
           {
            "aaxis": {
             "endlinecolor": "#2a3f5f",
             "gridcolor": "white",
             "linecolor": "white",
             "minorgridcolor": "white",
             "startlinecolor": "#2a3f5f"
            },
            "baxis": {
             "endlinecolor": "#2a3f5f",
             "gridcolor": "white",
             "linecolor": "white",
             "minorgridcolor": "white",
             "startlinecolor": "#2a3f5f"
            },
            "type": "carpet"
           }
          ],
          "choropleth": [
           {
            "colorbar": {
             "outlinewidth": 0,
             "ticks": ""
            },
            "type": "choropleth"
           }
          ],
          "contour": [
           {
            "colorbar": {
             "outlinewidth": 0,
             "ticks": ""
            },
            "colorscale": [
             [
              0,
              "#0d0887"
             ],
             [
              0.1111111111111111,
              "#46039f"
             ],
             [
              0.2222222222222222,
              "#7201a8"
             ],
             [
              0.3333333333333333,
              "#9c179e"
             ],
             [
              0.4444444444444444,
              "#bd3786"
             ],
             [
              0.5555555555555556,
              "#d8576b"
             ],
             [
              0.6666666666666666,
              "#ed7953"
             ],
             [
              0.7777777777777778,
              "#fb9f3a"
             ],
             [
              0.8888888888888888,
              "#fdca26"
             ],
             [
              1,
              "#f0f921"
             ]
            ],
            "type": "contour"
           }
          ],
          "contourcarpet": [
           {
            "colorbar": {
             "outlinewidth": 0,
             "ticks": ""
            },
            "type": "contourcarpet"
           }
          ],
          "heatmap": [
           {
            "colorbar": {
             "outlinewidth": 0,
             "ticks": ""
            },
            "colorscale": [
             [
              0,
              "#0d0887"
             ],
             [
              0.1111111111111111,
              "#46039f"
             ],
             [
              0.2222222222222222,
              "#7201a8"
             ],
             [
              0.3333333333333333,
              "#9c179e"
             ],
             [
              0.4444444444444444,
              "#bd3786"
             ],
             [
              0.5555555555555556,
              "#d8576b"
             ],
             [
              0.6666666666666666,
              "#ed7953"
             ],
             [
              0.7777777777777778,
              "#fb9f3a"
             ],
             [
              0.8888888888888888,
              "#fdca26"
             ],
             [
              1,
              "#f0f921"
             ]
            ],
            "type": "heatmap"
           }
          ],
          "histogram": [
           {
            "marker": {
             "pattern": {
              "fillmode": "overlay",
              "size": 10,
              "solidity": 0.2
             }
            },
            "type": "histogram"
           }
          ],
          "histogram2d": [
           {
            "colorbar": {
             "outlinewidth": 0,
             "ticks": ""
            },
            "colorscale": [
             [
              0,
              "#0d0887"
             ],
             [
              0.1111111111111111,
              "#46039f"
             ],
             [
              0.2222222222222222,
              "#7201a8"
             ],
             [
              0.3333333333333333,
              "#9c179e"
             ],
             [
              0.4444444444444444,
              "#bd3786"
             ],
             [
              0.5555555555555556,
              "#d8576b"
             ],
             [
              0.6666666666666666,
              "#ed7953"
             ],
             [
              0.7777777777777778,
              "#fb9f3a"
             ],
             [
              0.8888888888888888,
              "#fdca26"
             ],
             [
              1,
              "#f0f921"
             ]
            ],
            "type": "histogram2d"
           }
          ],
          "histogram2dcontour": [
           {
            "colorbar": {
             "outlinewidth": 0,
             "ticks": ""
            },
            "colorscale": [
             [
              0,
              "#0d0887"
             ],
             [
              0.1111111111111111,
              "#46039f"
             ],
             [
              0.2222222222222222,
              "#7201a8"
             ],
             [
              0.3333333333333333,
              "#9c179e"
             ],
             [
              0.4444444444444444,
              "#bd3786"
             ],
             [
              0.5555555555555556,
              "#d8576b"
             ],
             [
              0.6666666666666666,
              "#ed7953"
             ],
             [
              0.7777777777777778,
              "#fb9f3a"
             ],
             [
              0.8888888888888888,
              "#fdca26"
             ],
             [
              1,
              "#f0f921"
             ]
            ],
            "type": "histogram2dcontour"
           }
          ],
          "mesh3d": [
           {
            "colorbar": {
             "outlinewidth": 0,
             "ticks": ""
            },
            "type": "mesh3d"
           }
          ],
          "parcoords": [
           {
            "line": {
             "colorbar": {
              "outlinewidth": 0,
              "ticks": ""
             }
            },
            "type": "parcoords"
           }
          ],
          "pie": [
           {
            "automargin": true,
            "type": "pie"
           }
          ],
          "scatter": [
           {
            "fillpattern": {
             "fillmode": "overlay",
             "size": 10,
             "solidity": 0.2
            },
            "type": "scatter"
           }
          ],
          "scatter3d": [
           {
            "line": {
             "colorbar": {
              "outlinewidth": 0,
              "ticks": ""
             }
            },
            "marker": {
             "colorbar": {
              "outlinewidth": 0,
              "ticks": ""
             }
            },
            "type": "scatter3d"
           }
          ],
          "scattercarpet": [
           {
            "marker": {
             "colorbar": {
              "outlinewidth": 0,
              "ticks": ""
             }
            },
            "type": "scattercarpet"
           }
          ],
          "scattergeo": [
           {
            "marker": {
             "colorbar": {
              "outlinewidth": 0,
              "ticks": ""
             }
            },
            "type": "scattergeo"
           }
          ],
          "scattergl": [
           {
            "marker": {
             "colorbar": {
              "outlinewidth": 0,
              "ticks": ""
             }
            },
            "type": "scattergl"
           }
          ],
          "scattermap": [
           {
            "marker": {
             "colorbar": {
              "outlinewidth": 0,
              "ticks": ""
             }
            },
            "type": "scattermap"
           }
          ],
          "scattermapbox": [
           {
            "marker": {
             "colorbar": {
              "outlinewidth": 0,
              "ticks": ""
             }
            },
            "type": "scattermapbox"
           }
          ],
          "scatterpolar": [
           {
            "marker": {
             "colorbar": {
              "outlinewidth": 0,
              "ticks": ""
             }
            },
            "type": "scatterpolar"
           }
          ],
          "scatterpolargl": [
           {
            "marker": {
             "colorbar": {
              "outlinewidth": 0,
              "ticks": ""
             }
            },
            "type": "scatterpolargl"
           }
          ],
          "scatterternary": [
           {
            "marker": {
             "colorbar": {
              "outlinewidth": 0,
              "ticks": ""
             }
            },
            "type": "scatterternary"
           }
          ],
          "surface": [
           {
            "colorbar": {
             "outlinewidth": 0,
             "ticks": ""
            },
            "colorscale": [
             [
              0,
              "#0d0887"
             ],
             [
              0.1111111111111111,
              "#46039f"
             ],
             [
              0.2222222222222222,
              "#7201a8"
             ],
             [
              0.3333333333333333,
              "#9c179e"
             ],
             [
              0.4444444444444444,
              "#bd3786"
             ],
             [
              0.5555555555555556,
              "#d8576b"
             ],
             [
              0.6666666666666666,
              "#ed7953"
             ],
             [
              0.7777777777777778,
              "#fb9f3a"
             ],
             [
              0.8888888888888888,
              "#fdca26"
             ],
             [
              1,
              "#f0f921"
             ]
            ],
            "type": "surface"
           }
          ],
          "table": [
           {
            "cells": {
             "fill": {
              "color": "#EBF0F8"
             },
             "line": {
              "color": "white"
             }
            },
            "header": {
             "fill": {
              "color": "#C8D4E3"
             },
             "line": {
              "color": "white"
             }
            },
            "type": "table"
           }
          ]
         },
         "layout": {
          "annotationdefaults": {
           "arrowcolor": "#2a3f5f",
           "arrowhead": 0,
           "arrowwidth": 1
          },
          "autotypenumbers": "strict",
          "coloraxis": {
           "colorbar": {
            "outlinewidth": 0,
            "ticks": ""
           }
          },
          "colorscale": {
           "diverging": [
            [
             0,
             "#8e0152"
            ],
            [
             0.1,
             "#c51b7d"
            ],
            [
             0.2,
             "#de77ae"
            ],
            [
             0.3,
             "#f1b6da"
            ],
            [
             0.4,
             "#fde0ef"
            ],
            [
             0.5,
             "#f7f7f7"
            ],
            [
             0.6,
             "#e6f5d0"
            ],
            [
             0.7,
             "#b8e186"
            ],
            [
             0.8,
             "#7fbc41"
            ],
            [
             0.9,
             "#4d9221"
            ],
            [
             1,
             "#276419"
            ]
           ],
           "sequential": [
            [
             0,
             "#0d0887"
            ],
            [
             0.1111111111111111,
             "#46039f"
            ],
            [
             0.2222222222222222,
             "#7201a8"
            ],
            [
             0.3333333333333333,
             "#9c179e"
            ],
            [
             0.4444444444444444,
             "#bd3786"
            ],
            [
             0.5555555555555556,
             "#d8576b"
            ],
            [
             0.6666666666666666,
             "#ed7953"
            ],
            [
             0.7777777777777778,
             "#fb9f3a"
            ],
            [
             0.8888888888888888,
             "#fdca26"
            ],
            [
             1,
             "#f0f921"
            ]
           ],
           "sequentialminus": [
            [
             0,
             "#0d0887"
            ],
            [
             0.1111111111111111,
             "#46039f"
            ],
            [
             0.2222222222222222,
             "#7201a8"
            ],
            [
             0.3333333333333333,
             "#9c179e"
            ],
            [
             0.4444444444444444,
             "#bd3786"
            ],
            [
             0.5555555555555556,
             "#d8576b"
            ],
            [
             0.6666666666666666,
             "#ed7953"
            ],
            [
             0.7777777777777778,
             "#fb9f3a"
            ],
            [
             0.8888888888888888,
             "#fdca26"
            ],
            [
             1,
             "#f0f921"
            ]
           ]
          },
          "colorway": [
           "#636efa",
           "#EF553B",
           "#00cc96",
           "#ab63fa",
           "#FFA15A",
           "#19d3f3",
           "#FF6692",
           "#B6E880",
           "#FF97FF",
           "#FECB52"
          ],
          "font": {
           "color": "#2a3f5f"
          },
          "geo": {
           "bgcolor": "white",
           "lakecolor": "white",
           "landcolor": "#E5ECF6",
           "showlakes": true,
           "showland": true,
           "subunitcolor": "white"
          },
          "hoverlabel": {
           "align": "left"
          },
          "hovermode": "closest",
          "mapbox": {
           "style": "light"
          },
          "paper_bgcolor": "white",
          "plot_bgcolor": "#E5ECF6",
          "polar": {
           "angularaxis": {
            "gridcolor": "white",
            "linecolor": "white",
            "ticks": ""
           },
           "bgcolor": "#E5ECF6",
           "radialaxis": {
            "gridcolor": "white",
            "linecolor": "white",
            "ticks": ""
           }
          },
          "scene": {
           "xaxis": {
            "backgroundcolor": "#E5ECF6",
            "gridcolor": "white",
            "gridwidth": 2,
            "linecolor": "white",
            "showbackground": true,
            "ticks": "",
            "zerolinecolor": "white"
           },
           "yaxis": {
            "backgroundcolor": "#E5ECF6",
            "gridcolor": "white",
            "gridwidth": 2,
            "linecolor": "white",
            "showbackground": true,
            "ticks": "",
            "zerolinecolor": "white"
           },
           "zaxis": {
            "backgroundcolor": "#E5ECF6",
            "gridcolor": "white",
            "gridwidth": 2,
            "linecolor": "white",
            "showbackground": true,
            "ticks": "",
            "zerolinecolor": "white"
           }
          },
          "shapedefaults": {
           "line": {
            "color": "#2a3f5f"
           }
          },
          "ternary": {
           "aaxis": {
            "gridcolor": "white",
            "linecolor": "white",
            "ticks": ""
           },
           "baxis": {
            "gridcolor": "white",
            "linecolor": "white",
            "ticks": ""
           },
           "bgcolor": "#E5ECF6",
           "caxis": {
            "gridcolor": "white",
            "linecolor": "white",
            "ticks": ""
           }
          },
          "title": {
           "x": 0.05
          },
          "xaxis": {
           "automargin": true,
           "gridcolor": "white",
           "linecolor": "white",
           "ticks": "",
           "title": {
            "standoff": 15
           },
           "zerolinecolor": "white",
           "zerolinewidth": 2
          },
          "yaxis": {
           "automargin": true,
           "gridcolor": "white",
           "linecolor": "white",
           "ticks": "",
           "title": {
            "standoff": 15
           },
           "zerolinecolor": "white",
           "zerolinewidth": 2
          }
         }
        },
        "xaxis": {
         "anchor": "y",
         "domain": [
          0,
          1
         ],
         "title": {
          "text": "total_bill"
         }
        },
        "yaxis": {
         "anchor": "x",
         "domain": [
          0,
          1
         ],
         "title": {
          "text": "tip"
         }
        }
       }
      }
     },
     "metadata": {},
     "output_type": "display_data"
    }
   ],
   "source": [
    "import plotly.express as px\n",
    "\n",
    "df = px.data.tips()\n",
    "fig = px.scatter(df, x=\"total_bill\", y=\"tip\", trendline=\"ols\")\n",
    "fig.show()"
   ]
  },
  {
   "cell_type": "code",
   "execution_count": 8,
   "id": "c8bbad00",
   "metadata": {},
   "outputs": [
    {
     "data": {
      "application/vnd.plotly.v1+json": {
       "config": {
        "plotlyServerURL": "https://plot.ly"
       },
       "data": [
        {
         "hovertemplate": "sex=Female<br>smoker=No<br>total_bill=%{x}<br>tip=%{y}<extra></extra>",
         "legendgroup": "Female",
         "marker": {
          "color": "#636efa",
          "symbol": "circle"
         },
         "mode": "markers",
         "name": "Female",
         "orientation": "v",
         "showlegend": true,
         "type": "scatter",
         "x": {
          "bdata": "PQrXo3D9MEDXo3A9Cpc4QOF6FK5HoUFAKVyPwvWoLUApXI/C9agkQLgehetR+DBACtejcD1KNEAK16NwPYovQGZmZmZmpjNAH4XrUbgeLkBxPQrXo7A0QK5H4XoU7jBAFK5H4XqUJEBI4XoUrmdBQClcj8L1aDpAMzMzMzNzMEBSuB6F6xExQPYoXI/CdS1ApHA9CtcjJEAK16NwPWpBQAAAAAAAwDZA7FG4HoXrNEAAAAAAAAAdQPYoXI/CtTlAj8L1KFxPMUDNzMzMzEwlQFyPwvUo3ChAFK5H4XoUOEDXo3A9CtcqQPYoXI/C9ShAzczMzMzMPUAK16NwPQotQMP1KFyPwiZAhetRuB5FNEDXo3A9ClcmQIXrUbgehShAw/UoXI9CMkCF61G4HgUhQClcj8L1qCRAzczMzMxMLEBSuB6F61EqQLgehetReDFAzczMzMwMO0CuR+F6FG4wQDMzMzMzsyBApHA9CtejMkA9CtejcL0nQJqZmZmZ2T1AAAAAAAAAOUBI4XoUrscqQPYoXI/CNTBA9ihcj8L1L0AK16NwPepBQEjhehSuxzJA",
          "dtype": "f8"
         },
         "xaxis": "x",
         "y": {
          "bdata": "KVyPwvUo8D/hehSuR+EMQAAAAAAAABRAKVyPwvUoCEC4HoXrUbj6PwAAAAAAAAxAAAAAAAAABkDXo3A9CtcBQAAAAAAAAAhAAAAAAAAACECamZmZmZkDQI/C9ShcjwhAzczMzMzMBEDNzMzMzMwUQAAAAAAAAPg/w/UoXI/CA0AAAAAAAAAIQJqZmZmZmQFASOF6FK5H/T+uR+F6FK4UQAAAAAAAAApAUrgehetREEAAAAAAAADwPwAAAAAAABBAAAAAAAAADEAAAAAAAAD4P83MzMzMzPw/XI/C9ShcB0DhehSuR+H6Pylcj8L1KARAzczMzMzMEEAAAAAAAAAAQAAAAAAAAABApHA9CtejBkAAAAAAAAD4PwAAAAAAAABAAAAAAAAACkAAAAAAAAD0PwAAAAAAAABAAAAAAAAAAEAAAAAAAAAGQAAAAAAAAAxAAAAAAAAAFEBmZmZmZmYCQAAAAAAAAPg/w/UoXI/C9T8UrkfhehT6P4/C9ShcjxRAAAAAAAAADkDhehSuR+EEQAAAAAAAAABAAAAAAAAACECuR+F6FK4SQAAAAAAAAAhA",
          "dtype": "f8"
         },
         "yaxis": "y"
        },
        {
         "hovertemplate": "<b>OLS trendline</b><br>tip = 0.128239 * total_bill + 0.451719<br>R<sup>2</sup>=0.685694<br><br>sex=Female<br>smoker=No<br>total_bill=%{x}<br>tip=%{y} <b>(trend)</b><extra></extra>",
         "legendgroup": "Female",
         "marker": {
          "color": "#636efa",
          "symbol": "circle"
         },
         "mode": "lines",
         "name": "Female",
         "showlegend": false,
         "type": "scatter",
         "x": {
          "bdata": "AAAAAAAAHUAzMzMzM7MgQIXrUbgeBSFApHA9CtcjJEAUrkfhepQkQClcj8L1qCRAKVyPwvWoJEDNzMzMzEwlQNejcD0KVyZAw/UoXI/CJkA9CtejcL0nQIXrUbgehShAXI/C9SjcKED2KFyPwvUoQFK4HoXrUSpASOF6FK7HKkDXo3A9CtcqQM3MzMzMTCxACtejcD0KLUD2KFyPwnUtQClcj8L1qC1AH4XrUbgeLkAK16NwPYovQPYoXI/C9S9A9ihcj8I1MECuR+F6FG4wQDMzMzMzczBArkfhehTuMEC4HoXrUfgwQD0K16Nw/TBAUrgehesRMUCPwvUoXE8xQLgehetReDFAw/UoXI9CMkCkcD0K16MyQEjhehSuxzJAZmZmZmamM0CF61G4HkU0QArXo3A9SjRAcT0K16OwNEDsUbgehes0QAAAAAAAwDZAFK5H4XoUOEDXo3A9Cpc4QAAAAAAAADlA9ihcj8K1OUApXI/C9Wg6QM3MzMzMDDtAzczMzMzMPUCamZmZmdk9QEjhehSuZ0FACtejcD1qQUDhehSuR6FBQArXo3A96kFA",
          "dtype": "f8"
         },
         "xaxis": "x",
         "y": {
          "bdata": "EDFd+HAa9j/T3SStPFz4Py2jKrBHsPg/UOeiDbPj+z+q1soxQlf8PwFIjPJEbPw/AUiM8kRs/D+z0pf4WhT9PxSUasJ+Jf4/GSdiNs2T/j9506PvLpX/P0HygOMEMQBAGAMcvapdAEDu6ZR1zGoAQEwtAdxjHQFAJFMtxstZAUCk3XXOrGEBQNYHW+1lIQJABrTZqJKCAkCIfdXiubkCQDRLx1P90wJADHHzPWUQA0DpPqis3coDQGwIpOYEAgRARC7Q0Gw+BEDwJeRiNHgEQEaCFBN1fQRATCqdl4X7BED24v33BgYFQEw/LqhHCwVAo7DvaEogBUClBDSrUl8FQFHntixYiQVAhiYtXNNYBkDfAMRvoLwGQDaHFkFl4QZAwDdOMePFB0AcZimHuGgIQHLCWTf5bQhAIfkg+wbXCED6Hk3lbhMJQI4flt4N9ApAxxsmo1tRDEBOTvcvTdcMQCiz1kv7Qg1ABYGLunP9DUC4ICjRS7UOQGqrM9dhXQ9Ar6GWPNAXEUAaFdMYYR4RQIzOP3C2qRNAtvxXyFasE0BO3V8uzuQTQBEBEf2nLxRA",
          "dtype": "f8"
         },
         "yaxis": "y"
        },
        {
         "hovertemplate": "sex=Female<br>smoker=Yes<br>total_bill=%{x}<br>tip=%{y}<extra></extra>",
         "legendgroup": "Female",
         "marker": {
          "color": "#636efa",
          "symbol": "circle"
         },
         "mode": "markers",
         "name": "Female",
         "orientation": "v",
         "showlegend": false,
         "type": "scatter",
         "x": {
          "bdata": "j8L1KFyPCEBcj8L1KNw6QEjhehSuRzlAAAAAAAAAF0BSuB6F61EwQDMzMzMzsyZAw/UoXI/CLkBmZmZmZiZGQOxRuB6FazZAH4XrUbieLEDD9Shcj4IxQK5H4XoULiVAw/UoXI9CJUAzMzMzMzMjQGZmZmZm5jRAZmZmZmYmMkCPwvUoXM8zQK5H4XoUjkVAAAAAAAAAKkB7FK5H4XopQAAAAAAAACpAZmZmZmZmMEC4HoXrUXgwQIXrUbgehSlACtejcD2KKkDsUbgehSs8QM3MzMzMzClApHA9CtcjPkDXo3A9CtcqQIXrUbgeRTBArkfhehQuJEAfhetRuB42QK5H4XoULjtA",
          "dtype": "f8"
         },
         "xaxis": "x2",
         "y": {
          "bdata": "AAAAAAAA8D8fhetRuB4JQAAAAAAAABRAAAAAAAAA8D8zMzMzMzMRQAAAAAAAAARAAAAAAAAACEAAAAAAAAAEQNejcD0K1wtAAAAAAAAAEEAAAAAAAAAIQMP1KFyPwvk/AAAAAAAAAEAAAAAAAAAQQAAAAAAAAAxAAAAAAAAADEDD9Shcj8IQQAAAAAAAABRAAAAAAAAAAEAUrkfhehQAQAAAAAAAAABAAAAAAAAABEDXo3A9CtcJQNejcD0K1wFAAAAAAAAABEAAAAAAAAAaQJqZmZmZmfE/uB6F61G4CEDXo3A9CtcLQAAAAAAAAARAAAAAAAAAAEAK16NwPQoHQAAAAAAAAABA",
          "dtype": "f8"
         },
         "yaxis": "y2"
        },
        {
         "hovertemplate": "<b>OLS trendline</b><br>tip = 0.0684701 * total_bill + 1.70057<br>R<sup>2</sup>=0.266042<br><br>sex=Female<br>smoker=Yes<br>total_bill=%{x}<br>tip=%{y} <b>(trend)</b><extra></extra>",
         "legendgroup": "Female",
         "marker": {
          "color": "#636efa",
          "symbol": "circle"
         },
         "mode": "lines",
         "name": "Female",
         "showlegend": false,
         "type": "scatter",
         "x": {
          "bdata": "j8L1KFyPCEAAAAAAAAAXQDMzMzMzMyNArkfhehQuJECuR+F6FC4lQMP1KFyPQiVAMzMzMzOzJkB7FK5H4XopQIXrUbgehSlAzczMzMzMKUAAAAAAAAAqQAAAAAAAACpACtejcD2KKkDXo3A9CtcqQB+F61G4nixAw/UoXI/CLkCF61G4HkUwQFK4HoXrUTBAZmZmZmZmMEC4HoXrUXgwQMP1KFyPgjFAZmZmZmYmMkCPwvUoXM8zQGZmZmZm5jRAH4XrUbgeNkDsUbgehWs2QEjhehSuRzlAXI/C9SjcOkCuR+F6FC47QOxRuB6FKzxApHA9CtcjPkCuR+F6FI5FQGZmZmZmJkZA",
          "dtype": "f8"
         },
         "xaxis": "x2",
         "y": {
          "bdata": "hu/b6oSS/j8YkJo6EcEAQEljSrfw3AJA7liBwqYhA0C1bbnIw2cDQEDqvbRfbQNAAqwOTVbSA0Dbk6qWQJUEQCDSrIwOmARABoa8RrCrBEBhvccUtrkEQGG9xxS2uQRACgbmjZLfBEAS2fZCm/QEQCSsWoZocQVApa/Sb3MHBkC2gjazQIQGQGMePJpDiwZAeBdFcnuWBkBs8UxPTKAGQIWXwUciMgdAMmAJCOGLB0CzkMPKp3QIQHrSPaqADQlABKnGSJS4CUAWT+iypeIJQNsXKR6ycwtARk/aCEFRDECcM/5oIH4MQAg+bXrzCA1AvjNKojIdDkBJeXwp+JsSQNo1P4Bn7xJA",
          "dtype": "f8"
         },
         "yaxis": "y2"
        },
        {
         "hovertemplate": "sex=Male<br>smoker=No<br>total_bill=%{x}<br>tip=%{y}<extra></extra>",
         "legendgroup": "Male",
         "marker": {
          "color": "#EF553B",
          "symbol": "circle"
         },
         "mode": "markers",
         "name": "Male",
         "orientation": "v",
         "showlegend": true,
         "type": "scatter",
         "x": {
          "bdata": "rkfhehSuJEDD9ShcjwI1QK5H4XoUrjdACtejcD1KOUAK16NwPYohQOF6FK5H4TpAFK5H4XoULkCPwvUoXI8tQArXo3A9iiRA16NwPQrXLkCuR+F6FG4yQBSuR+F6lDVACtejcD1KMEBmZmZmZqY0QOxRuB6F6zFA9ihcj8K1Q0BSuB6F69EzQI/C9ShczzFAPQrXo3C9KkDhehSuR2EpQDMzMzMzszVAmpmZmZkZI0CamZmZmVkyQEjhehSuxzFAj8L1KFwPOECPwvUoXE8wQHE9CtejsDJAhetRuB5FP0AK16NwPQowQPYoXI/CdTFA4XoUrkfhK0Bcj8L1KFwjQGZmZmZmZj5ACtejcD1KMkB7FK5H4To2QDMzMzMzM0BAzczMzMyMPEAK16NwPQoyQBSuR+F6FClA4XoUrkfhI0CPwvUoXI85QD0K16NwfTNAw/UoXI8iSEDXo3A9CpcxQBSuR+F6FDRAexSuR+E6NEAK16NwPQooQIXrUbgeBSVAMzMzMzMzO0DD9Shcj8I2QArXo3A9SjFAKVyPwvWoMED2KFyPwvUvQI/C9ShcDypASOF6FK5HMkD2KFyPwrU4QClcj8L1KDVAPQrXo3B9NkDsUbgehesoQD0K16NwPTJAAAAAAAAALEApXI/C9QhDQDMzMzMz8zdArkfhehTuPUDhehSuR2EnQIXrUbgehSxAZmZmZmbmL0AK16NwPQohQFK4HoXr0TZAFK5H4XoUM0BmZmZmZiZBQLgehetRmERAj8L1KFyPI0AK16NwPQoeQKRwPQrXIyxAw/UoXI9CKkDD9Shcj0IxQM3MzMzMjDhAhetRuB7FM0D2KFyPwhVIQD0K16NwfTBAAAAAAACANUBSuB6F61EpQB+F61G4nitAhetRuB6FOEDD9Shcj8I0QPYoXI/CtT9AcT0K16OwNEA9CtejcD0eQArXo3A9KkhAMzMzMzNzNECPwvUoXI8qQLgehetROCdACtejcD2KJUCkcD0K1yMkQEjhehSuBz1AUrgehevRMUA=",
          "dtype": "f8"
         },
         "xaxis": "x",
         "y": {
          "bdata": "j8L1KFyP+j8AAAAAAAAMQHsUrkfhegpA16NwPQrXEkAAAAAAAAAAQPYoXI/C9QhAXI/C9Shc/z/Xo3A9CtcJQFyPwvUoXPs/H4XrUbge+T8AAAAAAAAIQFyPwvUoXA9ArkfhehSuDUDNzMzMzMwKQFK4HoXrURBAUrgehetRHkBxPQrXo3AJQLgehetRuAJAAAAAAAAAAEAAAAAAAAAAQDMzMzMzMxFAMzMzMzMz9z8AAAAAAAAEQClcj8L1KApAzczMzMzMDEAAAAAAAAAAQHsUrkfhegJAAAAAAAAAFEDsUbgehesBQFK4HoXrUQRAexSuR+F6CEAfhetRuB71P2ZmZmZmZhZAAAAAAAAACEAAAAAAAAAUQAAAAAAAABhAZmZmZmZmAEAAAAAAAAAIQAAAAAAAAARA9ihcj8L1+D9cj8L1KFwRQBSuR+F6FAxA7FG4HoXrGkAfhetRuB4FQDMzMzMzMwlAFK5H4XoUAECF61G4HoX/PwAAAAAAAPQ/AAAAAAAAEEAAAAAAAAAIQK5H4XoUrgVAMzMzMzMzC0A9CtejcD0AQAAAAAAAAABAAAAAAAAAEEBmZmZmZmYXQAAAAAAAAAhAAAAAAAAADEAAAAAAAAD4PxSuR+F6FA5AAAAAAAAACEAAAAAAAAAQQGZmZmZmZgRASOF6FK5HFEB7FK5H4XoCQAAAAAAAAARAAAAAAAAAAECuR+F6FK73P3E9CtejcAFAAAAAAAAA+D/NzMzMzMwaQAAAAAAAABRArkfhehSu+z8AAAAAAAAAQAAAAAAAAARAAAAAAAAAAEDsUbgehesFQAAAAAAAAABAAAAAAAAAAEAAAAAAAAAUQAAAAAAAAABAAAAAAAAADEAAAAAAAAAEQAAAAAAAAABA16NwPQrXC0DsUbgehesBQAAAAAAAABJAAAAAAAAAFEAK16NwPQr3PwAAAAAAACJAAAAAAAAACEDD9Shcj8IFQB+F61G4HgtAhetRuB6F9z8AAAAAAAD0P65H4XoUrhdAAAAAAAAA/D8=",
          "dtype": "f8"
         },
         "yaxis": "y"
        },
        {
         "hovertemplate": "<b>OLS trendline</b><br>tip = 0.139719 * total_bill + 0.348195<br>R<sup>2</sup>=0.670010<br><br>sex=Male<br>smoker=No<br>total_bill=%{x}<br>tip=%{y} <b>(trend)</b><extra></extra>",
         "legendgroup": "Male",
         "marker": {
          "color": "#EF553B",
          "symbol": "circle"
         },
         "mode": "lines",
         "name": "Male",
         "showlegend": false,
         "type": "scatter",
         "x": {
          "bdata": "CtejcD0KHkA9CtejcD0eQArXo3A9CiFACtejcD2KIUCamZmZmRkjQFyPwvUoXCNAj8L1KFyPI0DhehSuR+EjQKRwPQrXIyRACtejcD2KJECuR+F6FK4kQIXrUbgeBSVACtejcD2KJUC4HoXrUTgnQOF6FK5HYSdACtejcD0KKEDsUbgehesoQBSuR+F6FClAUrgehetRKUDhehSuR2EpQI/C9ShcDypAw/UoXI9CKkCPwvUoXI8qQD0K16NwvSpAH4XrUbieK0DhehSuR+ErQAAAAAAAACxApHA9CtcjLECF61G4HoUsQI/C9Shcjy1AFK5H4XoULkDXo3A9CtcuQGZmZmZm5i9A9ihcj8L1L0AK16NwPQowQArXo3A9SjBAj8L1KFxPMEA9CtejcH0wQClcj8L1qDBAw/UoXI9CMUAK16NwPUoxQPYoXI/CdTFA16NwPQqXMUBI4XoUrscxQI/C9ShczzFAUrgehevRMUDsUbgehesxQArXo3A9CjJAPQrXo3A9MkBI4XoUrkcyQArXo3A9SjJAmpmZmZlZMkCuR+F6FG4yQHE9CtejsDJAFK5H4XoUM0A9CtejcH0zQIXrUbgexTNAUrgehevRM0AUrkfhehQ0QHsUrkfhOjRAMzMzMzNzNEBmZmZmZqY0QHE9CtejsDRAw/UoXI/CNEDD9ShcjwI1QClcj8L1KDVAAAAAAACANUAUrkfhepQ1QDMzMzMzszVAexSuR+E6NkA9CtejcH02QMP1KFyPwjZAUrgehevRNkCuR+F6FK43QDMzMzMz8zdAj8L1KFwPOECF61G4HoU4QM3MzMzMjDhA9ihcj8K1OEAK16NwPUo5QI/C9ShcjzlA4XoUrkfhOkAzMzMzMzM7QM3MzMzMjDxASOF6FK4HPUCuR+F6FO49QGZmZmZmZj5AhetRuB5FP0D2KFyPwrU/QDMzMzMzM0BAZmZmZmYmQUApXI/C9QhDQPYoXI/CtUNAuB6F61GYRED2KFyPwhVIQMP1KFyPIkhACtejcD0qSEA=",
          "dtype": "f8"
         },
         "xaxis": "x",
         "y": {
          "bdata": "p12KshZc9j87Ukb8s3j2Px6q+IMZnvg/AXGk9Cst+T9qWOVyjuv6P1DUmjL0Nfs/eL0Sxi5v+z8dzAWyv8r7PwVIu3ElFfw/VBqrmJqH/D+8cOX/qa/8P0ywl/rzEP0/GqgCer+l/T8Atb5QeIb/P1M8uMZAtP8/RcWu1o04AEBp+RwbdbYAQBK9GVZZzQBAkeKUrq/vAEDwq7NERfgAQIDrZT+PWQFAFeAhiSx2AUDyzrt3GKEBQBErGDrZugFANV+GfsA4AkAoHWFe810CQOevnooebwJAHNs7PiaDAkDOK1RKhLkCQJwjv8lPTgNAgp90ibWYA0DnQKWhcQUEQCrRb6gZnQRAipqOPq+lBEBILcxq2rYEQLoQIqNj/gRApEHhsRwEBUDh+Zk2njcFQKoZ8zNDaAVAIdVa7vITBkCAnnmEiBwGQEm+0oEtTQZAPHytYWByBkDvzMVtvqgGQE6W5ANUsQZAwy5EizC0BkBYIwDVzdAGQNVIey0k8wZA/DHzwF4sB0DSk3He0DcHQEcs0WWtOgdABr8OkthLB0CvggvNvGIHQJb+wIwirQdAcDhRLLscCEA0o6DaDJIIQAZQFakr4ghAUErzTXrwCEA2xqgN4DoJQBS1QvzLZQlAJs95nr+kCUBNuPEx+t0JQCMacE9s6QlAV0UNA3T9CUDJKGM7/UQKQKYX/SnpbwpANlevJDPRCkDfGqxfF+gKQF5AJ7htCgtAodDxvhWiC0CHTKd+e+wLQORgvMW9OQxAo/P58ehKDEAAKxds/kANQFw/LLNAjg1AZcxHhLqtDUBzMXXXWjEOQNP6k23wOQ5AJoKN47hnDkCyDDaPrw0PQA4hS9bxWg9Avd7K0VNqEEAQZsRHHJgQQPYYeflBWRFA82Nvqu6dEUCMMD12sh4SQE2vg+PwYRJANxdC5GneEkBJMXmGXR0TQBM928QVgBNAkNBUAeyPFEDZkjivTasWQL9F7WBzbBdAQXp5LbBpGEACUsy6VFAcQExMql+jXhxAqxXJ9ThnHEA=",
          "dtype": "f8"
         },
         "yaxis": "y"
        },
        {
         "hovertemplate": "sex=Male<br>smoker=Yes<br>total_bill=%{x}<br>tip=%{y}<extra></extra>",
         "legendgroup": "Male",
         "marker": {
          "color": "#EF553B",
          "symbol": "circle"
         },
         "mode": "markers",
         "name": "Male",
         "orientation": "v",
         "showlegend": false,
         "type": "scatter",
         "x": {
          "bdata": "4XoUrkcBQ0B7FK5H4XomQArXo3A9SjRAH4XrUbieK0AK16NwPQomQArXo3A9SjJAhetRuB4FLkDsUbgehesxQHE9CtejcDNA16NwPQpXQEC4HoXrUfg8QPYoXI/CFURASOF6FK5HO0CPwvUoXA8oQMP1KFyPAjVAuB6F61G4LkA9CtejcH00QPYoXI/CNTlAAAAAAAAAMEBI4XoUrmdJQB+F61G4ni9AAAAAAAAAHUCamZmZmdk/QFK4HoXr0TBAMzMzMzNzQECkcD0K1+MxQPYoXI/C9SxAcT0K16NQQUAzMzMzM1NBQBSuR+F6VDdAzczMzMysRkDsUbgehSs3QGZmZmZmRkRA9ihcj8J1PkCamZmZmRk3QOF6FK5HYS9AcT0K16NwPED2KFyPwvUuQBSuR+F6lDBArkfhehSuJECF61G4HgUrQPYoXI/CtTJASOF6FK6HNEDXo3A9Cpc6QD0K16NwXUNAhetRuB5FOECPwvUoXA8+QKRwPQrX4zlAZmZmZmYmPECuR+F6FC4nQPYoXI/C9R5AUrgehetRKEApXI/C9SghQNejcD0K1ypAw/UoXI8COEDhehSuR2EvQI/C9ShcDy9AMzMzMzMzKUAK16NwPWpAQOxRuB6FqzZA",
          "dtype": "f8"
         },
         "xaxis": "x2",
         "y": {
          "bdata": "AAAAAAAACEApXI/C9Sj8P65H4XoUrglAAAAAAAAAAECuR+F6FK7/PxSuR+F6FA5AuB6F61G4AECkcD0K16MIQAAAAAAAAAhAAAAAAAAAFEAAAAAAAAAIQOxRuB6F6xJAAAAAAAAAEEAAAAAAAAD4PwAAAAAAAAhAPQrXo3A9+j89CtejcD0QQClcj8L1KBFAAAAAAAAAAEAAAAAAAAAkQEjhehSuRwlAmpmZmZmZFEBxPQrXo3AJQAAAAAAAABBA4XoUrkfhCEAAAAAAAAAAQAAAAAAAAABAZmZmZmZmDEBxPQrXo3ANQJqZmZmZmRZAAAAAAAAADEAAAAAAAAAaQAAAAAAAAAhAAAAAAAAAAEAAAAAAAAAQQAAAAAAAAPg/exSuR+F6BEApXI/C9SgAQAAAAAAAABBAAAAAAAAAAEAAAAAAAAAAQAAAAAAAABBAAAAAAAAAEEBI4XoUrkcLQAAAAAAAAAhAPQrXo3A9AEAAAAAAAAAAQKRwPQrXoxRAAAAAAAAACEAAAAAAAAD4PwrXo3A9Cvc/mpmZmZmZAUC4HoXrUbj+P0jhehSuR/k/AAAAAAAAAEAAAAAAAAAIQAAAAAAAAAhAAAAAAAAA8D+4HoXrUbjyPwAAAAAAAABA",
          "dtype": "f8"
         },
         "yaxis": "y2"
        },
        {
         "hovertemplate": "<b>OLS trendline</b><br>tip = 0.0729605 * total_bill + 1.42528<br>R<sup>2</sup>=0.232398<br><br>sex=Male<br>smoker=Yes<br>total_bill=%{x}<br>tip=%{y} <b>(trend)</b><extra></extra>",
         "legendgroup": "Male",
         "marker": {
          "color": "#EF553B",
          "symbol": "circle"
         },
         "mode": "lines",
         "name": "Male",
         "showlegend": false,
         "type": "scatter",
         "x": {
          "bdata": "AAAAAAAAHUD2KFyPwvUeQClcj8L1KCFArkfhehSuJEAK16NwPQomQHsUrkfheiZArkfhehQuJ0CPwvUoXA8oQFK4HoXrUShAMzMzMzMzKUDXo3A9CtcqQIXrUbgeBStAH4XrUbieK0D2KFyPwvUsQIXrUbgeBS5AuB6F61G4LkD2KFyPwvUuQI/C9ShcDy9A4XoUrkdhL0DhehSuR2EvQB+F61G4ni9AAAAAAAAAMEAUrkfhepQwQFK4HoXr0TBApHA9CtfjMUDsUbgehesxQArXo3A9SjJA9ihcj8K1MkBxPQrXo3AzQArXo3A9SjRAPQrXo3B9NEBI4XoUroc0QMP1KFyPAjVA7FG4HoWrNkCamZmZmRk3QOxRuB6FKzdAFK5H4XpUN0DD9ShcjwI4QIXrUbgeRThA9ihcj8I1OUCkcD0K1+M5QNejcD0KlzpASOF6FK5HO0BmZmZmZiY8QHE9CtejcDxAuB6F61H4PECPwvUoXA8+QPYoXI/CdT5AmpmZmZnZP0DXo3A9CldAQArXo3A9akBAMzMzMzNzQEBxPQrXo1BBQDMzMzMzU0FA4XoUrkcBQ0A9CtejcF1DQPYoXI/CFURAZmZmZmZGREDNzMzMzKxGQEjhehSuZ0lA",
          "dtype": "f8"
         },
         "xaxis": "x2",
         "y": {
          "bdata": "YXnh/5NE/z8616c+A9f/P+jy/YsFaQBArKA9lAFwAUCgaRAjndUBQFlfGKR89gFAuDdf8cgqAkApI2/zh2wCQNAFrr/0fwJAQvG9wbPBAkDCEK2iOjwDQNQjdletSQNAuLhpB4F2A0DHDV8QntoDQEkMOMfPKQRAqOR+FBxeBEBqU+BaCnAEQOaWM/iCdwRAPdUKVmuPBEA91QpWa48EQP9DbJxZoQRAB97bi729BEAEIAjgZxQFQIj9ymxEOAVAcm5aYCbYBUAiyvLxodwFQEyK9ErrEwZA841JQa1SBkBimm9twb8GQJQV99/DPgdAgSNEVaZcB0AY87lsoGIHQB6uP4ZZqgdA69TYU2SiCEB2TAvQpOIIQL13GXka7QhAFLbw1gIFCUAIf8NlnmoJQFdEQf53kQlAmtKRJe0dCkCOm2S0iIMKQE1M8k4h7ApAJ4miYztTC0Aj7OThOtULQCIN+wuQAAxApAvUwsFPDEBZZB7CoPIMQDSAuKxlLg1AzW32Wxj+DUAzAcPCHXoOQKXLvJqHkA5A7PbKQ/2aDkD/SHK6fZ0PQMowLcZ6oA9A/KZqPEXLEEBC844PEAERQMyL17WlbBFA1CVHpQmJEUD2zOMkp+8SQK1kDOaThxRA",
          "dtype": "f8"
         },
         "yaxis": "y2"
        }
       ],
       "layout": {
        "annotations": [
         {
          "font": {},
          "showarrow": false,
          "text": "smoker=No",
          "x": 0.245,
          "xanchor": "center",
          "xref": "paper",
          "y": 1,
          "yanchor": "bottom",
          "yref": "paper"
         },
         {
          "font": {},
          "showarrow": false,
          "text": "smoker=Yes",
          "x": 0.755,
          "xanchor": "center",
          "xref": "paper",
          "y": 1,
          "yanchor": "bottom",
          "yref": "paper"
         }
        ],
        "legend": {
         "title": {
          "text": "sex"
         },
         "tracegroupgap": 0
        },
        "margin": {
         "t": 60
        },
        "template": {
         "data": {
          "bar": [
           {
            "error_x": {
             "color": "#2a3f5f"
            },
            "error_y": {
             "color": "#2a3f5f"
            },
            "marker": {
             "line": {
              "color": "#E5ECF6",
              "width": 0.5
             },
             "pattern": {
              "fillmode": "overlay",
              "size": 10,
              "solidity": 0.2
             }
            },
            "type": "bar"
           }
          ],
          "barpolar": [
           {
            "marker": {
             "line": {
              "color": "#E5ECF6",
              "width": 0.5
             },
             "pattern": {
              "fillmode": "overlay",
              "size": 10,
              "solidity": 0.2
             }
            },
            "type": "barpolar"
           }
          ],
          "carpet": [
           {
            "aaxis": {
             "endlinecolor": "#2a3f5f",
             "gridcolor": "white",
             "linecolor": "white",
             "minorgridcolor": "white",
             "startlinecolor": "#2a3f5f"
            },
            "baxis": {
             "endlinecolor": "#2a3f5f",
             "gridcolor": "white",
             "linecolor": "white",
             "minorgridcolor": "white",
             "startlinecolor": "#2a3f5f"
            },
            "type": "carpet"
           }
          ],
          "choropleth": [
           {
            "colorbar": {
             "outlinewidth": 0,
             "ticks": ""
            },
            "type": "choropleth"
           }
          ],
          "contour": [
           {
            "colorbar": {
             "outlinewidth": 0,
             "ticks": ""
            },
            "colorscale": [
             [
              0,
              "#0d0887"
             ],
             [
              0.1111111111111111,
              "#46039f"
             ],
             [
              0.2222222222222222,
              "#7201a8"
             ],
             [
              0.3333333333333333,
              "#9c179e"
             ],
             [
              0.4444444444444444,
              "#bd3786"
             ],
             [
              0.5555555555555556,
              "#d8576b"
             ],
             [
              0.6666666666666666,
              "#ed7953"
             ],
             [
              0.7777777777777778,
              "#fb9f3a"
             ],
             [
              0.8888888888888888,
              "#fdca26"
             ],
             [
              1,
              "#f0f921"
             ]
            ],
            "type": "contour"
           }
          ],
          "contourcarpet": [
           {
            "colorbar": {
             "outlinewidth": 0,
             "ticks": ""
            },
            "type": "contourcarpet"
           }
          ],
          "heatmap": [
           {
            "colorbar": {
             "outlinewidth": 0,
             "ticks": ""
            },
            "colorscale": [
             [
              0,
              "#0d0887"
             ],
             [
              0.1111111111111111,
              "#46039f"
             ],
             [
              0.2222222222222222,
              "#7201a8"
             ],
             [
              0.3333333333333333,
              "#9c179e"
             ],
             [
              0.4444444444444444,
              "#bd3786"
             ],
             [
              0.5555555555555556,
              "#d8576b"
             ],
             [
              0.6666666666666666,
              "#ed7953"
             ],
             [
              0.7777777777777778,
              "#fb9f3a"
             ],
             [
              0.8888888888888888,
              "#fdca26"
             ],
             [
              1,
              "#f0f921"
             ]
            ],
            "type": "heatmap"
           }
          ],
          "histogram": [
           {
            "marker": {
             "pattern": {
              "fillmode": "overlay",
              "size": 10,
              "solidity": 0.2
             }
            },
            "type": "histogram"
           }
          ],
          "histogram2d": [
           {
            "colorbar": {
             "outlinewidth": 0,
             "ticks": ""
            },
            "colorscale": [
             [
              0,
              "#0d0887"
             ],
             [
              0.1111111111111111,
              "#46039f"
             ],
             [
              0.2222222222222222,
              "#7201a8"
             ],
             [
              0.3333333333333333,
              "#9c179e"
             ],
             [
              0.4444444444444444,
              "#bd3786"
             ],
             [
              0.5555555555555556,
              "#d8576b"
             ],
             [
              0.6666666666666666,
              "#ed7953"
             ],
             [
              0.7777777777777778,
              "#fb9f3a"
             ],
             [
              0.8888888888888888,
              "#fdca26"
             ],
             [
              1,
              "#f0f921"
             ]
            ],
            "type": "histogram2d"
           }
          ],
          "histogram2dcontour": [
           {
            "colorbar": {
             "outlinewidth": 0,
             "ticks": ""
            },
            "colorscale": [
             [
              0,
              "#0d0887"
             ],
             [
              0.1111111111111111,
              "#46039f"
             ],
             [
              0.2222222222222222,
              "#7201a8"
             ],
             [
              0.3333333333333333,
              "#9c179e"
             ],
             [
              0.4444444444444444,
              "#bd3786"
             ],
             [
              0.5555555555555556,
              "#d8576b"
             ],
             [
              0.6666666666666666,
              "#ed7953"
             ],
             [
              0.7777777777777778,
              "#fb9f3a"
             ],
             [
              0.8888888888888888,
              "#fdca26"
             ],
             [
              1,
              "#f0f921"
             ]
            ],
            "type": "histogram2dcontour"
           }
          ],
          "mesh3d": [
           {
            "colorbar": {
             "outlinewidth": 0,
             "ticks": ""
            },
            "type": "mesh3d"
           }
          ],
          "parcoords": [
           {
            "line": {
             "colorbar": {
              "outlinewidth": 0,
              "ticks": ""
             }
            },
            "type": "parcoords"
           }
          ],
          "pie": [
           {
            "automargin": true,
            "type": "pie"
           }
          ],
          "scatter": [
           {
            "fillpattern": {
             "fillmode": "overlay",
             "size": 10,
             "solidity": 0.2
            },
            "type": "scatter"
           }
          ],
          "scatter3d": [
           {
            "line": {
             "colorbar": {
              "outlinewidth": 0,
              "ticks": ""
             }
            },
            "marker": {
             "colorbar": {
              "outlinewidth": 0,
              "ticks": ""
             }
            },
            "type": "scatter3d"
           }
          ],
          "scattercarpet": [
           {
            "marker": {
             "colorbar": {
              "outlinewidth": 0,
              "ticks": ""
             }
            },
            "type": "scattercarpet"
           }
          ],
          "scattergeo": [
           {
            "marker": {
             "colorbar": {
              "outlinewidth": 0,
              "ticks": ""
             }
            },
            "type": "scattergeo"
           }
          ],
          "scattergl": [
           {
            "marker": {
             "colorbar": {
              "outlinewidth": 0,
              "ticks": ""
             }
            },
            "type": "scattergl"
           }
          ],
          "scattermap": [
           {
            "marker": {
             "colorbar": {
              "outlinewidth": 0,
              "ticks": ""
             }
            },
            "type": "scattermap"
           }
          ],
          "scattermapbox": [
           {
            "marker": {
             "colorbar": {
              "outlinewidth": 0,
              "ticks": ""
             }
            },
            "type": "scattermapbox"
           }
          ],
          "scatterpolar": [
           {
            "marker": {
             "colorbar": {
              "outlinewidth": 0,
              "ticks": ""
             }
            },
            "type": "scatterpolar"
           }
          ],
          "scatterpolargl": [
           {
            "marker": {
             "colorbar": {
              "outlinewidth": 0,
              "ticks": ""
             }
            },
            "type": "scatterpolargl"
           }
          ],
          "scatterternary": [
           {
            "marker": {
             "colorbar": {
              "outlinewidth": 0,
              "ticks": ""
             }
            },
            "type": "scatterternary"
           }
          ],
          "surface": [
           {
            "colorbar": {
             "outlinewidth": 0,
             "ticks": ""
            },
            "colorscale": [
             [
              0,
              "#0d0887"
             ],
             [
              0.1111111111111111,
              "#46039f"
             ],
             [
              0.2222222222222222,
              "#7201a8"
             ],
             [
              0.3333333333333333,
              "#9c179e"
             ],
             [
              0.4444444444444444,
              "#bd3786"
             ],
             [
              0.5555555555555556,
              "#d8576b"
             ],
             [
              0.6666666666666666,
              "#ed7953"
             ],
             [
              0.7777777777777778,
              "#fb9f3a"
             ],
             [
              0.8888888888888888,
              "#fdca26"
             ],
             [
              1,
              "#f0f921"
             ]
            ],
            "type": "surface"
           }
          ],
          "table": [
           {
            "cells": {
             "fill": {
              "color": "#EBF0F8"
             },
             "line": {
              "color": "white"
             }
            },
            "header": {
             "fill": {
              "color": "#C8D4E3"
             },
             "line": {
              "color": "white"
             }
            },
            "type": "table"
           }
          ]
         },
         "layout": {
          "annotationdefaults": {
           "arrowcolor": "#2a3f5f",
           "arrowhead": 0,
           "arrowwidth": 1
          },
          "autotypenumbers": "strict",
          "coloraxis": {
           "colorbar": {
            "outlinewidth": 0,
            "ticks": ""
           }
          },
          "colorscale": {
           "diverging": [
            [
             0,
             "#8e0152"
            ],
            [
             0.1,
             "#c51b7d"
            ],
            [
             0.2,
             "#de77ae"
            ],
            [
             0.3,
             "#f1b6da"
            ],
            [
             0.4,
             "#fde0ef"
            ],
            [
             0.5,
             "#f7f7f7"
            ],
            [
             0.6,
             "#e6f5d0"
            ],
            [
             0.7,
             "#b8e186"
            ],
            [
             0.8,
             "#7fbc41"
            ],
            [
             0.9,
             "#4d9221"
            ],
            [
             1,
             "#276419"
            ]
           ],
           "sequential": [
            [
             0,
             "#0d0887"
            ],
            [
             0.1111111111111111,
             "#46039f"
            ],
            [
             0.2222222222222222,
             "#7201a8"
            ],
            [
             0.3333333333333333,
             "#9c179e"
            ],
            [
             0.4444444444444444,
             "#bd3786"
            ],
            [
             0.5555555555555556,
             "#d8576b"
            ],
            [
             0.6666666666666666,
             "#ed7953"
            ],
            [
             0.7777777777777778,
             "#fb9f3a"
            ],
            [
             0.8888888888888888,
             "#fdca26"
            ],
            [
             1,
             "#f0f921"
            ]
           ],
           "sequentialminus": [
            [
             0,
             "#0d0887"
            ],
            [
             0.1111111111111111,
             "#46039f"
            ],
            [
             0.2222222222222222,
             "#7201a8"
            ],
            [
             0.3333333333333333,
             "#9c179e"
            ],
            [
             0.4444444444444444,
             "#bd3786"
            ],
            [
             0.5555555555555556,
             "#d8576b"
            ],
            [
             0.6666666666666666,
             "#ed7953"
            ],
            [
             0.7777777777777778,
             "#fb9f3a"
            ],
            [
             0.8888888888888888,
             "#fdca26"
            ],
            [
             1,
             "#f0f921"
            ]
           ]
          },
          "colorway": [
           "#636efa",
           "#EF553B",
           "#00cc96",
           "#ab63fa",
           "#FFA15A",
           "#19d3f3",
           "#FF6692",
           "#B6E880",
           "#FF97FF",
           "#FECB52"
          ],
          "font": {
           "color": "#2a3f5f"
          },
          "geo": {
           "bgcolor": "white",
           "lakecolor": "white",
           "landcolor": "#E5ECF6",
           "showlakes": true,
           "showland": true,
           "subunitcolor": "white"
          },
          "hoverlabel": {
           "align": "left"
          },
          "hovermode": "closest",
          "mapbox": {
           "style": "light"
          },
          "paper_bgcolor": "white",
          "plot_bgcolor": "#E5ECF6",
          "polar": {
           "angularaxis": {
            "gridcolor": "white",
            "linecolor": "white",
            "ticks": ""
           },
           "bgcolor": "#E5ECF6",
           "radialaxis": {
            "gridcolor": "white",
            "linecolor": "white",
            "ticks": ""
           }
          },
          "scene": {
           "xaxis": {
            "backgroundcolor": "#E5ECF6",
            "gridcolor": "white",
            "gridwidth": 2,
            "linecolor": "white",
            "showbackground": true,
            "ticks": "",
            "zerolinecolor": "white"
           },
           "yaxis": {
            "backgroundcolor": "#E5ECF6",
            "gridcolor": "white",
            "gridwidth": 2,
            "linecolor": "white",
            "showbackground": true,
            "ticks": "",
            "zerolinecolor": "white"
           },
           "zaxis": {
            "backgroundcolor": "#E5ECF6",
            "gridcolor": "white",
            "gridwidth": 2,
            "linecolor": "white",
            "showbackground": true,
            "ticks": "",
            "zerolinecolor": "white"
           }
          },
          "shapedefaults": {
           "line": {
            "color": "#2a3f5f"
           }
          },
          "ternary": {
           "aaxis": {
            "gridcolor": "white",
            "linecolor": "white",
            "ticks": ""
           },
           "baxis": {
            "gridcolor": "white",
            "linecolor": "white",
            "ticks": ""
           },
           "bgcolor": "#E5ECF6",
           "caxis": {
            "gridcolor": "white",
            "linecolor": "white",
            "ticks": ""
           }
          },
          "title": {
           "x": 0.05
          },
          "xaxis": {
           "automargin": true,
           "gridcolor": "white",
           "linecolor": "white",
           "ticks": "",
           "title": {
            "standoff": 15
           },
           "zerolinecolor": "white",
           "zerolinewidth": 2
          },
          "yaxis": {
           "automargin": true,
           "gridcolor": "white",
           "linecolor": "white",
           "ticks": "",
           "title": {
            "standoff": 15
           },
           "zerolinecolor": "white",
           "zerolinewidth": 2
          }
         }
        },
        "xaxis": {
         "anchor": "y",
         "domain": [
          0,
          0.49
         ],
         "title": {
          "text": "total_bill"
         }
        },
        "xaxis2": {
         "anchor": "y2",
         "domain": [
          0.51,
          1
         ],
         "matches": "x",
         "title": {
          "text": "total_bill"
         }
        },
        "yaxis": {
         "anchor": "x",
         "domain": [
          0,
          1
         ],
         "title": {
          "text": "tip"
         }
        },
        "yaxis2": {
         "anchor": "x2",
         "domain": [
          0,
          1
         ],
         "matches": "y",
         "showticklabels": false
        }
       }
      }
     },
     "metadata": {},
     "output_type": "display_data"
    },
    {
     "name": "stdout",
     "output_type": "stream",
     "text": [
      "      sex smoker                                     px_fit_results\n",
      "0  Female     No  <statsmodels.regression.linear_model.Regressio...\n",
      "1  Female    Yes  <statsmodels.regression.linear_model.Regressio...\n",
      "2    Male     No  <statsmodels.regression.linear_model.Regressio...\n",
      "3    Male    Yes  <statsmodels.regression.linear_model.Regressio...\n"
     ]
    },
    {
     "data": {
      "text/html": [
       "<table class=\"simpletable\">\n",
       "<caption>OLS Regression Results</caption>\n",
       "<tr>\n",
       "  <th>Dep. Variable:</th>            <td>y</td>        <th>  R-squared:         </th> <td>   0.232</td>\n",
       "</tr>\n",
       "<tr>\n",
       "  <th>Model:</th>                   <td>OLS</td>       <th>  Adj. R-squared:    </th> <td>   0.219</td>\n",
       "</tr>\n",
       "<tr>\n",
       "  <th>Method:</th>             <td>Least Squares</td>  <th>  F-statistic:       </th> <td>   17.56</td>\n",
       "</tr>\n",
       "<tr>\n",
       "  <th>Date:</th>             <td>Thu, 23 Oct 2025</td> <th>  Prob (F-statistic):</th> <td>9.61e-05</td>\n",
       "</tr>\n",
       "<tr>\n",
       "  <th>Time:</th>                 <td>16:14:09</td>     <th>  Log-Likelihood:    </th> <td> -101.03</td>\n",
       "</tr>\n",
       "<tr>\n",
       "  <th>No. Observations:</th>      <td>    60</td>      <th>  AIC:               </th> <td>   206.1</td>\n",
       "</tr>\n",
       "<tr>\n",
       "  <th>Df Residuals:</th>          <td>    58</td>      <th>  BIC:               </th> <td>   210.2</td>\n",
       "</tr>\n",
       "<tr>\n",
       "  <th>Df Model:</th>              <td>     1</td>      <th>                     </th>     <td> </td>   \n",
       "</tr>\n",
       "<tr>\n",
       "  <th>Covariance Type:</th>      <td>nonrobust</td>    <th>                     </th>     <td> </td>   \n",
       "</tr>\n",
       "</table>\n",
       "<table class=\"simpletable\">\n",
       "<tr>\n",
       "    <td></td>       <th>coef</th>     <th>std err</th>      <th>t</th>      <th>P>|t|</th>  <th>[0.025</th>    <th>0.975]</th>  \n",
       "</tr>\n",
       "<tr>\n",
       "  <th>const</th> <td>    1.4253</td> <td>    0.424</td> <td>    3.361</td> <td> 0.001</td> <td>    0.576</td> <td>    2.274</td>\n",
       "</tr>\n",
       "<tr>\n",
       "  <th>x1</th>    <td>    0.0730</td> <td>    0.017</td> <td>    4.190</td> <td> 0.000</td> <td>    0.038</td> <td>    0.108</td>\n",
       "</tr>\n",
       "</table>\n",
       "<table class=\"simpletable\">\n",
       "<tr>\n",
       "  <th>Omnibus:</th>       <td>21.841</td> <th>  Durbin-Watson:     </th> <td>   1.383</td>\n",
       "</tr>\n",
       "<tr>\n",
       "  <th>Prob(Omnibus):</th> <td> 0.000</td> <th>  Jarque-Bera (JB):  </th> <td>  33.031</td>\n",
       "</tr>\n",
       "<tr>\n",
       "  <th>Skew:</th>          <td> 1.315</td> <th>  Prob(JB):          </th> <td>6.72e-08</td>\n",
       "</tr>\n",
       "<tr>\n",
       "  <th>Kurtosis:</th>      <td> 5.510</td> <th>  Cond. No.          </th> <td>    60.4</td>\n",
       "</tr>\n",
       "</table><br/><br/>Notes:<br/>[1] Standard Errors assume that the covariance matrix of the errors is correctly specified."
      ],
      "text/latex": [
       "\\begin{center}\n",
       "\\begin{tabular}{lclc}\n",
       "\\toprule\n",
       "\\textbf{Dep. Variable:}    &        y         & \\textbf{  R-squared:         } &     0.232   \\\\\n",
       "\\textbf{Model:}            &       OLS        & \\textbf{  Adj. R-squared:    } &     0.219   \\\\\n",
       "\\textbf{Method:}           &  Least Squares   & \\textbf{  F-statistic:       } &     17.56   \\\\\n",
       "\\textbf{Date:}             & Thu, 23 Oct 2025 & \\textbf{  Prob (F-statistic):} &  9.61e-05   \\\\\n",
       "\\textbf{Time:}             &     16:14:09     & \\textbf{  Log-Likelihood:    } &   -101.03   \\\\\n",
       "\\textbf{No. Observations:} &          60      & \\textbf{  AIC:               } &     206.1   \\\\\n",
       "\\textbf{Df Residuals:}     &          58      & \\textbf{  BIC:               } &     210.2   \\\\\n",
       "\\textbf{Df Model:}         &           1      & \\textbf{                     } &             \\\\\n",
       "\\textbf{Covariance Type:}  &    nonrobust     & \\textbf{                     } &             \\\\\n",
       "\\bottomrule\n",
       "\\end{tabular}\n",
       "\\begin{tabular}{lcccccc}\n",
       "               & \\textbf{coef} & \\textbf{std err} & \\textbf{t} & \\textbf{P$> |$t$|$} & \\textbf{[0.025} & \\textbf{0.975]}  \\\\\n",
       "\\midrule\n",
       "\\textbf{const} &       1.4253  &        0.424     &     3.361  &         0.001        &        0.576    &        2.274     \\\\\n",
       "\\textbf{x1}    &       0.0730  &        0.017     &     4.190  &         0.000        &        0.038    &        0.108     \\\\\n",
       "\\bottomrule\n",
       "\\end{tabular}\n",
       "\\begin{tabular}{lclc}\n",
       "\\textbf{Omnibus:}       & 21.841 & \\textbf{  Durbin-Watson:     } &    1.383  \\\\\n",
       "\\textbf{Prob(Omnibus):} &  0.000 & \\textbf{  Jarque-Bera (JB):  } &   33.031  \\\\\n",
       "\\textbf{Skew:}          &  1.315 & \\textbf{  Prob(JB):          } & 6.72e-08  \\\\\n",
       "\\textbf{Kurtosis:}      &  5.510 & \\textbf{  Cond. No.          } &     60.4  \\\\\n",
       "\\bottomrule\n",
       "\\end{tabular}\n",
       "%\\caption{OLS Regression Results}\n",
       "\\end{center}\n",
       "\n",
       "Notes: \\newline\n",
       " [1] Standard Errors assume that the covariance matrix of the errors is correctly specified."
      ],
      "text/plain": [
       "<class 'statsmodels.iolib.summary.Summary'>\n",
       "\"\"\"\n",
       "                            OLS Regression Results                            \n",
       "==============================================================================\n",
       "Dep. Variable:                      y   R-squared:                       0.232\n",
       "Model:                            OLS   Adj. R-squared:                  0.219\n",
       "Method:                 Least Squares   F-statistic:                     17.56\n",
       "Date:                Thu, 23 Oct 2025   Prob (F-statistic):           9.61e-05\n",
       "Time:                        16:14:09   Log-Likelihood:                -101.03\n",
       "No. Observations:                  60   AIC:                             206.1\n",
       "Df Residuals:                      58   BIC:                             210.2\n",
       "Df Model:                           1                                         \n",
       "Covariance Type:            nonrobust                                         \n",
       "==============================================================================\n",
       "                 coef    std err          t      P>|t|      [0.025      0.975]\n",
       "------------------------------------------------------------------------------\n",
       "const          1.4253      0.424      3.361      0.001       0.576       2.274\n",
       "x1             0.0730      0.017      4.190      0.000       0.038       0.108\n",
       "==============================================================================\n",
       "Omnibus:                       21.841   Durbin-Watson:                   1.383\n",
       "Prob(Omnibus):                  0.000   Jarque-Bera (JB):               33.031\n",
       "Skew:                           1.315   Prob(JB):                     6.72e-08\n",
       "Kurtosis:                       5.510   Cond. No.                         60.4\n",
       "==============================================================================\n",
       "\n",
       "Notes:\n",
       "[1] Standard Errors assume that the covariance matrix of the errors is correctly specified.\n",
       "\"\"\""
      ]
     },
     "execution_count": 8,
     "metadata": {},
     "output_type": "execute_result"
    }
   ],
   "source": [
    "import plotly.express as px\n",
    "\n",
    "df = px.data.tips()\n",
    "fig = px.scatter(\n",
    "    df, x=\"total_bill\", y=\"tip\", facet_col=\"smoker\", color=\"sex\", trendline=\"ols\"\n",
    ")\n",
    "fig.show()\n",
    "\n",
    "results = px.get_trendline_results(fig)\n",
    "print(results)\n",
    "\n",
    "results.query(\"sex == 'Male' and smoker == 'Yes'\").px_fit_results.iloc[0].summary()"
   ]
  },
  {
   "cell_type": "code",
   "execution_count": 9,
   "id": "2226bdd6",
   "metadata": {},
   "outputs": [
    {
     "data": {
      "application/vnd.plotly.v1+json": {
       "config": {
        "plotlyServerURL": "https://plot.ly"
       },
       "data": [
        {
         "hovertemplate": "gdpPercap=%{x}<br>lifeExp=%{y}<extra></extra>",
         "legendgroup": "",
         "marker": {
          "color": "#636efa",
          "symbol": "circle"
         },
         "mode": "markers",
         "name": "",
         "orientation": "v",
         "showlegend": false,
         "type": "scatter",
         "x": {
          "bdata": "54R1iKR0jkBgFASPBzG3QG2tLxJeT7hApWlQNDu9skAgJAuYsPXIQOeHEcJr0OBAWMoyxM+j4UDGpwAYAxndQPLPDOIDvZVAb7vQXJNz4EAOar+1I4WWQJzB3y9G3K1A8nhafkwWvUDboswG7YzIQGkAb4HmtMFAzzEge2XcxEDb2y3JIQSTQKHhg40h4XpAat/cXx3HmkAWNZiGYeifQAexM4Xnu+FAZJEm3iEQhkDiP91AQaCaQIY41sXRuclA0V0SZx1fs0D67laWlF67QBI+Stsu0Y5ANsjJadRYcUCMD7OXHWGsQKlNnNyH1sJAWTFcHQAjmEAUxhaCnI3MQIGzlCwNesFAH7qgvlNM1kCxbVFmzTnhQKwn84/2RKBAHkC/71+Jt0Dl9ssnQ9m6QKSK4lUuzbVArrzkf1pgtkBoke18C73HQM8Iysj0CoRAkQfH0XGWhUD5oGez4jbgQHbgnBGBwd1AIVnABD7LyUCOc5tw/4WHQL5Nf/aXat9A1GAahm++lEB47j1cmuTaQLQh/8wMQrRAcXkH0zt1jUCc8BKc2hmCQBAiGXKMxpJACJylZKm4q0Byv0NRn2XjQEJ4tHE8ltFAC2MLQZmq4UCzX3e6ayijQIDuy5lNqatAqYdodNuqxkBtVRLZD3exQCxlGeJ/3ONAbqMBvNHs2EC8lpAPbubbQOu12VjhmLxAi1QYWwTq3kDdek0PdqexQO3Vx0P/3JZAK2owDUPkmEATGVbxCM3WQEgbR6xfGedAd4TTgoduxEAVGohlU4WYQHXmHhIe6HlAxjNo6L+Mx0Ay/+ibFFOQQFKgqp3MuodAXCBB8dNRyEAKn62DU0qQQOZ1xCGbLJxANSkF3X5mxUBBDkqYyWTHQE7BGmeLL6hAS+fDs/ISwkCOHr+3WditQL3HmSZ8vYlAAAAAAACAjUC7YkZ4D8uyQEjfpGlwDZFAlufB3b334UAEHEKVQJjYQFJEhlWkeqVASAeQRmpdg0DeVKTC6HefQFZl3xWmGehAmGn7VwzL1UCwrDQp5VukQHui68KXKMNA4KKTpdZMsECIf9jS5/C8QLWpukf27KhAowvqW/YOzkBVTRB1aQfUQKJ6a2At4NJA3Qn2Xx/2vUDT2cngPBzFQAWrjyy1+IpAZof4h735mEAPRYE+tSXVQA+dnnfjwZpAWyOCcUQdw0DoJO93U/SKQKJinL/lBOdAYHZPHpQ90kByxFp8ECrZQAW4augg8YxAhnMNM9QawkAwKqkTRCXcQJ6xL9kwBK9AK97IPMpUpEANbmsLe6GxQP+ye/J3iOBAGH0FaU1Q4kBMio9PjFiwQI4ev7eRC9xA4UIewe1NkUCDr691ZSK9QKkf5XHCl4tAdF5jlyCW0UBkzF1L7LS7QJIIjWAjhcBAF35wPoWBkEDj32dcaDbgQOv/HOb0+ORAMJ5BQ7u5xEBblNkg50vGQJHSbB4nE6NAajS5GLOip0D9hR4xitGhQEDc1avY3JNA2On2SFlbfUA=",
          "dtype": "f8"
         },
         "xaxis": "x",
         "y": {
          "bdata": "RIts5/vpRUBQjZduEhtTQCUGgZVDE1JAIbByaJFdRUAUrkfhetRSQNejcD0KT1RAkxgEVg71U0BxPQrXo+hSQIcW2c73A1BATmIQWDncU0B3vp8aL11MQPp+arx0Y1BASgwCK4e2UkB3vp8aL11JQClcj8L1GFJAuB6F61FAUkD2KFyPwiVKQArXo3A9ykhABoGVQ4vcTUDXo3A9CjdJQG8Sg8DKKVRAAyuHFtleRkAX2c73U1NJQAisHFpko1NAL90kBoE9UkA3iUFg5ThSQH0/NV66SVBAQmDl0CI7R0Dwp8ZLN6lLQDVeukkMslNARIts5/spSEAdWmQ73+9SQLbz/dR4kVNAyXa+nxofU0Boke18P5VTQGiR7Xw/ZUtA16NwPQoPUkBWDi2ynb9SQBSDwMqh1VFA1XjpJjH4UUAmMQisHMpJQIXrUbgeBU1A8KfGSzd5SkB56SYxCNRTQDVeukkMKlRArkfhehReTEDTTWIQWLlNQESLbOf72VNAiUFg5dACTkD0/dR46d5TQH9qvHSTkFFAN4lBYOUATECNbOf7qTFHQGiR7Xw/dU5A6iYxCKyMUUBaZDvfT41UQBSDwMqhVVJAnMQgsHJwVEDqJjEIrCxQQJqZmZmZqVFABFYOLbK9UUD2KFyPwsVNQHE9CtejuFNASOF6FK4vVEBt5/up8SJUQD81XrpJJFJAO99PjZemVEAK16NwPSJSQK5H4XoUDktAXrpJDALTUEAdWmQ736dTQBSDwMqhZVNAZDvfT43/UUCyne+nxktFQBBYObTI1kZAsHJoke18UkBkEFg5tLhNQBBYObTIJkhAgZVDi2yPUkCyne+nxjtLQNEi2/l+ClBAJQaBlUMzUkAUrkfhegxTQAisHFpks1BAmG4Sg8CiUkDRItv5fspRQNEi2/l+CkVARrbz/dQIT0CJFtnO93NKQBSuR+F65E9AVOOlm8TwU0CTGARWDg1UQKjGSzeJOVJA5dAi2/luTEDLoUW2821HQAaBlUOLDFRAKVyPwvXoUkD0/dR46V5QQOx8PzVe4lJA46WbxCDwUUBt5/up8dpRQHnpJjEI7FFAeekmMQjkUkCDwMqhRYZTQDu0yHa+r1NAPzVeukkcU0BYObTIdh5SQOXQItv5HkdAbxKDwMphUEB9PzVeujFSQA4tsp3vh09A46WbxCCAUkBkEFg5tEhFQJHtfD81/lNA30+Nl26qUkAlBoGVQ3tTQDEIrBxaFEhACKwcWmSrSEBOYhBYOTxUQNNNYhBYGVJAukkMAitHTUBYObTIds5DQH9qvHSTOFRAwJ8aL91sVED+1HjpJolSQJqZmZmZmVNAGQRWDi1CSkCBlUOLbKdRQPYoXI/CNU1AI9v5fmp0UUBQjZduEntSQH0/NV668VFATDeJQWDFSUAzMzMzM9tTQHNoke18j1NAf2q8dJMYU0ArhxbZzm9SQA4tsp3vj1JAXrpJDAJbUkDTTWIQWFlPQP3UeOkmMUVAdZMYBFa+RUA=",
          "dtype": "f8"
         },
         "yaxis": "y"
        },
        {
         "hovertemplate": "<b>OLS trendline</b><br>lifeExp = 16.5851 * log10(gdpPercap) + 4.94961<br>R<sup>2</sup>=0.654449<br><br>gdpPercap=%{x}<br>lifeExp=%{y} <b>(trend)</b><extra></extra>",
         "legendgroup": "",
         "marker": {
          "color": "#636efa",
          "symbol": "circle"
         },
         "mode": "lines",
         "name": "",
         "showlegend": false,
         "type": "scatter",
         "x": {
          "bdata": "NsjJadRYcUB15h4SHuh5QKHhg40h4XpA2On2SFlbfUCc8BKc2hmCQEgHkEZqXYNAzwjKyPQKhECRB8fRcZaFQGSRJt4hEIZAjnObcP+Fh0BSoKqdzLqHQL3HmSZ8vYlA6CTvd1P0ikAFq48stfiKQKkf5XHCl4tABbhq6CDxjEBxeQfTO3WNQAAAAAAAgI1A54R1iKR0jkASPkrbLtGOQAqfrYNTSpBAMv/omxRTkEAXfnA+hYGQQEjfpGlwDZFA4UIewe1NkUAQIhlyjMaSQNvbLckhBJNAQNzVq9jck0DUYBqGb76UQPLPDOIDvZVADmq/tSOFlkDt1cdD/9yWQFkxXB0AI5hAFRqIZVOFmEArajANQ+SYQGaH+Ie9+ZhA4j/dQEGgmkAPnZ5348GaQGrf3F8dx5pA5nXEIZssnEDeVKTC6HefQBY1mIZh6J9ArCfzj/ZEoED9hR4xitGhQJHSbB4nE6NAs193umsoo0Ar3sg8ylSkQLCsNCnlW6RAUkSGVaR6pUBqNLkYs6KnQE7BGmeLL6hAtam6R/bsqECA7suZTamrQAicpWSpuKtAjA+zlx1hrECOHr+3WditQJzB3y9G3K1AnrEv2TAEr0DgopOl1kywQEyKj0+MWLBAbVUS2Q93sUANbmsLe6GxQN16TQ92p7FApWlQNDu9skC7YkZ4D8uyQNFdEmcdX7NAtCH/zAxCtECkiuJVLs21QK685H9aYLZAYBQEjwcxt0AeQL/vX4m3QG2tLxJeT7hA5fbLJ0PZukD67laWlF67QGTMXUvstLtA67XZWOGYvECIf9jS5/C8QPJ4Wn5MFr1Ag6+vdWUivUDdCfZfH/a9QJIIjWAjhcBAgbOULA16wUBpAG+B5rTBQEvnw7PyEsJAhnMNM9QawkCpTZzch9bCQFsjgnFEHcNAe6Lrwpcow0B3hNOCh27EQDCeQUO7ucRAzzEge2XcxEDT2cngPBzFQDUpBd1+ZsVAW5TZIOdLxkCph2h026rGQEEOSpjJZMdAxjNo6L+Mx0Boke18C73HQFwgQfHTUchA26LMBu2MyEAgJAuYsPXIQIY41sXRuclAIVnABD7LyUAUxhaCnI3MQKML6lv2Ds5AdF5jlyCW0UBCeLRxPJbRQGB2Tx6UPdJAonprYC3g0kBVTRB1aQfUQA9FgT61JdVAmGn7VwzL1UAfuqC+U0zWQBMZVvEIzdZABBxClUCY2EBuowG80ezYQHLEWnwQKtlAeO49XJrk2kC8lpAPbubbQI4ev7eRC9xAMCqpE0Ql3EDGpwAYAxndQHbgnBGBwd1Ai1QYWwTq3kC+TX/2l2rfQOPfZ1xoNuBA+aBns+I24EBvu9Bck3PgQP+ye/J3iOBA54cRwmvQ4ECxbVFmzTnhQFjKMsTPo+FAC2MLQZmq4UAHsTOF57vhQJbnwd299+FAGH0FaU1Q4kByv0NRn2XjQCxlGeJ/3ONA6/8c5vT45ECiYpy/5QTnQEgbR6xfGedAVmXfFaYZ6EA=",
          "dtype": "f8"
         },
         "xaxis": "x",
         "y": {
          "bdata": "gnj/Hn+8RkBCiH9ERy5IQIKxPMJCUEhAth9VcYuhSEAoiN/ZxmJJQDT5NT8BoUlAnEx2K7rASUDKgDdiLwVKQBYHs/xDGUpA8vafk1tUSkDuu/0DaFxKQFhr2r9ip0pA9Cyjy+HRSkBmk7Wed9JKQLzmicN250pAmOIzV3kTS0AIF52JxCNLQCh1X0EVJUtA+uHazXlCS0CizwC1Wk1LQD6mcwepgEtARr459peCS0Bqu+tHyIxLQOBWb/7QqktADgQSLla4S0DOVjuIkANMQNYyPFJND0xAYJduH3U3TECEC8+Wel9MQIx6IX2mikxAnusxCjmrTEBwUnK/KrlMQKKlQrwj60xAWMWo7rH5TEBYy5q3iAdNQCxuo+qiCk1APsD5GaJFTUAC8lDYK0pNQJKK/dnfSk1Ati52EL55TUAuM1tDsN9NQBgwG6l47E1AZLVd4Ib+TUCuZ0iwYVJOQK7OBQYykU5ARIlZwTOVTkAipO9rAcxOQKjjVmZDzU5AVo5+I6T+TkB24DX12FZPQKbEUvgPbE9AZPUcT9iHT0CAdPRb2+dPQLKwjrXa6U9ATjp5tHv/T0AyaOPI9BZQQHyop18xF1BASOMMeLMoUEC70CcnqT9QQOuVZtjzQFBAgT3zXXtfUEDyfhu01WNQQFer8/dxZFBAgcFo2vB/UECtesaORIFQQCpnk249j1BAPLj0092jUECvUVkgt8VQQNrIr6220VBApVqgMTXiUEAd8NtMBOlQQC0Nq8Lr91BARJcafrUlUUCTZtmVkC5RQGcw0PM1NFFAIuN//cpCUUCCKvZ4TUhRQPXUGJWfSlFAM4a4Jl9LUUBbFPSGRlhRQLAFn3xdhVFAtk9XCFGfUUCrslAnV6VRQKMZY4/OrlFAHFcNZJevUUAOr8tc5MFRQPy4/cOayFFAmE/qlavJUUAYa0FxVOdRQEdajRDp7VFAkx/0k+nwUUDNeH32Y/ZRQFzApneu/FFAxQXfZpcPUkAApTBuMhdSQCVP5FC8JVJAdehmKs0oUkBeYATDeixSQK1uHjGhN1JALme1HPw7UkCqYt4Gm0NSQOaEW9mKUVJARpCQosJSUkDJ3K37m4FSQDENkt9KmVJARbQtDbrhUkBizEDnvOFSQO4FZamP8lJAgxoP+FYCU0CMM452rR1TQCHZK125NlNASAg1l5dEU0AM1kr1Jk9TQDLyaTxuWVNAVUHsYFd8U0DCAUPefYJTQC6VtyvlhlNAl6ZtnYWlU0D3a8VYeLZTQNny5GPcuFNAiTZzA4K6U0Bw5QIl2MlTQIGYkbsn1FNA66xnLMLlU0DDUHwMMO1TQCr8+G/B+1NAox5TBs/7U0B7t3X3fwJUQFGzRfPHBFRAsNIySI0MVEAYvuqisxdUQPKVuvymIlRA0HoFOFgjVEBiRtTsGiVUQMaAEy4kK1RAXElBse4zVEBVTIGKbE5UQPi7Wm9UWVRAeFsFlWxyVEB4AycOWZ1UQIrdj2bynlRAPrsLDYGyVEA=",
          "dtype": "f8"
         },
         "yaxis": "y"
        }
       ],
       "layout": {
        "legend": {
         "tracegroupgap": 0
        },
        "template": {
         "data": {
          "bar": [
           {
            "error_x": {
             "color": "#2a3f5f"
            },
            "error_y": {
             "color": "#2a3f5f"
            },
            "marker": {
             "line": {
              "color": "#E5ECF6",
              "width": 0.5
             },
             "pattern": {
              "fillmode": "overlay",
              "size": 10,
              "solidity": 0.2
             }
            },
            "type": "bar"
           }
          ],
          "barpolar": [
           {
            "marker": {
             "line": {
              "color": "#E5ECF6",
              "width": 0.5
             },
             "pattern": {
              "fillmode": "overlay",
              "size": 10,
              "solidity": 0.2
             }
            },
            "type": "barpolar"
           }
          ],
          "carpet": [
           {
            "aaxis": {
             "endlinecolor": "#2a3f5f",
             "gridcolor": "white",
             "linecolor": "white",
             "minorgridcolor": "white",
             "startlinecolor": "#2a3f5f"
            },
            "baxis": {
             "endlinecolor": "#2a3f5f",
             "gridcolor": "white",
             "linecolor": "white",
             "minorgridcolor": "white",
             "startlinecolor": "#2a3f5f"
            },
            "type": "carpet"
           }
          ],
          "choropleth": [
           {
            "colorbar": {
             "outlinewidth": 0,
             "ticks": ""
            },
            "type": "choropleth"
           }
          ],
          "contour": [
           {
            "colorbar": {
             "outlinewidth": 0,
             "ticks": ""
            },
            "colorscale": [
             [
              0,
              "#0d0887"
             ],
             [
              0.1111111111111111,
              "#46039f"
             ],
             [
              0.2222222222222222,
              "#7201a8"
             ],
             [
              0.3333333333333333,
              "#9c179e"
             ],
             [
              0.4444444444444444,
              "#bd3786"
             ],
             [
              0.5555555555555556,
              "#d8576b"
             ],
             [
              0.6666666666666666,
              "#ed7953"
             ],
             [
              0.7777777777777778,
              "#fb9f3a"
             ],
             [
              0.8888888888888888,
              "#fdca26"
             ],
             [
              1,
              "#f0f921"
             ]
            ],
            "type": "contour"
           }
          ],
          "contourcarpet": [
           {
            "colorbar": {
             "outlinewidth": 0,
             "ticks": ""
            },
            "type": "contourcarpet"
           }
          ],
          "heatmap": [
           {
            "colorbar": {
             "outlinewidth": 0,
             "ticks": ""
            },
            "colorscale": [
             [
              0,
              "#0d0887"
             ],
             [
              0.1111111111111111,
              "#46039f"
             ],
             [
              0.2222222222222222,
              "#7201a8"
             ],
             [
              0.3333333333333333,
              "#9c179e"
             ],
             [
              0.4444444444444444,
              "#bd3786"
             ],
             [
              0.5555555555555556,
              "#d8576b"
             ],
             [
              0.6666666666666666,
              "#ed7953"
             ],
             [
              0.7777777777777778,
              "#fb9f3a"
             ],
             [
              0.8888888888888888,
              "#fdca26"
             ],
             [
              1,
              "#f0f921"
             ]
            ],
            "type": "heatmap"
           }
          ],
          "histogram": [
           {
            "marker": {
             "pattern": {
              "fillmode": "overlay",
              "size": 10,
              "solidity": 0.2
             }
            },
            "type": "histogram"
           }
          ],
          "histogram2d": [
           {
            "colorbar": {
             "outlinewidth": 0,
             "ticks": ""
            },
            "colorscale": [
             [
              0,
              "#0d0887"
             ],
             [
              0.1111111111111111,
              "#46039f"
             ],
             [
              0.2222222222222222,
              "#7201a8"
             ],
             [
              0.3333333333333333,
              "#9c179e"
             ],
             [
              0.4444444444444444,
              "#bd3786"
             ],
             [
              0.5555555555555556,
              "#d8576b"
             ],
             [
              0.6666666666666666,
              "#ed7953"
             ],
             [
              0.7777777777777778,
              "#fb9f3a"
             ],
             [
              0.8888888888888888,
              "#fdca26"
             ],
             [
              1,
              "#f0f921"
             ]
            ],
            "type": "histogram2d"
           }
          ],
          "histogram2dcontour": [
           {
            "colorbar": {
             "outlinewidth": 0,
             "ticks": ""
            },
            "colorscale": [
             [
              0,
              "#0d0887"
             ],
             [
              0.1111111111111111,
              "#46039f"
             ],
             [
              0.2222222222222222,
              "#7201a8"
             ],
             [
              0.3333333333333333,
              "#9c179e"
             ],
             [
              0.4444444444444444,
              "#bd3786"
             ],
             [
              0.5555555555555556,
              "#d8576b"
             ],
             [
              0.6666666666666666,
              "#ed7953"
             ],
             [
              0.7777777777777778,
              "#fb9f3a"
             ],
             [
              0.8888888888888888,
              "#fdca26"
             ],
             [
              1,
              "#f0f921"
             ]
            ],
            "type": "histogram2dcontour"
           }
          ],
          "mesh3d": [
           {
            "colorbar": {
             "outlinewidth": 0,
             "ticks": ""
            },
            "type": "mesh3d"
           }
          ],
          "parcoords": [
           {
            "line": {
             "colorbar": {
              "outlinewidth": 0,
              "ticks": ""
             }
            },
            "type": "parcoords"
           }
          ],
          "pie": [
           {
            "automargin": true,
            "type": "pie"
           }
          ],
          "scatter": [
           {
            "fillpattern": {
             "fillmode": "overlay",
             "size": 10,
             "solidity": 0.2
            },
            "type": "scatter"
           }
          ],
          "scatter3d": [
           {
            "line": {
             "colorbar": {
              "outlinewidth": 0,
              "ticks": ""
             }
            },
            "marker": {
             "colorbar": {
              "outlinewidth": 0,
              "ticks": ""
             }
            },
            "type": "scatter3d"
           }
          ],
          "scattercarpet": [
           {
            "marker": {
             "colorbar": {
              "outlinewidth": 0,
              "ticks": ""
             }
            },
            "type": "scattercarpet"
           }
          ],
          "scattergeo": [
           {
            "marker": {
             "colorbar": {
              "outlinewidth": 0,
              "ticks": ""
             }
            },
            "type": "scattergeo"
           }
          ],
          "scattergl": [
           {
            "marker": {
             "colorbar": {
              "outlinewidth": 0,
              "ticks": ""
             }
            },
            "type": "scattergl"
           }
          ],
          "scattermap": [
           {
            "marker": {
             "colorbar": {
              "outlinewidth": 0,
              "ticks": ""
             }
            },
            "type": "scattermap"
           }
          ],
          "scattermapbox": [
           {
            "marker": {
             "colorbar": {
              "outlinewidth": 0,
              "ticks": ""
             }
            },
            "type": "scattermapbox"
           }
          ],
          "scatterpolar": [
           {
            "marker": {
             "colorbar": {
              "outlinewidth": 0,
              "ticks": ""
             }
            },
            "type": "scatterpolar"
           }
          ],
          "scatterpolargl": [
           {
            "marker": {
             "colorbar": {
              "outlinewidth": 0,
              "ticks": ""
             }
            },
            "type": "scatterpolargl"
           }
          ],
          "scatterternary": [
           {
            "marker": {
             "colorbar": {
              "outlinewidth": 0,
              "ticks": ""
             }
            },
            "type": "scatterternary"
           }
          ],
          "surface": [
           {
            "colorbar": {
             "outlinewidth": 0,
             "ticks": ""
            },
            "colorscale": [
             [
              0,
              "#0d0887"
             ],
             [
              0.1111111111111111,
              "#46039f"
             ],
             [
              0.2222222222222222,
              "#7201a8"
             ],
             [
              0.3333333333333333,
              "#9c179e"
             ],
             [
              0.4444444444444444,
              "#bd3786"
             ],
             [
              0.5555555555555556,
              "#d8576b"
             ],
             [
              0.6666666666666666,
              "#ed7953"
             ],
             [
              0.7777777777777778,
              "#fb9f3a"
             ],
             [
              0.8888888888888888,
              "#fdca26"
             ],
             [
              1,
              "#f0f921"
             ]
            ],
            "type": "surface"
           }
          ],
          "table": [
           {
            "cells": {
             "fill": {
              "color": "#EBF0F8"
             },
             "line": {
              "color": "white"
             }
            },
            "header": {
             "fill": {
              "color": "#C8D4E3"
             },
             "line": {
              "color": "white"
             }
            },
            "type": "table"
           }
          ]
         },
         "layout": {
          "annotationdefaults": {
           "arrowcolor": "#2a3f5f",
           "arrowhead": 0,
           "arrowwidth": 1
          },
          "autotypenumbers": "strict",
          "coloraxis": {
           "colorbar": {
            "outlinewidth": 0,
            "ticks": ""
           }
          },
          "colorscale": {
           "diverging": [
            [
             0,
             "#8e0152"
            ],
            [
             0.1,
             "#c51b7d"
            ],
            [
             0.2,
             "#de77ae"
            ],
            [
             0.3,
             "#f1b6da"
            ],
            [
             0.4,
             "#fde0ef"
            ],
            [
             0.5,
             "#f7f7f7"
            ],
            [
             0.6,
             "#e6f5d0"
            ],
            [
             0.7,
             "#b8e186"
            ],
            [
             0.8,
             "#7fbc41"
            ],
            [
             0.9,
             "#4d9221"
            ],
            [
             1,
             "#276419"
            ]
           ],
           "sequential": [
            [
             0,
             "#0d0887"
            ],
            [
             0.1111111111111111,
             "#46039f"
            ],
            [
             0.2222222222222222,
             "#7201a8"
            ],
            [
             0.3333333333333333,
             "#9c179e"
            ],
            [
             0.4444444444444444,
             "#bd3786"
            ],
            [
             0.5555555555555556,
             "#d8576b"
            ],
            [
             0.6666666666666666,
             "#ed7953"
            ],
            [
             0.7777777777777778,
             "#fb9f3a"
            ],
            [
             0.8888888888888888,
             "#fdca26"
            ],
            [
             1,
             "#f0f921"
            ]
           ],
           "sequentialminus": [
            [
             0,
             "#0d0887"
            ],
            [
             0.1111111111111111,
             "#46039f"
            ],
            [
             0.2222222222222222,
             "#7201a8"
            ],
            [
             0.3333333333333333,
             "#9c179e"
            ],
            [
             0.4444444444444444,
             "#bd3786"
            ],
            [
             0.5555555555555556,
             "#d8576b"
            ],
            [
             0.6666666666666666,
             "#ed7953"
            ],
            [
             0.7777777777777778,
             "#fb9f3a"
            ],
            [
             0.8888888888888888,
             "#fdca26"
            ],
            [
             1,
             "#f0f921"
            ]
           ]
          },
          "colorway": [
           "#636efa",
           "#EF553B",
           "#00cc96",
           "#ab63fa",
           "#FFA15A",
           "#19d3f3",
           "#FF6692",
           "#B6E880",
           "#FF97FF",
           "#FECB52"
          ],
          "font": {
           "color": "#2a3f5f"
          },
          "geo": {
           "bgcolor": "white",
           "lakecolor": "white",
           "landcolor": "#E5ECF6",
           "showlakes": true,
           "showland": true,
           "subunitcolor": "white"
          },
          "hoverlabel": {
           "align": "left"
          },
          "hovermode": "closest",
          "mapbox": {
           "style": "light"
          },
          "paper_bgcolor": "white",
          "plot_bgcolor": "#E5ECF6",
          "polar": {
           "angularaxis": {
            "gridcolor": "white",
            "linecolor": "white",
            "ticks": ""
           },
           "bgcolor": "#E5ECF6",
           "radialaxis": {
            "gridcolor": "white",
            "linecolor": "white",
            "ticks": ""
           }
          },
          "scene": {
           "xaxis": {
            "backgroundcolor": "#E5ECF6",
            "gridcolor": "white",
            "gridwidth": 2,
            "linecolor": "white",
            "showbackground": true,
            "ticks": "",
            "zerolinecolor": "white"
           },
           "yaxis": {
            "backgroundcolor": "#E5ECF6",
            "gridcolor": "white",
            "gridwidth": 2,
            "linecolor": "white",
            "showbackground": true,
            "ticks": "",
            "zerolinecolor": "white"
           },
           "zaxis": {
            "backgroundcolor": "#E5ECF6",
            "gridcolor": "white",
            "gridwidth": 2,
            "linecolor": "white",
            "showbackground": true,
            "ticks": "",
            "zerolinecolor": "white"
           }
          },
          "shapedefaults": {
           "line": {
            "color": "#2a3f5f"
           }
          },
          "ternary": {
           "aaxis": {
            "gridcolor": "white",
            "linecolor": "white",
            "ticks": ""
           },
           "baxis": {
            "gridcolor": "white",
            "linecolor": "white",
            "ticks": ""
           },
           "bgcolor": "#E5ECF6",
           "caxis": {
            "gridcolor": "white",
            "linecolor": "white",
            "ticks": ""
           }
          },
          "title": {
           "x": 0.05
          },
          "xaxis": {
           "automargin": true,
           "gridcolor": "white",
           "linecolor": "white",
           "ticks": "",
           "title": {
            "standoff": 15
           },
           "zerolinecolor": "white",
           "zerolinewidth": 2
          },
          "yaxis": {
           "automargin": true,
           "gridcolor": "white",
           "linecolor": "white",
           "ticks": "",
           "title": {
            "standoff": 15
           },
           "zerolinecolor": "white",
           "zerolinewidth": 2
          }
         }
        },
        "title": {
         "text": "Log-transformed fit on linear axes"
        },
        "xaxis": {
         "anchor": "y",
         "domain": [
          0,
          1
         ],
         "title": {
          "text": "gdpPercap"
         }
        },
        "yaxis": {
         "anchor": "x",
         "domain": [
          0,
          1
         ],
         "title": {
          "text": "lifeExp"
         }
        }
       }
      }
     },
     "metadata": {},
     "output_type": "display_data"
    }
   ],
   "source": [
    "import plotly.express as px\n",
    "\n",
    "df = px.data.gapminder(year=2007)\n",
    "fig = px.scatter(\n",
    "    df,\n",
    "    x=\"gdpPercap\",\n",
    "    y=\"lifeExp\",\n",
    "    trendline=\"ols\",\n",
    "    trendline_options=dict(log_x=True),\n",
    "    title=\"Log-transformed fit on linear axes\",\n",
    ")\n",
    "fig.show()"
   ]
  },
  {
   "cell_type": "code",
   "execution_count": 10,
   "id": "0209c92c",
   "metadata": {},
   "outputs": [
    {
     "data": {
      "application/vnd.plotly.v1+json": {
       "config": {
        "plotlyServerURL": "https://plot.ly"
       },
       "data": [
        {
         "hovertemplate": "gdpPercap=%{x}<br>lifeExp=%{y}<extra></extra>",
         "legendgroup": "",
         "marker": {
          "color": "#636efa",
          "symbol": "circle"
         },
         "mode": "markers",
         "name": "",
         "orientation": "v",
         "showlegend": false,
         "type": "scatter",
         "x": {
          "bdata": "54R1iKR0jkBgFASPBzG3QG2tLxJeT7hApWlQNDu9skAgJAuYsPXIQOeHEcJr0OBAWMoyxM+j4UDGpwAYAxndQPLPDOIDvZVAb7vQXJNz4EAOar+1I4WWQJzB3y9G3K1A8nhafkwWvUDboswG7YzIQGkAb4HmtMFAzzEge2XcxEDb2y3JIQSTQKHhg40h4XpAat/cXx3HmkAWNZiGYeifQAexM4Xnu+FAZJEm3iEQhkDiP91AQaCaQIY41sXRuclA0V0SZx1fs0D67laWlF67QBI+Stsu0Y5ANsjJadRYcUCMD7OXHWGsQKlNnNyH1sJAWTFcHQAjmEAUxhaCnI3MQIGzlCwNesFAH7qgvlNM1kCxbVFmzTnhQKwn84/2RKBAHkC/71+Jt0Dl9ssnQ9m6QKSK4lUuzbVArrzkf1pgtkBoke18C73HQM8Iysj0CoRAkQfH0XGWhUD5oGez4jbgQHbgnBGBwd1AIVnABD7LyUCOc5tw/4WHQL5Nf/aXat9A1GAahm++lEB47j1cmuTaQLQh/8wMQrRAcXkH0zt1jUCc8BKc2hmCQBAiGXKMxpJACJylZKm4q0Byv0NRn2XjQEJ4tHE8ltFAC2MLQZmq4UCzX3e6ayijQIDuy5lNqatAqYdodNuqxkBtVRLZD3exQCxlGeJ/3ONAbqMBvNHs2EC8lpAPbubbQOu12VjhmLxAi1QYWwTq3kDdek0PdqexQO3Vx0P/3JZAK2owDUPkmEATGVbxCM3WQEgbR6xfGedAd4TTgoduxEAVGohlU4WYQHXmHhIe6HlAxjNo6L+Mx0Ay/+ibFFOQQFKgqp3MuodAXCBB8dNRyEAKn62DU0qQQOZ1xCGbLJxANSkF3X5mxUBBDkqYyWTHQE7BGmeLL6hAS+fDs/ISwkCOHr+3WditQL3HmSZ8vYlAAAAAAACAjUC7YkZ4D8uyQEjfpGlwDZFAlufB3b334UAEHEKVQJjYQFJEhlWkeqVASAeQRmpdg0DeVKTC6HefQFZl3xWmGehAmGn7VwzL1UCwrDQp5VukQHui68KXKMNA4KKTpdZMsECIf9jS5/C8QLWpukf27KhAowvqW/YOzkBVTRB1aQfUQKJ6a2At4NJA3Qn2Xx/2vUDT2cngPBzFQAWrjyy1+IpAZof4h735mEAPRYE+tSXVQA+dnnfjwZpAWyOCcUQdw0DoJO93U/SKQKJinL/lBOdAYHZPHpQ90kByxFp8ECrZQAW4augg8YxAhnMNM9QawkAwKqkTRCXcQJ6xL9kwBK9AK97IPMpUpEANbmsLe6GxQP+ye/J3iOBAGH0FaU1Q4kBMio9PjFiwQI4ev7eRC9xA4UIewe1NkUCDr691ZSK9QKkf5XHCl4tAdF5jlyCW0UBkzF1L7LS7QJIIjWAjhcBAF35wPoWBkEDj32dcaDbgQOv/HOb0+ORAMJ5BQ7u5xEBblNkg50vGQJHSbB4nE6NAajS5GLOip0D9hR4xitGhQEDc1avY3JNA2On2SFlbfUA=",
          "dtype": "f8"
         },
         "xaxis": "x",
         "y": {
          "bdata": "RIts5/vpRUBQjZduEhtTQCUGgZVDE1JAIbByaJFdRUAUrkfhetRSQNejcD0KT1RAkxgEVg71U0BxPQrXo+hSQIcW2c73A1BATmIQWDncU0B3vp8aL11MQPp+arx0Y1BASgwCK4e2UkB3vp8aL11JQClcj8L1GFJAuB6F61FAUkD2KFyPwiVKQArXo3A9ykhABoGVQ4vcTUDXo3A9CjdJQG8Sg8DKKVRAAyuHFtleRkAX2c73U1NJQAisHFpko1NAL90kBoE9UkA3iUFg5ThSQH0/NV66SVBAQmDl0CI7R0Dwp8ZLN6lLQDVeukkMslNARIts5/spSEAdWmQ73+9SQLbz/dR4kVNAyXa+nxofU0Boke18P5VTQGiR7Xw/ZUtA16NwPQoPUkBWDi2ynb9SQBSDwMqh1VFA1XjpJjH4UUAmMQisHMpJQIXrUbgeBU1A8KfGSzd5SkB56SYxCNRTQDVeukkMKlRArkfhehReTEDTTWIQWLlNQESLbOf72VNAiUFg5dACTkD0/dR46d5TQH9qvHSTkFFAN4lBYOUATECNbOf7qTFHQGiR7Xw/dU5A6iYxCKyMUUBaZDvfT41UQBSDwMqhVVJAnMQgsHJwVEDqJjEIrCxQQJqZmZmZqVFABFYOLbK9UUD2KFyPwsVNQHE9CtejuFNASOF6FK4vVEBt5/up8SJUQD81XrpJJFJAO99PjZemVEAK16NwPSJSQK5H4XoUDktAXrpJDALTUEAdWmQ736dTQBSDwMqhZVNAZDvfT43/UUCyne+nxktFQBBYObTI1kZAsHJoke18UkBkEFg5tLhNQBBYObTIJkhAgZVDi2yPUkCyne+nxjtLQNEi2/l+ClBAJQaBlUMzUkAUrkfhegxTQAisHFpks1BAmG4Sg8CiUkDRItv5fspRQNEi2/l+CkVARrbz/dQIT0CJFtnO93NKQBSuR+F65E9AVOOlm8TwU0CTGARWDg1UQKjGSzeJOVJA5dAi2/luTEDLoUW2821HQAaBlUOLDFRAKVyPwvXoUkD0/dR46V5QQOx8PzVe4lJA46WbxCDwUUBt5/up8dpRQHnpJjEI7FFAeekmMQjkUkCDwMqhRYZTQDu0yHa+r1NAPzVeukkcU0BYObTIdh5SQOXQItv5HkdAbxKDwMphUEB9PzVeujFSQA4tsp3vh09A46WbxCCAUkBkEFg5tEhFQJHtfD81/lNA30+Nl26qUkAlBoGVQ3tTQDEIrBxaFEhACKwcWmSrSEBOYhBYOTxUQNNNYhBYGVJAukkMAitHTUBYObTIds5DQH9qvHSTOFRAwJ8aL91sVED+1HjpJolSQJqZmZmZmVNAGQRWDi1CSkCBlUOLbKdRQPYoXI/CNU1AI9v5fmp0UUBQjZduEntSQH0/NV668VFATDeJQWDFSUAzMzMzM9tTQHNoke18j1NAf2q8dJMYU0ArhxbZzm9SQA4tsp3vj1JAXrpJDAJbUkDTTWIQWFlPQP3UeOkmMUVAdZMYBFa+RUA=",
          "dtype": "f8"
         },
         "yaxis": "y"
        },
        {
         "hovertemplate": "<b>OLS trendline</b><br>lifeExp = 16.5851 * log10(gdpPercap) + 4.94961<br>R<sup>2</sup>=0.654449<br><br>gdpPercap=%{x}<br>lifeExp=%{y} <b>(trend)</b><extra></extra>",
         "legendgroup": "",
         "marker": {
          "color": "#636efa",
          "symbol": "circle"
         },
         "mode": "lines",
         "name": "",
         "showlegend": false,
         "type": "scatter",
         "x": {
          "bdata": "NsjJadRYcUB15h4SHuh5QKHhg40h4XpA2On2SFlbfUCc8BKc2hmCQEgHkEZqXYNAzwjKyPQKhECRB8fRcZaFQGSRJt4hEIZAjnObcP+Fh0BSoKqdzLqHQL3HmSZ8vYlA6CTvd1P0ikAFq48stfiKQKkf5XHCl4tABbhq6CDxjEBxeQfTO3WNQAAAAAAAgI1A54R1iKR0jkASPkrbLtGOQAqfrYNTSpBAMv/omxRTkEAXfnA+hYGQQEjfpGlwDZFA4UIewe1NkUAQIhlyjMaSQNvbLckhBJNAQNzVq9jck0DUYBqGb76UQPLPDOIDvZVADmq/tSOFlkDt1cdD/9yWQFkxXB0AI5hAFRqIZVOFmEArajANQ+SYQGaH+Ie9+ZhA4j/dQEGgmkAPnZ5348GaQGrf3F8dx5pA5nXEIZssnEDeVKTC6HefQBY1mIZh6J9ArCfzj/ZEoED9hR4xitGhQJHSbB4nE6NAs193umsoo0Ar3sg8ylSkQLCsNCnlW6RAUkSGVaR6pUBqNLkYs6KnQE7BGmeLL6hAtam6R/bsqECA7suZTamrQAicpWSpuKtAjA+zlx1hrECOHr+3WditQJzB3y9G3K1AnrEv2TAEr0DgopOl1kywQEyKj0+MWLBAbVUS2Q93sUANbmsLe6GxQN16TQ92p7FApWlQNDu9skC7YkZ4D8uyQNFdEmcdX7NAtCH/zAxCtECkiuJVLs21QK685H9aYLZAYBQEjwcxt0AeQL/vX4m3QG2tLxJeT7hA5fbLJ0PZukD67laWlF67QGTMXUvstLtA67XZWOGYvECIf9jS5/C8QPJ4Wn5MFr1Ag6+vdWUivUDdCfZfH/a9QJIIjWAjhcBAgbOULA16wUBpAG+B5rTBQEvnw7PyEsJAhnMNM9QawkCpTZzch9bCQFsjgnFEHcNAe6Lrwpcow0B3hNOCh27EQDCeQUO7ucRAzzEge2XcxEDT2cngPBzFQDUpBd1+ZsVAW5TZIOdLxkCph2h026rGQEEOSpjJZMdAxjNo6L+Mx0Boke18C73HQFwgQfHTUchA26LMBu2MyEAgJAuYsPXIQIY41sXRuclAIVnABD7LyUAUxhaCnI3MQKML6lv2Ds5AdF5jlyCW0UBCeLRxPJbRQGB2Tx6UPdJAonprYC3g0kBVTRB1aQfUQA9FgT61JdVAmGn7VwzL1UAfuqC+U0zWQBMZVvEIzdZABBxClUCY2EBuowG80ezYQHLEWnwQKtlAeO49XJrk2kC8lpAPbubbQI4ev7eRC9xAMCqpE0Ql3EDGpwAYAxndQHbgnBGBwd1Ai1QYWwTq3kC+TX/2l2rfQOPfZ1xoNuBA+aBns+I24EBvu9Bck3PgQP+ye/J3iOBA54cRwmvQ4ECxbVFmzTnhQFjKMsTPo+FAC2MLQZmq4UAHsTOF57vhQJbnwd299+FAGH0FaU1Q4kByv0NRn2XjQCxlGeJ/3ONA6/8c5vT45ECiYpy/5QTnQEgbR6xfGedAVmXfFaYZ6EA=",
          "dtype": "f8"
         },
         "xaxis": "x",
         "y": {
          "bdata": "gnj/Hn+8RkBCiH9ERy5IQIKxPMJCUEhAth9VcYuhSEAoiN/ZxmJJQDT5NT8BoUlAnEx2K7rASUDKgDdiLwVKQBYHs/xDGUpA8vafk1tUSkDuu/0DaFxKQFhr2r9ip0pA9Cyjy+HRSkBmk7Wed9JKQLzmicN250pAmOIzV3kTS0AIF52JxCNLQCh1X0EVJUtA+uHazXlCS0CizwC1Wk1LQD6mcwepgEtARr459peCS0Bqu+tHyIxLQOBWb/7QqktADgQSLla4S0DOVjuIkANMQNYyPFJND0xAYJduH3U3TECEC8+Wel9MQIx6IX2mikxAnusxCjmrTEBwUnK/KrlMQKKlQrwj60xAWMWo7rH5TEBYy5q3iAdNQCxuo+qiCk1APsD5GaJFTUAC8lDYK0pNQJKK/dnfSk1Ati52EL55TUAuM1tDsN9NQBgwG6l47E1AZLVd4Ib+TUCuZ0iwYVJOQK7OBQYykU5ARIlZwTOVTkAipO9rAcxOQKjjVmZDzU5AVo5+I6T+TkB24DX12FZPQKbEUvgPbE9AZPUcT9iHT0CAdPRb2+dPQLKwjrXa6U9ATjp5tHv/T0AyaOPI9BZQQHyop18xF1BASOMMeLMoUEC70CcnqT9QQOuVZtjzQFBAgT3zXXtfUEDyfhu01WNQQFer8/dxZFBAgcFo2vB/UECtesaORIFQQCpnk249j1BAPLj0092jUECvUVkgt8VQQNrIr6220VBApVqgMTXiUEAd8NtMBOlQQC0Nq8Lr91BARJcafrUlUUCTZtmVkC5RQGcw0PM1NFFAIuN//cpCUUCCKvZ4TUhRQPXUGJWfSlFAM4a4Jl9LUUBbFPSGRlhRQLAFn3xdhVFAtk9XCFGfUUCrslAnV6VRQKMZY4/OrlFAHFcNZJevUUAOr8tc5MFRQPy4/cOayFFAmE/qlavJUUAYa0FxVOdRQEdajRDp7VFAkx/0k+nwUUDNeH32Y/ZRQFzApneu/FFAxQXfZpcPUkAApTBuMhdSQCVP5FC8JVJAdehmKs0oUkBeYATDeixSQK1uHjGhN1JALme1HPw7UkCqYt4Gm0NSQOaEW9mKUVJARpCQosJSUkDJ3K37m4FSQDENkt9KmVJARbQtDbrhUkBizEDnvOFSQO4FZamP8lJAgxoP+FYCU0CMM452rR1TQCHZK125NlNASAg1l5dEU0AM1kr1Jk9TQDLyaTxuWVNAVUHsYFd8U0DCAUPefYJTQC6VtyvlhlNAl6ZtnYWlU0D3a8VYeLZTQNny5GPcuFNAiTZzA4K6U0Bw5QIl2MlTQIGYkbsn1FNA66xnLMLlU0DDUHwMMO1TQCr8+G/B+1NAox5TBs/7U0B7t3X3fwJUQFGzRfPHBFRAsNIySI0MVEAYvuqisxdUQPKVuvymIlRA0HoFOFgjVEBiRtTsGiVUQMaAEy4kK1RAXElBse4zVEBVTIGKbE5UQPi7Wm9UWVRAeFsFlWxyVEB4AycOWZ1UQIrdj2bynlRAPrsLDYGyVEA=",
          "dtype": "f8"
         },
         "yaxis": "y"
        }
       ],
       "layout": {
        "legend": {
         "tracegroupgap": 0
        },
        "template": {
         "data": {
          "bar": [
           {
            "error_x": {
             "color": "#2a3f5f"
            },
            "error_y": {
             "color": "#2a3f5f"
            },
            "marker": {
             "line": {
              "color": "#E5ECF6",
              "width": 0.5
             },
             "pattern": {
              "fillmode": "overlay",
              "size": 10,
              "solidity": 0.2
             }
            },
            "type": "bar"
           }
          ],
          "barpolar": [
           {
            "marker": {
             "line": {
              "color": "#E5ECF6",
              "width": 0.5
             },
             "pattern": {
              "fillmode": "overlay",
              "size": 10,
              "solidity": 0.2
             }
            },
            "type": "barpolar"
           }
          ],
          "carpet": [
           {
            "aaxis": {
             "endlinecolor": "#2a3f5f",
             "gridcolor": "white",
             "linecolor": "white",
             "minorgridcolor": "white",
             "startlinecolor": "#2a3f5f"
            },
            "baxis": {
             "endlinecolor": "#2a3f5f",
             "gridcolor": "white",
             "linecolor": "white",
             "minorgridcolor": "white",
             "startlinecolor": "#2a3f5f"
            },
            "type": "carpet"
           }
          ],
          "choropleth": [
           {
            "colorbar": {
             "outlinewidth": 0,
             "ticks": ""
            },
            "type": "choropleth"
           }
          ],
          "contour": [
           {
            "colorbar": {
             "outlinewidth": 0,
             "ticks": ""
            },
            "colorscale": [
             [
              0,
              "#0d0887"
             ],
             [
              0.1111111111111111,
              "#46039f"
             ],
             [
              0.2222222222222222,
              "#7201a8"
             ],
             [
              0.3333333333333333,
              "#9c179e"
             ],
             [
              0.4444444444444444,
              "#bd3786"
             ],
             [
              0.5555555555555556,
              "#d8576b"
             ],
             [
              0.6666666666666666,
              "#ed7953"
             ],
             [
              0.7777777777777778,
              "#fb9f3a"
             ],
             [
              0.8888888888888888,
              "#fdca26"
             ],
             [
              1,
              "#f0f921"
             ]
            ],
            "type": "contour"
           }
          ],
          "contourcarpet": [
           {
            "colorbar": {
             "outlinewidth": 0,
             "ticks": ""
            },
            "type": "contourcarpet"
           }
          ],
          "heatmap": [
           {
            "colorbar": {
             "outlinewidth": 0,
             "ticks": ""
            },
            "colorscale": [
             [
              0,
              "#0d0887"
             ],
             [
              0.1111111111111111,
              "#46039f"
             ],
             [
              0.2222222222222222,
              "#7201a8"
             ],
             [
              0.3333333333333333,
              "#9c179e"
             ],
             [
              0.4444444444444444,
              "#bd3786"
             ],
             [
              0.5555555555555556,
              "#d8576b"
             ],
             [
              0.6666666666666666,
              "#ed7953"
             ],
             [
              0.7777777777777778,
              "#fb9f3a"
             ],
             [
              0.8888888888888888,
              "#fdca26"
             ],
             [
              1,
              "#f0f921"
             ]
            ],
            "type": "heatmap"
           }
          ],
          "histogram": [
           {
            "marker": {
             "pattern": {
              "fillmode": "overlay",
              "size": 10,
              "solidity": 0.2
             }
            },
            "type": "histogram"
           }
          ],
          "histogram2d": [
           {
            "colorbar": {
             "outlinewidth": 0,
             "ticks": ""
            },
            "colorscale": [
             [
              0,
              "#0d0887"
             ],
             [
              0.1111111111111111,
              "#46039f"
             ],
             [
              0.2222222222222222,
              "#7201a8"
             ],
             [
              0.3333333333333333,
              "#9c179e"
             ],
             [
              0.4444444444444444,
              "#bd3786"
             ],
             [
              0.5555555555555556,
              "#d8576b"
             ],
             [
              0.6666666666666666,
              "#ed7953"
             ],
             [
              0.7777777777777778,
              "#fb9f3a"
             ],
             [
              0.8888888888888888,
              "#fdca26"
             ],
             [
              1,
              "#f0f921"
             ]
            ],
            "type": "histogram2d"
           }
          ],
          "histogram2dcontour": [
           {
            "colorbar": {
             "outlinewidth": 0,
             "ticks": ""
            },
            "colorscale": [
             [
              0,
              "#0d0887"
             ],
             [
              0.1111111111111111,
              "#46039f"
             ],
             [
              0.2222222222222222,
              "#7201a8"
             ],
             [
              0.3333333333333333,
              "#9c179e"
             ],
             [
              0.4444444444444444,
              "#bd3786"
             ],
             [
              0.5555555555555556,
              "#d8576b"
             ],
             [
              0.6666666666666666,
              "#ed7953"
             ],
             [
              0.7777777777777778,
              "#fb9f3a"
             ],
             [
              0.8888888888888888,
              "#fdca26"
             ],
             [
              1,
              "#f0f921"
             ]
            ],
            "type": "histogram2dcontour"
           }
          ],
          "mesh3d": [
           {
            "colorbar": {
             "outlinewidth": 0,
             "ticks": ""
            },
            "type": "mesh3d"
           }
          ],
          "parcoords": [
           {
            "line": {
             "colorbar": {
              "outlinewidth": 0,
              "ticks": ""
             }
            },
            "type": "parcoords"
           }
          ],
          "pie": [
           {
            "automargin": true,
            "type": "pie"
           }
          ],
          "scatter": [
           {
            "fillpattern": {
             "fillmode": "overlay",
             "size": 10,
             "solidity": 0.2
            },
            "type": "scatter"
           }
          ],
          "scatter3d": [
           {
            "line": {
             "colorbar": {
              "outlinewidth": 0,
              "ticks": ""
             }
            },
            "marker": {
             "colorbar": {
              "outlinewidth": 0,
              "ticks": ""
             }
            },
            "type": "scatter3d"
           }
          ],
          "scattercarpet": [
           {
            "marker": {
             "colorbar": {
              "outlinewidth": 0,
              "ticks": ""
             }
            },
            "type": "scattercarpet"
           }
          ],
          "scattergeo": [
           {
            "marker": {
             "colorbar": {
              "outlinewidth": 0,
              "ticks": ""
             }
            },
            "type": "scattergeo"
           }
          ],
          "scattergl": [
           {
            "marker": {
             "colorbar": {
              "outlinewidth": 0,
              "ticks": ""
             }
            },
            "type": "scattergl"
           }
          ],
          "scattermap": [
           {
            "marker": {
             "colorbar": {
              "outlinewidth": 0,
              "ticks": ""
             }
            },
            "type": "scattermap"
           }
          ],
          "scattermapbox": [
           {
            "marker": {
             "colorbar": {
              "outlinewidth": 0,
              "ticks": ""
             }
            },
            "type": "scattermapbox"
           }
          ],
          "scatterpolar": [
           {
            "marker": {
             "colorbar": {
              "outlinewidth": 0,
              "ticks": ""
             }
            },
            "type": "scatterpolar"
           }
          ],
          "scatterpolargl": [
           {
            "marker": {
             "colorbar": {
              "outlinewidth": 0,
              "ticks": ""
             }
            },
            "type": "scatterpolargl"
           }
          ],
          "scatterternary": [
           {
            "marker": {
             "colorbar": {
              "outlinewidth": 0,
              "ticks": ""
             }
            },
            "type": "scatterternary"
           }
          ],
          "surface": [
           {
            "colorbar": {
             "outlinewidth": 0,
             "ticks": ""
            },
            "colorscale": [
             [
              0,
              "#0d0887"
             ],
             [
              0.1111111111111111,
              "#46039f"
             ],
             [
              0.2222222222222222,
              "#7201a8"
             ],
             [
              0.3333333333333333,
              "#9c179e"
             ],
             [
              0.4444444444444444,
              "#bd3786"
             ],
             [
              0.5555555555555556,
              "#d8576b"
             ],
             [
              0.6666666666666666,
              "#ed7953"
             ],
             [
              0.7777777777777778,
              "#fb9f3a"
             ],
             [
              0.8888888888888888,
              "#fdca26"
             ],
             [
              1,
              "#f0f921"
             ]
            ],
            "type": "surface"
           }
          ],
          "table": [
           {
            "cells": {
             "fill": {
              "color": "#EBF0F8"
             },
             "line": {
              "color": "white"
             }
            },
            "header": {
             "fill": {
              "color": "#C8D4E3"
             },
             "line": {
              "color": "white"
             }
            },
            "type": "table"
           }
          ]
         },
         "layout": {
          "annotationdefaults": {
           "arrowcolor": "#2a3f5f",
           "arrowhead": 0,
           "arrowwidth": 1
          },
          "autotypenumbers": "strict",
          "coloraxis": {
           "colorbar": {
            "outlinewidth": 0,
            "ticks": ""
           }
          },
          "colorscale": {
           "diverging": [
            [
             0,
             "#8e0152"
            ],
            [
             0.1,
             "#c51b7d"
            ],
            [
             0.2,
             "#de77ae"
            ],
            [
             0.3,
             "#f1b6da"
            ],
            [
             0.4,
             "#fde0ef"
            ],
            [
             0.5,
             "#f7f7f7"
            ],
            [
             0.6,
             "#e6f5d0"
            ],
            [
             0.7,
             "#b8e186"
            ],
            [
             0.8,
             "#7fbc41"
            ],
            [
             0.9,
             "#4d9221"
            ],
            [
             1,
             "#276419"
            ]
           ],
           "sequential": [
            [
             0,
             "#0d0887"
            ],
            [
             0.1111111111111111,
             "#46039f"
            ],
            [
             0.2222222222222222,
             "#7201a8"
            ],
            [
             0.3333333333333333,
             "#9c179e"
            ],
            [
             0.4444444444444444,
             "#bd3786"
            ],
            [
             0.5555555555555556,
             "#d8576b"
            ],
            [
             0.6666666666666666,
             "#ed7953"
            ],
            [
             0.7777777777777778,
             "#fb9f3a"
            ],
            [
             0.8888888888888888,
             "#fdca26"
            ],
            [
             1,
             "#f0f921"
            ]
           ],
           "sequentialminus": [
            [
             0,
             "#0d0887"
            ],
            [
             0.1111111111111111,
             "#46039f"
            ],
            [
             0.2222222222222222,
             "#7201a8"
            ],
            [
             0.3333333333333333,
             "#9c179e"
            ],
            [
             0.4444444444444444,
             "#bd3786"
            ],
            [
             0.5555555555555556,
             "#d8576b"
            ],
            [
             0.6666666666666666,
             "#ed7953"
            ],
            [
             0.7777777777777778,
             "#fb9f3a"
            ],
            [
             0.8888888888888888,
             "#fdca26"
            ],
            [
             1,
             "#f0f921"
            ]
           ]
          },
          "colorway": [
           "#636efa",
           "#EF553B",
           "#00cc96",
           "#ab63fa",
           "#FFA15A",
           "#19d3f3",
           "#FF6692",
           "#B6E880",
           "#FF97FF",
           "#FECB52"
          ],
          "font": {
           "color": "#2a3f5f"
          },
          "geo": {
           "bgcolor": "white",
           "lakecolor": "white",
           "landcolor": "#E5ECF6",
           "showlakes": true,
           "showland": true,
           "subunitcolor": "white"
          },
          "hoverlabel": {
           "align": "left"
          },
          "hovermode": "closest",
          "mapbox": {
           "style": "light"
          },
          "paper_bgcolor": "white",
          "plot_bgcolor": "#E5ECF6",
          "polar": {
           "angularaxis": {
            "gridcolor": "white",
            "linecolor": "white",
            "ticks": ""
           },
           "bgcolor": "#E5ECF6",
           "radialaxis": {
            "gridcolor": "white",
            "linecolor": "white",
            "ticks": ""
           }
          },
          "scene": {
           "xaxis": {
            "backgroundcolor": "#E5ECF6",
            "gridcolor": "white",
            "gridwidth": 2,
            "linecolor": "white",
            "showbackground": true,
            "ticks": "",
            "zerolinecolor": "white"
           },
           "yaxis": {
            "backgroundcolor": "#E5ECF6",
            "gridcolor": "white",
            "gridwidth": 2,
            "linecolor": "white",
            "showbackground": true,
            "ticks": "",
            "zerolinecolor": "white"
           },
           "zaxis": {
            "backgroundcolor": "#E5ECF6",
            "gridcolor": "white",
            "gridwidth": 2,
            "linecolor": "white",
            "showbackground": true,
            "ticks": "",
            "zerolinecolor": "white"
           }
          },
          "shapedefaults": {
           "line": {
            "color": "#2a3f5f"
           }
          },
          "ternary": {
           "aaxis": {
            "gridcolor": "white",
            "linecolor": "white",
            "ticks": ""
           },
           "baxis": {
            "gridcolor": "white",
            "linecolor": "white",
            "ticks": ""
           },
           "bgcolor": "#E5ECF6",
           "caxis": {
            "gridcolor": "white",
            "linecolor": "white",
            "ticks": ""
           }
          },
          "title": {
           "x": 0.05
          },
          "xaxis": {
           "automargin": true,
           "gridcolor": "white",
           "linecolor": "white",
           "ticks": "",
           "title": {
            "standoff": 15
           },
           "zerolinecolor": "white",
           "zerolinewidth": 2
          },
          "yaxis": {
           "automargin": true,
           "gridcolor": "white",
           "linecolor": "white",
           "ticks": "",
           "title": {
            "standoff": 15
           },
           "zerolinecolor": "white",
           "zerolinewidth": 2
          }
         }
        },
        "title": {
         "text": "Log-scaled X axis and log-transformed fit"
        },
        "xaxis": {
         "anchor": "y",
         "domain": [
          0,
          1
         ],
         "title": {
          "text": "gdpPercap"
         },
         "type": "log"
        },
        "yaxis": {
         "anchor": "x",
         "domain": [
          0,
          1
         ],
         "title": {
          "text": "lifeExp"
         }
        }
       }
      }
     },
     "metadata": {},
     "output_type": "display_data"
    }
   ],
   "source": [
    "import plotly.express as px\n",
    "\n",
    "df = px.data.gapminder(year=2007)\n",
    "fig = px.scatter(\n",
    "    df,\n",
    "    x=\"gdpPercap\",\n",
    "    y=\"lifeExp\",\n",
    "    log_x=True,\n",
    "    trendline=\"ols\",\n",
    "    trendline_options=dict(log_x=True),\n",
    "    title=\"Log-scaled X axis and log-transformed fit\",\n",
    ")\n",
    "fig.show()"
   ]
  },
  {
   "cell_type": "code",
   "execution_count": 11,
   "id": "7f425a62",
   "metadata": {},
   "outputs": [
    {
     "data": {
      "application/vnd.plotly.v1+json": {
       "config": {
        "plotlyServerURL": "https://plot.ly"
       },
       "data": [
        {
         "hovertemplate": "date=%{x}<br>GOOG=%{y}<extra></extra>",
         "legendgroup": "",
         "marker": {
          "color": "#636efa",
          "symbol": "circle"
         },
         "mode": "markers",
         "name": "",
         "orientation": "v",
         "showlegend": false,
         "type": "scatter",
         "x": [
          "2018-01-01T00:00:00.000000000",
          "2018-01-08T00:00:00.000000000",
          "2018-01-15T00:00:00.000000000",
          "2018-01-22T00:00:00.000000000",
          "2018-01-29T00:00:00.000000000",
          "2018-02-05T00:00:00.000000000",
          "2018-02-12T00:00:00.000000000",
          "2018-02-19T00:00:00.000000000",
          "2018-02-26T00:00:00.000000000",
          "2018-03-05T00:00:00.000000000",
          "2018-03-12T00:00:00.000000000",
          "2018-03-19T00:00:00.000000000",
          "2018-03-26T00:00:00.000000000",
          "2018-04-02T00:00:00.000000000",
          "2018-04-09T00:00:00.000000000",
          "2018-04-16T00:00:00.000000000",
          "2018-04-23T00:00:00.000000000",
          "2018-04-30T00:00:00.000000000",
          "2018-05-07T00:00:00.000000000",
          "2018-05-14T00:00:00.000000000",
          "2018-05-21T00:00:00.000000000",
          "2018-05-28T00:00:00.000000000",
          "2018-06-04T00:00:00.000000000",
          "2018-06-11T00:00:00.000000000",
          "2018-06-18T00:00:00.000000000",
          "2018-06-25T00:00:00.000000000",
          "2018-07-02T00:00:00.000000000",
          "2018-07-09T00:00:00.000000000",
          "2018-07-16T00:00:00.000000000",
          "2018-07-23T00:00:00.000000000",
          "2018-07-30T00:00:00.000000000",
          "2018-08-06T00:00:00.000000000",
          "2018-08-13T00:00:00.000000000",
          "2018-08-20T00:00:00.000000000",
          "2018-08-27T00:00:00.000000000",
          "2018-09-03T00:00:00.000000000",
          "2018-09-10T00:00:00.000000000",
          "2018-09-17T00:00:00.000000000",
          "2018-09-24T00:00:00.000000000",
          "2018-10-01T00:00:00.000000000",
          "2018-10-08T00:00:00.000000000",
          "2018-10-15T00:00:00.000000000",
          "2018-10-22T00:00:00.000000000",
          "2018-10-29T00:00:00.000000000",
          "2018-11-05T00:00:00.000000000",
          "2018-11-12T00:00:00.000000000",
          "2018-11-19T00:00:00.000000000",
          "2018-11-26T00:00:00.000000000",
          "2018-12-03T00:00:00.000000000",
          "2018-12-10T00:00:00.000000000",
          "2018-12-17T00:00:00.000000000",
          "2018-12-24T00:00:00.000000000",
          "2018-12-31T00:00:00.000000000",
          "2019-01-07T00:00:00.000000000",
          "2019-01-14T00:00:00.000000000",
          "2019-01-21T00:00:00.000000000",
          "2019-01-28T00:00:00.000000000",
          "2019-02-04T00:00:00.000000000",
          "2019-02-11T00:00:00.000000000",
          "2019-02-18T00:00:00.000000000",
          "2019-02-25T00:00:00.000000000",
          "2019-03-04T00:00:00.000000000",
          "2019-03-11T00:00:00.000000000",
          "2019-03-18T00:00:00.000000000",
          "2019-03-25T00:00:00.000000000",
          "2019-04-01T00:00:00.000000000",
          "2019-04-08T00:00:00.000000000",
          "2019-04-15T00:00:00.000000000",
          "2019-04-22T00:00:00.000000000",
          "2019-04-29T00:00:00.000000000",
          "2019-05-06T00:00:00.000000000",
          "2019-05-13T00:00:00.000000000",
          "2019-05-20T00:00:00.000000000",
          "2019-05-27T00:00:00.000000000",
          "2019-06-03T00:00:00.000000000",
          "2019-06-10T00:00:00.000000000",
          "2019-06-17T00:00:00.000000000",
          "2019-06-24T00:00:00.000000000",
          "2019-07-01T00:00:00.000000000",
          "2019-07-08T00:00:00.000000000",
          "2019-07-15T00:00:00.000000000",
          "2019-07-22T00:00:00.000000000",
          "2019-07-29T00:00:00.000000000",
          "2019-08-05T00:00:00.000000000",
          "2019-08-12T00:00:00.000000000",
          "2019-08-19T00:00:00.000000000",
          "2019-08-26T00:00:00.000000000",
          "2019-09-02T00:00:00.000000000",
          "2019-09-09T00:00:00.000000000",
          "2019-09-16T00:00:00.000000000",
          "2019-09-23T00:00:00.000000000",
          "2019-09-30T00:00:00.000000000",
          "2019-10-07T00:00:00.000000000",
          "2019-10-14T00:00:00.000000000",
          "2019-10-21T00:00:00.000000000",
          "2019-10-28T00:00:00.000000000",
          "2019-11-04T00:00:00.000000000",
          "2019-11-11T00:00:00.000000000",
          "2019-11-18T00:00:00.000000000",
          "2019-11-25T00:00:00.000000000",
          "2019-12-02T00:00:00.000000000",
          "2019-12-09T00:00:00.000000000",
          "2019-12-16T00:00:00.000000000",
          "2019-12-23T00:00:00.000000000",
          "2019-12-30T00:00:00.000000000"
         ],
         "xaxis": "x",
         "y": {
          "bdata": "AAAAAAAA8D/OK9MDb0rwP68QOq4ag/A/9oPp0ooR8T8TsS9U7yPwP99D4KT+IO4/3Hw6e8fI7z+q8F+IRFvwP9LSdHnBUu8/LIMaANTW8D8JvFtMfXzwPz7QZruEqO0/HpxM0nn07T+3TPA/hzztPxfM6R6/4e0/IXrkjXUm7z8heCA9i+ftP6NcPhmDbu4/QjPHjn7i7z+qgyQlaPXuP+V5ctWGOu8/ZFIUWy1A8D9vrqGpREXwP4WiXq/qufA/U4wX6uHF8D/pH6HJ3jHwP3Um9zr9jPA/0NEB+MZB8T9XHtVhPzPxPyuHvbZk+vE/NwuPnm7D8T/XXM4FFvfxP6hIRQnkbvE/az8Jog+48T9kWBFN667xP01QZMGg6PA/pI7CAT4F8T+UMFxuT+3wP6R7NKQOU/E/85Ml4tTM8D/YyoXbKx3wP2L4PrQd1e8/L6n6oWIb7z/SWD6VtrXuP9oE9qnY8+4/8kBpRjbR7j+goGHWr7ntP/MQKYMHxu8/XzbgVBMY7j8FnNv3GUHuP7udcIUkcOw/dtxkp8ob7j+2jo+avBXvP53HSc9Ase4/QjPHjn7i7z9LiPtKdqzvPxmlC0mpH/A/OvEgMLbK7z+605ckcCrwP3zeMMc/HvA/rDRmQwmQ8D+apul6+pTwPymUuDeTMfE/Lh6kE8N/8T8zPRwRJAjxPzJ9CsjkhfE/OJ3k7bqt8T/lnXpkevLxPxPbLk2Nd/I/umBFhRE18T9FfGgTjObwP4oJl/853/A/NI4dTRd08D8JjgPgMwXwP1INy2YH8+4/3LqtWYuC7z8wZfiBBUnwP9tJ47eLYe8/dM57zxpt8D8PGkn3kJ7wP/vlhlmRZ/A/R53F/qYm8j95l9xY/VTxP0LUZHXEPvE/R7cjKRUY8T/i1RHuT7bwPzyHlAsaP/E/fDnW36R98T+zOPArVf7xP79xyu6L2vE/7Hfuco/I8T9/Y3S0xIzxP06g9q+8pPE/IwGMcl4U8j+pVbJuWl3yPzJVr01ZffI/r0ZXkS8J8z/PhYSkg2DzP8kL1dedzfI/E8Ioj13x8j/WQP++4XXzP+AKN76skPM/MT5xFDeX8z+urvcqw5/zP2qQawKBaPM/",
          "dtype": "f8"
         },
         "yaxis": "y"
        },
        {
         "hovertemplate": "<b>LOWESS trendline</b><br><br>date=%{x}<br>GOOG=%{y} <b>(trend)</b><extra></extra>",
         "legendgroup": "",
         "marker": {
          "color": "#636efa",
          "symbol": "circle"
         },
         "mode": "lines",
         "name": "",
         "showlegend": false,
         "type": "scatter",
         "x": [
          "2018-01-01T00:00:00.000000000",
          "2018-01-08T00:00:00.000000000",
          "2018-01-15T00:00:00.000000000",
          "2018-01-22T00:00:00.000000000",
          "2018-01-29T00:00:00.000000000",
          "2018-02-05T00:00:00.000000000",
          "2018-02-12T00:00:00.000000000",
          "2018-02-19T00:00:00.000000000",
          "2018-02-26T00:00:00.000000000",
          "2018-03-05T00:00:00.000000000",
          "2018-03-12T00:00:00.000000000",
          "2018-03-19T00:00:00.000000000",
          "2018-03-26T00:00:00.000000000",
          "2018-04-02T00:00:00.000000000",
          "2018-04-09T00:00:00.000000000",
          "2018-04-16T00:00:00.000000000",
          "2018-04-23T00:00:00.000000000",
          "2018-04-30T00:00:00.000000000",
          "2018-05-07T00:00:00.000000000",
          "2018-05-14T00:00:00.000000000",
          "2018-05-21T00:00:00.000000000",
          "2018-05-28T00:00:00.000000000",
          "2018-06-04T00:00:00.000000000",
          "2018-06-11T00:00:00.000000000",
          "2018-06-18T00:00:00.000000000",
          "2018-06-25T00:00:00.000000000",
          "2018-07-02T00:00:00.000000000",
          "2018-07-09T00:00:00.000000000",
          "2018-07-16T00:00:00.000000000",
          "2018-07-23T00:00:00.000000000",
          "2018-07-30T00:00:00.000000000",
          "2018-08-06T00:00:00.000000000",
          "2018-08-13T00:00:00.000000000",
          "2018-08-20T00:00:00.000000000",
          "2018-08-27T00:00:00.000000000",
          "2018-09-03T00:00:00.000000000",
          "2018-09-10T00:00:00.000000000",
          "2018-09-17T00:00:00.000000000",
          "2018-09-24T00:00:00.000000000",
          "2018-10-01T00:00:00.000000000",
          "2018-10-08T00:00:00.000000000",
          "2018-10-15T00:00:00.000000000",
          "2018-10-22T00:00:00.000000000",
          "2018-10-29T00:00:00.000000000",
          "2018-11-05T00:00:00.000000000",
          "2018-11-12T00:00:00.000000000",
          "2018-11-19T00:00:00.000000000",
          "2018-11-26T00:00:00.000000000",
          "2018-12-03T00:00:00.000000000",
          "2018-12-10T00:00:00.000000000",
          "2018-12-17T00:00:00.000000000",
          "2018-12-24T00:00:00.000000000",
          "2018-12-31T00:00:00.000000000",
          "2019-01-07T00:00:00.000000000",
          "2019-01-14T00:00:00.000000000",
          "2019-01-21T00:00:00.000000000",
          "2019-01-28T00:00:00.000000000",
          "2019-02-04T00:00:00.000000000",
          "2019-02-11T00:00:00.000000000",
          "2019-02-18T00:00:00.000000000",
          "2019-02-25T00:00:00.000000000",
          "2019-03-04T00:00:00.000000000",
          "2019-03-11T00:00:00.000000000",
          "2019-03-18T00:00:00.000000000",
          "2019-03-25T00:00:00.000000000",
          "2019-04-01T00:00:00.000000000",
          "2019-04-08T00:00:00.000000000",
          "2019-04-15T00:00:00.000000000",
          "2019-04-22T00:00:00.000000000",
          "2019-04-29T00:00:00.000000000",
          "2019-05-06T00:00:00.000000000",
          "2019-05-13T00:00:00.000000000",
          "2019-05-20T00:00:00.000000000",
          "2019-05-27T00:00:00.000000000",
          "2019-06-03T00:00:00.000000000",
          "2019-06-10T00:00:00.000000000",
          "2019-06-17T00:00:00.000000000",
          "2019-06-24T00:00:00.000000000",
          "2019-07-01T00:00:00.000000000",
          "2019-07-08T00:00:00.000000000",
          "2019-07-15T00:00:00.000000000",
          "2019-07-22T00:00:00.000000000",
          "2019-07-29T00:00:00.000000000",
          "2019-08-05T00:00:00.000000000",
          "2019-08-12T00:00:00.000000000",
          "2019-08-19T00:00:00.000000000",
          "2019-08-26T00:00:00.000000000",
          "2019-09-02T00:00:00.000000000",
          "2019-09-09T00:00:00.000000000",
          "2019-09-16T00:00:00.000000000",
          "2019-09-23T00:00:00.000000000",
          "2019-09-30T00:00:00.000000000",
          "2019-10-07T00:00:00.000000000",
          "2019-10-14T00:00:00.000000000",
          "2019-10-21T00:00:00.000000000",
          "2019-10-28T00:00:00.000000000",
          "2019-11-04T00:00:00.000000000",
          "2019-11-11T00:00:00.000000000",
          "2019-11-18T00:00:00.000000000",
          "2019-11-25T00:00:00.000000000",
          "2019-12-02T00:00:00.000000000",
          "2019-12-09T00:00:00.000000000",
          "2019-12-16T00:00:00.000000000",
          "2019-12-23T00:00:00.000000000",
          "2019-12-30T00:00:00.000000000"
         ],
         "xaxis": "x",
         "y": {
          "bdata": "4oMCOTTl7z+qgNJvX+zvP+U7dH548+8/PgsHVnz67z8FKDd+swDwP1CMqKkZBPA/I6tB620H8D+Wyr61rQrwP3mx63vWDfA/gMdShuUQ8D8tHLgS2BPwP6dAnwerFvA/o/PRFVsZ8D8HKF5A5RvwP4FCQwRHHvA/DEBFcH4g8D9XzlMmiiLwP64Gg09pJPA/nChnzxsm8D8KqOJUoifwP4jZpU3+KPA/nOpUKTIq8D9T7XyHQSvwP+cxQj4xLPA/SXtIiwct8D+UTxI+zC3wPx5kvSSJLvA/jf/g30ov8D9UW/+HITDwP7BM3jchMfA/i0V6rWIy8D/PEpYEAzTwP7f1F/AgNvA/HO2BPtQ48D8JRPDOHjzwP/iDJlpePfA/3BeI3iM/8D/h7D+gYkHwP12uhMMHRPA/BrhQpv5G8D/tXKKnLErwP4qwKOhrTfA/83NhPo9Q8D8mHYb4aVPwPwIlh3rTVfA/EBTUTq5X8D94K+b37FjwP8iFIGGNWfA/sO5G15dZ8D/G2eVSIlnwP/tQpSpMWPA/UgvmzTtX8D/a4YeBGVbwP3E8gEEMVfA/Il7dkDxU8D88fi1q0lPwP/ahg8nzU/A/5g2Q9sNU8D8Nz6pdYVbwPzjlGGTlWPA/ANwrgWRc8D9SEo087WDwP6SgzkCJZvA/vWxxiz9t8D+7DMtJFXXwP9XNGqkMfvA/XXHQ1SGI8D+17jo5SpPwPz9jXfN1n/A/rjz+R5Cs8D9P4v7Vf7rwPwt3BwpHyvA/+zlbf+va8D8Jvl6MFOzwP2gZr998/fA/ppu6zfoO8T8+/yeXeCDxP5DbbzLsMfE/ZZm55FFD8T98rNVjqVTxP64S8Bz0ZfE/lZCoWjR38T9spJbLbIjxPx08yN+fmfE/hp+t/M+q8T/3AWKd/7vxPxFjLGUxzfE/lTfGLGje8T/NXQbdpu/xP0bR803wAPI/OuoJJ0cS8j+crqXurSPyPwZmsyAnNfI/jVciR7VG8j/Jj770WljyP0cVN6MaavI/SEDhmvZ78j88a7ri8I3yP2XEGhYLoPI//YsbWUay8j/pww+Mo8TyP3PhKUwj1/I/30F6zcXp8j8DlnnTivzyP/fsFLlxD/M/",
          "dtype": "f8"
         },
         "yaxis": "y"
        }
       ],
       "layout": {
        "legend": {
         "tracegroupgap": 0
        },
        "margin": {
         "t": 60
        },
        "template": {
         "data": {
          "bar": [
           {
            "error_x": {
             "color": "#2a3f5f"
            },
            "error_y": {
             "color": "#2a3f5f"
            },
            "marker": {
             "line": {
              "color": "#E5ECF6",
              "width": 0.5
             },
             "pattern": {
              "fillmode": "overlay",
              "size": 10,
              "solidity": 0.2
             }
            },
            "type": "bar"
           }
          ],
          "barpolar": [
           {
            "marker": {
             "line": {
              "color": "#E5ECF6",
              "width": 0.5
             },
             "pattern": {
              "fillmode": "overlay",
              "size": 10,
              "solidity": 0.2
             }
            },
            "type": "barpolar"
           }
          ],
          "carpet": [
           {
            "aaxis": {
             "endlinecolor": "#2a3f5f",
             "gridcolor": "white",
             "linecolor": "white",
             "minorgridcolor": "white",
             "startlinecolor": "#2a3f5f"
            },
            "baxis": {
             "endlinecolor": "#2a3f5f",
             "gridcolor": "white",
             "linecolor": "white",
             "minorgridcolor": "white",
             "startlinecolor": "#2a3f5f"
            },
            "type": "carpet"
           }
          ],
          "choropleth": [
           {
            "colorbar": {
             "outlinewidth": 0,
             "ticks": ""
            },
            "type": "choropleth"
           }
          ],
          "contour": [
           {
            "colorbar": {
             "outlinewidth": 0,
             "ticks": ""
            },
            "colorscale": [
             [
              0,
              "#0d0887"
             ],
             [
              0.1111111111111111,
              "#46039f"
             ],
             [
              0.2222222222222222,
              "#7201a8"
             ],
             [
              0.3333333333333333,
              "#9c179e"
             ],
             [
              0.4444444444444444,
              "#bd3786"
             ],
             [
              0.5555555555555556,
              "#d8576b"
             ],
             [
              0.6666666666666666,
              "#ed7953"
             ],
             [
              0.7777777777777778,
              "#fb9f3a"
             ],
             [
              0.8888888888888888,
              "#fdca26"
             ],
             [
              1,
              "#f0f921"
             ]
            ],
            "type": "contour"
           }
          ],
          "contourcarpet": [
           {
            "colorbar": {
             "outlinewidth": 0,
             "ticks": ""
            },
            "type": "contourcarpet"
           }
          ],
          "heatmap": [
           {
            "colorbar": {
             "outlinewidth": 0,
             "ticks": ""
            },
            "colorscale": [
             [
              0,
              "#0d0887"
             ],
             [
              0.1111111111111111,
              "#46039f"
             ],
             [
              0.2222222222222222,
              "#7201a8"
             ],
             [
              0.3333333333333333,
              "#9c179e"
             ],
             [
              0.4444444444444444,
              "#bd3786"
             ],
             [
              0.5555555555555556,
              "#d8576b"
             ],
             [
              0.6666666666666666,
              "#ed7953"
             ],
             [
              0.7777777777777778,
              "#fb9f3a"
             ],
             [
              0.8888888888888888,
              "#fdca26"
             ],
             [
              1,
              "#f0f921"
             ]
            ],
            "type": "heatmap"
           }
          ],
          "histogram": [
           {
            "marker": {
             "pattern": {
              "fillmode": "overlay",
              "size": 10,
              "solidity": 0.2
             }
            },
            "type": "histogram"
           }
          ],
          "histogram2d": [
           {
            "colorbar": {
             "outlinewidth": 0,
             "ticks": ""
            },
            "colorscale": [
             [
              0,
              "#0d0887"
             ],
             [
              0.1111111111111111,
              "#46039f"
             ],
             [
              0.2222222222222222,
              "#7201a8"
             ],
             [
              0.3333333333333333,
              "#9c179e"
             ],
             [
              0.4444444444444444,
              "#bd3786"
             ],
             [
              0.5555555555555556,
              "#d8576b"
             ],
             [
              0.6666666666666666,
              "#ed7953"
             ],
             [
              0.7777777777777778,
              "#fb9f3a"
             ],
             [
              0.8888888888888888,
              "#fdca26"
             ],
             [
              1,
              "#f0f921"
             ]
            ],
            "type": "histogram2d"
           }
          ],
          "histogram2dcontour": [
           {
            "colorbar": {
             "outlinewidth": 0,
             "ticks": ""
            },
            "colorscale": [
             [
              0,
              "#0d0887"
             ],
             [
              0.1111111111111111,
              "#46039f"
             ],
             [
              0.2222222222222222,
              "#7201a8"
             ],
             [
              0.3333333333333333,
              "#9c179e"
             ],
             [
              0.4444444444444444,
              "#bd3786"
             ],
             [
              0.5555555555555556,
              "#d8576b"
             ],
             [
              0.6666666666666666,
              "#ed7953"
             ],
             [
              0.7777777777777778,
              "#fb9f3a"
             ],
             [
              0.8888888888888888,
              "#fdca26"
             ],
             [
              1,
              "#f0f921"
             ]
            ],
            "type": "histogram2dcontour"
           }
          ],
          "mesh3d": [
           {
            "colorbar": {
             "outlinewidth": 0,
             "ticks": ""
            },
            "type": "mesh3d"
           }
          ],
          "parcoords": [
           {
            "line": {
             "colorbar": {
              "outlinewidth": 0,
              "ticks": ""
             }
            },
            "type": "parcoords"
           }
          ],
          "pie": [
           {
            "automargin": true,
            "type": "pie"
           }
          ],
          "scatter": [
           {
            "fillpattern": {
             "fillmode": "overlay",
             "size": 10,
             "solidity": 0.2
            },
            "type": "scatter"
           }
          ],
          "scatter3d": [
           {
            "line": {
             "colorbar": {
              "outlinewidth": 0,
              "ticks": ""
             }
            },
            "marker": {
             "colorbar": {
              "outlinewidth": 0,
              "ticks": ""
             }
            },
            "type": "scatter3d"
           }
          ],
          "scattercarpet": [
           {
            "marker": {
             "colorbar": {
              "outlinewidth": 0,
              "ticks": ""
             }
            },
            "type": "scattercarpet"
           }
          ],
          "scattergeo": [
           {
            "marker": {
             "colorbar": {
              "outlinewidth": 0,
              "ticks": ""
             }
            },
            "type": "scattergeo"
           }
          ],
          "scattergl": [
           {
            "marker": {
             "colorbar": {
              "outlinewidth": 0,
              "ticks": ""
             }
            },
            "type": "scattergl"
           }
          ],
          "scattermap": [
           {
            "marker": {
             "colorbar": {
              "outlinewidth": 0,
              "ticks": ""
             }
            },
            "type": "scattermap"
           }
          ],
          "scattermapbox": [
           {
            "marker": {
             "colorbar": {
              "outlinewidth": 0,
              "ticks": ""
             }
            },
            "type": "scattermapbox"
           }
          ],
          "scatterpolar": [
           {
            "marker": {
             "colorbar": {
              "outlinewidth": 0,
              "ticks": ""
             }
            },
            "type": "scatterpolar"
           }
          ],
          "scatterpolargl": [
           {
            "marker": {
             "colorbar": {
              "outlinewidth": 0,
              "ticks": ""
             }
            },
            "type": "scatterpolargl"
           }
          ],
          "scatterternary": [
           {
            "marker": {
             "colorbar": {
              "outlinewidth": 0,
              "ticks": ""
             }
            },
            "type": "scatterternary"
           }
          ],
          "surface": [
           {
            "colorbar": {
             "outlinewidth": 0,
             "ticks": ""
            },
            "colorscale": [
             [
              0,
              "#0d0887"
             ],
             [
              0.1111111111111111,
              "#46039f"
             ],
             [
              0.2222222222222222,
              "#7201a8"
             ],
             [
              0.3333333333333333,
              "#9c179e"
             ],
             [
              0.4444444444444444,
              "#bd3786"
             ],
             [
              0.5555555555555556,
              "#d8576b"
             ],
             [
              0.6666666666666666,
              "#ed7953"
             ],
             [
              0.7777777777777778,
              "#fb9f3a"
             ],
             [
              0.8888888888888888,
              "#fdca26"
             ],
             [
              1,
              "#f0f921"
             ]
            ],
            "type": "surface"
           }
          ],
          "table": [
           {
            "cells": {
             "fill": {
              "color": "#EBF0F8"
             },
             "line": {
              "color": "white"
             }
            },
            "header": {
             "fill": {
              "color": "#C8D4E3"
             },
             "line": {
              "color": "white"
             }
            },
            "type": "table"
           }
          ]
         },
         "layout": {
          "annotationdefaults": {
           "arrowcolor": "#2a3f5f",
           "arrowhead": 0,
           "arrowwidth": 1
          },
          "autotypenumbers": "strict",
          "coloraxis": {
           "colorbar": {
            "outlinewidth": 0,
            "ticks": ""
           }
          },
          "colorscale": {
           "diverging": [
            [
             0,
             "#8e0152"
            ],
            [
             0.1,
             "#c51b7d"
            ],
            [
             0.2,
             "#de77ae"
            ],
            [
             0.3,
             "#f1b6da"
            ],
            [
             0.4,
             "#fde0ef"
            ],
            [
             0.5,
             "#f7f7f7"
            ],
            [
             0.6,
             "#e6f5d0"
            ],
            [
             0.7,
             "#b8e186"
            ],
            [
             0.8,
             "#7fbc41"
            ],
            [
             0.9,
             "#4d9221"
            ],
            [
             1,
             "#276419"
            ]
           ],
           "sequential": [
            [
             0,
             "#0d0887"
            ],
            [
             0.1111111111111111,
             "#46039f"
            ],
            [
             0.2222222222222222,
             "#7201a8"
            ],
            [
             0.3333333333333333,
             "#9c179e"
            ],
            [
             0.4444444444444444,
             "#bd3786"
            ],
            [
             0.5555555555555556,
             "#d8576b"
            ],
            [
             0.6666666666666666,
             "#ed7953"
            ],
            [
             0.7777777777777778,
             "#fb9f3a"
            ],
            [
             0.8888888888888888,
             "#fdca26"
            ],
            [
             1,
             "#f0f921"
            ]
           ],
           "sequentialminus": [
            [
             0,
             "#0d0887"
            ],
            [
             0.1111111111111111,
             "#46039f"
            ],
            [
             0.2222222222222222,
             "#7201a8"
            ],
            [
             0.3333333333333333,
             "#9c179e"
            ],
            [
             0.4444444444444444,
             "#bd3786"
            ],
            [
             0.5555555555555556,
             "#d8576b"
            ],
            [
             0.6666666666666666,
             "#ed7953"
            ],
            [
             0.7777777777777778,
             "#fb9f3a"
            ],
            [
             0.8888888888888888,
             "#fdca26"
            ],
            [
             1,
             "#f0f921"
            ]
           ]
          },
          "colorway": [
           "#636efa",
           "#EF553B",
           "#00cc96",
           "#ab63fa",
           "#FFA15A",
           "#19d3f3",
           "#FF6692",
           "#B6E880",
           "#FF97FF",
           "#FECB52"
          ],
          "font": {
           "color": "#2a3f5f"
          },
          "geo": {
           "bgcolor": "white",
           "lakecolor": "white",
           "landcolor": "#E5ECF6",
           "showlakes": true,
           "showland": true,
           "subunitcolor": "white"
          },
          "hoverlabel": {
           "align": "left"
          },
          "hovermode": "closest",
          "mapbox": {
           "style": "light"
          },
          "paper_bgcolor": "white",
          "plot_bgcolor": "#E5ECF6",
          "polar": {
           "angularaxis": {
            "gridcolor": "white",
            "linecolor": "white",
            "ticks": ""
           },
           "bgcolor": "#E5ECF6",
           "radialaxis": {
            "gridcolor": "white",
            "linecolor": "white",
            "ticks": ""
           }
          },
          "scene": {
           "xaxis": {
            "backgroundcolor": "#E5ECF6",
            "gridcolor": "white",
            "gridwidth": 2,
            "linecolor": "white",
            "showbackground": true,
            "ticks": "",
            "zerolinecolor": "white"
           },
           "yaxis": {
            "backgroundcolor": "#E5ECF6",
            "gridcolor": "white",
            "gridwidth": 2,
            "linecolor": "white",
            "showbackground": true,
            "ticks": "",
            "zerolinecolor": "white"
           },
           "zaxis": {
            "backgroundcolor": "#E5ECF6",
            "gridcolor": "white",
            "gridwidth": 2,
            "linecolor": "white",
            "showbackground": true,
            "ticks": "",
            "zerolinecolor": "white"
           }
          },
          "shapedefaults": {
           "line": {
            "color": "#2a3f5f"
           }
          },
          "ternary": {
           "aaxis": {
            "gridcolor": "white",
            "linecolor": "white",
            "ticks": ""
           },
           "baxis": {
            "gridcolor": "white",
            "linecolor": "white",
            "ticks": ""
           },
           "bgcolor": "#E5ECF6",
           "caxis": {
            "gridcolor": "white",
            "linecolor": "white",
            "ticks": ""
           }
          },
          "title": {
           "x": 0.05
          },
          "xaxis": {
           "automargin": true,
           "gridcolor": "white",
           "linecolor": "white",
           "ticks": "",
           "title": {
            "standoff": 15
           },
           "zerolinecolor": "white",
           "zerolinewidth": 2
          },
          "yaxis": {
           "automargin": true,
           "gridcolor": "white",
           "linecolor": "white",
           "ticks": "",
           "title": {
            "standoff": 15
           },
           "zerolinecolor": "white",
           "zerolinewidth": 2
          }
         }
        },
        "xaxis": {
         "anchor": "y",
         "domain": [
          0,
          1
         ],
         "title": {
          "text": "date"
         }
        },
        "yaxis": {
         "anchor": "x",
         "domain": [
          0,
          1
         ],
         "title": {
          "text": "GOOG"
         }
        }
       }
      }
     },
     "metadata": {},
     "output_type": "display_data"
    }
   ],
   "source": [
    "import plotly.express as px\n",
    "\n",
    "df = px.data.stocks(datetimes=True)\n",
    "fig = px.scatter(df, x=\"date\", y=\"GOOG\", trendline=\"lowess\")\n",
    "fig.show()"
   ]
  },
  {
   "cell_type": "code",
   "execution_count": 12,
   "id": "28582f5b",
   "metadata": {},
   "outputs": [
    {
     "data": {
      "application/vnd.plotly.v1+json": {
       "config": {
        "plotlyServerURL": "https://plot.ly"
       },
       "data": [
        {
         "hovertemplate": "date=%{x}<br>GOOG=%{y}<extra></extra>",
         "legendgroup": "",
         "marker": {
          "color": "#636efa",
          "symbol": "circle"
         },
         "mode": "markers",
         "name": "",
         "orientation": "v",
         "showlegend": false,
         "type": "scatter",
         "x": [
          "2018-01-01T00:00:00.000000000",
          "2018-01-08T00:00:00.000000000",
          "2018-01-15T00:00:00.000000000",
          "2018-01-22T00:00:00.000000000",
          "2018-01-29T00:00:00.000000000",
          "2018-02-05T00:00:00.000000000",
          "2018-02-12T00:00:00.000000000",
          "2018-02-19T00:00:00.000000000",
          "2018-02-26T00:00:00.000000000",
          "2018-03-05T00:00:00.000000000",
          "2018-03-12T00:00:00.000000000",
          "2018-03-19T00:00:00.000000000",
          "2018-03-26T00:00:00.000000000",
          "2018-04-02T00:00:00.000000000",
          "2018-04-09T00:00:00.000000000",
          "2018-04-16T00:00:00.000000000",
          "2018-04-23T00:00:00.000000000",
          "2018-04-30T00:00:00.000000000",
          "2018-05-07T00:00:00.000000000",
          "2018-05-14T00:00:00.000000000",
          "2018-05-21T00:00:00.000000000",
          "2018-05-28T00:00:00.000000000",
          "2018-06-04T00:00:00.000000000",
          "2018-06-11T00:00:00.000000000",
          "2018-06-18T00:00:00.000000000",
          "2018-06-25T00:00:00.000000000",
          "2018-07-02T00:00:00.000000000",
          "2018-07-09T00:00:00.000000000",
          "2018-07-16T00:00:00.000000000",
          "2018-07-23T00:00:00.000000000",
          "2018-07-30T00:00:00.000000000",
          "2018-08-06T00:00:00.000000000",
          "2018-08-13T00:00:00.000000000",
          "2018-08-20T00:00:00.000000000",
          "2018-08-27T00:00:00.000000000",
          "2018-09-03T00:00:00.000000000",
          "2018-09-10T00:00:00.000000000",
          "2018-09-17T00:00:00.000000000",
          "2018-09-24T00:00:00.000000000",
          "2018-10-01T00:00:00.000000000",
          "2018-10-08T00:00:00.000000000",
          "2018-10-15T00:00:00.000000000",
          "2018-10-22T00:00:00.000000000",
          "2018-10-29T00:00:00.000000000",
          "2018-11-05T00:00:00.000000000",
          "2018-11-12T00:00:00.000000000",
          "2018-11-19T00:00:00.000000000",
          "2018-11-26T00:00:00.000000000",
          "2018-12-03T00:00:00.000000000",
          "2018-12-10T00:00:00.000000000",
          "2018-12-17T00:00:00.000000000",
          "2018-12-24T00:00:00.000000000",
          "2018-12-31T00:00:00.000000000",
          "2019-01-07T00:00:00.000000000",
          "2019-01-14T00:00:00.000000000",
          "2019-01-21T00:00:00.000000000",
          "2019-01-28T00:00:00.000000000",
          "2019-02-04T00:00:00.000000000",
          "2019-02-11T00:00:00.000000000",
          "2019-02-18T00:00:00.000000000",
          "2019-02-25T00:00:00.000000000",
          "2019-03-04T00:00:00.000000000",
          "2019-03-11T00:00:00.000000000",
          "2019-03-18T00:00:00.000000000",
          "2019-03-25T00:00:00.000000000",
          "2019-04-01T00:00:00.000000000",
          "2019-04-08T00:00:00.000000000",
          "2019-04-15T00:00:00.000000000",
          "2019-04-22T00:00:00.000000000",
          "2019-04-29T00:00:00.000000000",
          "2019-05-06T00:00:00.000000000",
          "2019-05-13T00:00:00.000000000",
          "2019-05-20T00:00:00.000000000",
          "2019-05-27T00:00:00.000000000",
          "2019-06-03T00:00:00.000000000",
          "2019-06-10T00:00:00.000000000",
          "2019-06-17T00:00:00.000000000",
          "2019-06-24T00:00:00.000000000",
          "2019-07-01T00:00:00.000000000",
          "2019-07-08T00:00:00.000000000",
          "2019-07-15T00:00:00.000000000",
          "2019-07-22T00:00:00.000000000",
          "2019-07-29T00:00:00.000000000",
          "2019-08-05T00:00:00.000000000",
          "2019-08-12T00:00:00.000000000",
          "2019-08-19T00:00:00.000000000",
          "2019-08-26T00:00:00.000000000",
          "2019-09-02T00:00:00.000000000",
          "2019-09-09T00:00:00.000000000",
          "2019-09-16T00:00:00.000000000",
          "2019-09-23T00:00:00.000000000",
          "2019-09-30T00:00:00.000000000",
          "2019-10-07T00:00:00.000000000",
          "2019-10-14T00:00:00.000000000",
          "2019-10-21T00:00:00.000000000",
          "2019-10-28T00:00:00.000000000",
          "2019-11-04T00:00:00.000000000",
          "2019-11-11T00:00:00.000000000",
          "2019-11-18T00:00:00.000000000",
          "2019-11-25T00:00:00.000000000",
          "2019-12-02T00:00:00.000000000",
          "2019-12-09T00:00:00.000000000",
          "2019-12-16T00:00:00.000000000",
          "2019-12-23T00:00:00.000000000",
          "2019-12-30T00:00:00.000000000"
         ],
         "xaxis": "x",
         "y": {
          "bdata": "AAAAAAAA8D/OK9MDb0rwP68QOq4ag/A/9oPp0ooR8T8TsS9U7yPwP99D4KT+IO4/3Hw6e8fI7z+q8F+IRFvwP9LSdHnBUu8/LIMaANTW8D8JvFtMfXzwPz7QZruEqO0/HpxM0nn07T+3TPA/hzztPxfM6R6/4e0/IXrkjXUm7z8heCA9i+ftP6NcPhmDbu4/QjPHjn7i7z+qgyQlaPXuP+V5ctWGOu8/ZFIUWy1A8D9vrqGpREXwP4WiXq/qufA/U4wX6uHF8D/pH6HJ3jHwP3Um9zr9jPA/0NEB+MZB8T9XHtVhPzPxPyuHvbZk+vE/NwuPnm7D8T/XXM4FFvfxP6hIRQnkbvE/az8Jog+48T9kWBFN667xP01QZMGg6PA/pI7CAT4F8T+UMFxuT+3wP6R7NKQOU/E/85Ml4tTM8D/YyoXbKx3wP2L4PrQd1e8/L6n6oWIb7z/SWD6VtrXuP9oE9qnY8+4/8kBpRjbR7j+goGHWr7ntP/MQKYMHxu8/XzbgVBMY7j8FnNv3GUHuP7udcIUkcOw/dtxkp8ob7j+2jo+avBXvP53HSc9Ase4/QjPHjn7i7z9LiPtKdqzvPxmlC0mpH/A/OvEgMLbK7z+605ckcCrwP3zeMMc/HvA/rDRmQwmQ8D+apul6+pTwPymUuDeTMfE/Lh6kE8N/8T8zPRwRJAjxPzJ9CsjkhfE/OJ3k7bqt8T/lnXpkevLxPxPbLk2Nd/I/umBFhRE18T9FfGgTjObwP4oJl/853/A/NI4dTRd08D8JjgPgMwXwP1INy2YH8+4/3LqtWYuC7z8wZfiBBUnwP9tJ47eLYe8/dM57zxpt8D8PGkn3kJ7wP/vlhlmRZ/A/R53F/qYm8j95l9xY/VTxP0LUZHXEPvE/R7cjKRUY8T/i1RHuT7bwPzyHlAsaP/E/fDnW36R98T+zOPArVf7xP79xyu6L2vE/7Hfuco/I8T9/Y3S0xIzxP06g9q+8pPE/IwGMcl4U8j+pVbJuWl3yPzJVr01ZffI/r0ZXkS8J8z/PhYSkg2DzP8kL1dedzfI/E8Ioj13x8j/WQP++4XXzP+AKN76skPM/MT5xFDeX8z+urvcqw5/zP2qQawKBaPM/",
          "dtype": "f8"
         },
         "yaxis": "y"
        },
        {
         "hovertemplate": "<b>LOWESS trendline</b><br><br>date=%{x}<br>GOOG=%{y} <b>(trend)</b><extra></extra>",
         "legendgroup": "",
         "marker": {
          "color": "#636efa",
          "symbol": "circle"
         },
         "mode": "lines",
         "name": "",
         "showlegend": false,
         "type": "scatter",
         "x": [
          "2018-01-01T00:00:00.000000000",
          "2018-01-08T00:00:00.000000000",
          "2018-01-15T00:00:00.000000000",
          "2018-01-22T00:00:00.000000000",
          "2018-01-29T00:00:00.000000000",
          "2018-02-05T00:00:00.000000000",
          "2018-02-12T00:00:00.000000000",
          "2018-02-19T00:00:00.000000000",
          "2018-02-26T00:00:00.000000000",
          "2018-03-05T00:00:00.000000000",
          "2018-03-12T00:00:00.000000000",
          "2018-03-19T00:00:00.000000000",
          "2018-03-26T00:00:00.000000000",
          "2018-04-02T00:00:00.000000000",
          "2018-04-09T00:00:00.000000000",
          "2018-04-16T00:00:00.000000000",
          "2018-04-23T00:00:00.000000000",
          "2018-04-30T00:00:00.000000000",
          "2018-05-07T00:00:00.000000000",
          "2018-05-14T00:00:00.000000000",
          "2018-05-21T00:00:00.000000000",
          "2018-05-28T00:00:00.000000000",
          "2018-06-04T00:00:00.000000000",
          "2018-06-11T00:00:00.000000000",
          "2018-06-18T00:00:00.000000000",
          "2018-06-25T00:00:00.000000000",
          "2018-07-02T00:00:00.000000000",
          "2018-07-09T00:00:00.000000000",
          "2018-07-16T00:00:00.000000000",
          "2018-07-23T00:00:00.000000000",
          "2018-07-30T00:00:00.000000000",
          "2018-08-06T00:00:00.000000000",
          "2018-08-13T00:00:00.000000000",
          "2018-08-20T00:00:00.000000000",
          "2018-08-27T00:00:00.000000000",
          "2018-09-03T00:00:00.000000000",
          "2018-09-10T00:00:00.000000000",
          "2018-09-17T00:00:00.000000000",
          "2018-09-24T00:00:00.000000000",
          "2018-10-01T00:00:00.000000000",
          "2018-10-08T00:00:00.000000000",
          "2018-10-15T00:00:00.000000000",
          "2018-10-22T00:00:00.000000000",
          "2018-10-29T00:00:00.000000000",
          "2018-11-05T00:00:00.000000000",
          "2018-11-12T00:00:00.000000000",
          "2018-11-19T00:00:00.000000000",
          "2018-11-26T00:00:00.000000000",
          "2018-12-03T00:00:00.000000000",
          "2018-12-10T00:00:00.000000000",
          "2018-12-17T00:00:00.000000000",
          "2018-12-24T00:00:00.000000000",
          "2018-12-31T00:00:00.000000000",
          "2019-01-07T00:00:00.000000000",
          "2019-01-14T00:00:00.000000000",
          "2019-01-21T00:00:00.000000000",
          "2019-01-28T00:00:00.000000000",
          "2019-02-04T00:00:00.000000000",
          "2019-02-11T00:00:00.000000000",
          "2019-02-18T00:00:00.000000000",
          "2019-02-25T00:00:00.000000000",
          "2019-03-04T00:00:00.000000000",
          "2019-03-11T00:00:00.000000000",
          "2019-03-18T00:00:00.000000000",
          "2019-03-25T00:00:00.000000000",
          "2019-04-01T00:00:00.000000000",
          "2019-04-08T00:00:00.000000000",
          "2019-04-15T00:00:00.000000000",
          "2019-04-22T00:00:00.000000000",
          "2019-04-29T00:00:00.000000000",
          "2019-05-06T00:00:00.000000000",
          "2019-05-13T00:00:00.000000000",
          "2019-05-20T00:00:00.000000000",
          "2019-05-27T00:00:00.000000000",
          "2019-06-03T00:00:00.000000000",
          "2019-06-10T00:00:00.000000000",
          "2019-06-17T00:00:00.000000000",
          "2019-06-24T00:00:00.000000000",
          "2019-07-01T00:00:00.000000000",
          "2019-07-08T00:00:00.000000000",
          "2019-07-15T00:00:00.000000000",
          "2019-07-22T00:00:00.000000000",
          "2019-07-29T00:00:00.000000000",
          "2019-08-05T00:00:00.000000000",
          "2019-08-12T00:00:00.000000000",
          "2019-08-19T00:00:00.000000000",
          "2019-08-26T00:00:00.000000000",
          "2019-09-02T00:00:00.000000000",
          "2019-09-09T00:00:00.000000000",
          "2019-09-16T00:00:00.000000000",
          "2019-09-23T00:00:00.000000000",
          "2019-09-30T00:00:00.000000000",
          "2019-10-07T00:00:00.000000000",
          "2019-10-14T00:00:00.000000000",
          "2019-10-21T00:00:00.000000000",
          "2019-10-28T00:00:00.000000000",
          "2019-11-04T00:00:00.000000000",
          "2019-11-11T00:00:00.000000000",
          "2019-11-18T00:00:00.000000000",
          "2019-11-25T00:00:00.000000000",
          "2019-12-02T00:00:00.000000000",
          "2019-12-09T00:00:00.000000000",
          "2019-12-16T00:00:00.000000000",
          "2019-12-23T00:00:00.000000000",
          "2019-12-30T00:00:00.000000000"
         ],
         "xaxis": "x",
         "y": {
          "bdata": "DqJD/ZhG8D8qs0lYCkbwP6YYF2vTQvA/Z4CjndU+8D8NQgS3IjzwP1goOEubKvA/hLqlwRYN8D86WHcmPtLvPxt/Dgeybe8/FvBOKxAI7z8Q4E5aDqPuP4y3zEo4Pu4/FnIpOFbo7T9ts8nvIOftP/W/MReoCu4/hAJArmFA7j+ZXRorqH/uP4TayZ43wu4/Sgl0iwYK7z90CSNmk2DvP6YAqQeYy+8/ImylIE8Z8D+PnvzAu0PwPzhZ1i1TavA/9ht0HO6S8D/WCkHf7LvwP1Eh7pAg6PA/+A3+k9sX8T/K7YscvEzxP5xcTqWRfPE/BCy+x1Wd8T/DYkWbDazxP2WEgDCuo/E/CqTksiOF8T9KJuZYuGHxPyfXUv6hQvE/pUBooGch8T8BDZvXqfLwP3J2jJxbvPA/q1Tbdu6D8D+HwMAzeUXwP+f+yUtuAvA/pI34DhSE7z95TIMOMxvvP9NiP79z2O4/2XkPyWCu7j+7/bN/V43uPz72ywvwau4/HlFh6q9V7j9cU7uzMlnuPwggZ/Bobe4/kpezy+CQ7j+GtxFNOsnuPzrcgv0YFe8/VxdACQNm7z/JMZBZ1qrvP7DheJrC5e8/q1r/LcwQ8D+JLwe/2C/wPyGQAMbZWPA/BWrjkdGL8D+4IsYcu8DwPy17z1c59PA/3+UjUEQo8T+z5qjgmFrxP2jDyppOfvE/foP9A2V/8T/ICZLQa27xP/aCHtFvWPE/zQAXcsoz8T/PrtI67frwP/e9TFxIsPA/6L6vDBhs8D9mOkwFVTzwP3fRFC8sGfA/KvRUed0I8D8h4Vr1BQ7wP6tjsc4fJ/A/5UnMQQpO8D8fYhikxH7wP1fmx68Wr/A/ZtwbBpnW8D9wfHXLH/LwP/l+2I44DfE/k7ZhstEp8T9/cr7spUHxP9U1yt2fXPE/6gsy+B558T+GP+TQ55XxPzSz2QKyrvE/DImBEQ7E8T/nvsjeutnxP2lRku0E9PE/cxWNQsQd8j8wTUTuTlfyPzQsPpm4kPI/jEUEeNm/8j9HAu3EGuvyP39ZG1+5FPM/ZzxEnvo28z+OIsE8X0/zP0Nm7NGSZPM/zgy75eB58z+FK8sV1Y7zP+eLSftGovM/",
          "dtype": "f8"
         },
         "yaxis": "y"
        }
       ],
       "layout": {
        "legend": {
         "tracegroupgap": 0
        },
        "margin": {
         "t": 60
        },
        "template": {
         "data": {
          "bar": [
           {
            "error_x": {
             "color": "#2a3f5f"
            },
            "error_y": {
             "color": "#2a3f5f"
            },
            "marker": {
             "line": {
              "color": "#E5ECF6",
              "width": 0.5
             },
             "pattern": {
              "fillmode": "overlay",
              "size": 10,
              "solidity": 0.2
             }
            },
            "type": "bar"
           }
          ],
          "barpolar": [
           {
            "marker": {
             "line": {
              "color": "#E5ECF6",
              "width": 0.5
             },
             "pattern": {
              "fillmode": "overlay",
              "size": 10,
              "solidity": 0.2
             }
            },
            "type": "barpolar"
           }
          ],
          "carpet": [
           {
            "aaxis": {
             "endlinecolor": "#2a3f5f",
             "gridcolor": "white",
             "linecolor": "white",
             "minorgridcolor": "white",
             "startlinecolor": "#2a3f5f"
            },
            "baxis": {
             "endlinecolor": "#2a3f5f",
             "gridcolor": "white",
             "linecolor": "white",
             "minorgridcolor": "white",
             "startlinecolor": "#2a3f5f"
            },
            "type": "carpet"
           }
          ],
          "choropleth": [
           {
            "colorbar": {
             "outlinewidth": 0,
             "ticks": ""
            },
            "type": "choropleth"
           }
          ],
          "contour": [
           {
            "colorbar": {
             "outlinewidth": 0,
             "ticks": ""
            },
            "colorscale": [
             [
              0,
              "#0d0887"
             ],
             [
              0.1111111111111111,
              "#46039f"
             ],
             [
              0.2222222222222222,
              "#7201a8"
             ],
             [
              0.3333333333333333,
              "#9c179e"
             ],
             [
              0.4444444444444444,
              "#bd3786"
             ],
             [
              0.5555555555555556,
              "#d8576b"
             ],
             [
              0.6666666666666666,
              "#ed7953"
             ],
             [
              0.7777777777777778,
              "#fb9f3a"
             ],
             [
              0.8888888888888888,
              "#fdca26"
             ],
             [
              1,
              "#f0f921"
             ]
            ],
            "type": "contour"
           }
          ],
          "contourcarpet": [
           {
            "colorbar": {
             "outlinewidth": 0,
             "ticks": ""
            },
            "type": "contourcarpet"
           }
          ],
          "heatmap": [
           {
            "colorbar": {
             "outlinewidth": 0,
             "ticks": ""
            },
            "colorscale": [
             [
              0,
              "#0d0887"
             ],
             [
              0.1111111111111111,
              "#46039f"
             ],
             [
              0.2222222222222222,
              "#7201a8"
             ],
             [
              0.3333333333333333,
              "#9c179e"
             ],
             [
              0.4444444444444444,
              "#bd3786"
             ],
             [
              0.5555555555555556,
              "#d8576b"
             ],
             [
              0.6666666666666666,
              "#ed7953"
             ],
             [
              0.7777777777777778,
              "#fb9f3a"
             ],
             [
              0.8888888888888888,
              "#fdca26"
             ],
             [
              1,
              "#f0f921"
             ]
            ],
            "type": "heatmap"
           }
          ],
          "histogram": [
           {
            "marker": {
             "pattern": {
              "fillmode": "overlay",
              "size": 10,
              "solidity": 0.2
             }
            },
            "type": "histogram"
           }
          ],
          "histogram2d": [
           {
            "colorbar": {
             "outlinewidth": 0,
             "ticks": ""
            },
            "colorscale": [
             [
              0,
              "#0d0887"
             ],
             [
              0.1111111111111111,
              "#46039f"
             ],
             [
              0.2222222222222222,
              "#7201a8"
             ],
             [
              0.3333333333333333,
              "#9c179e"
             ],
             [
              0.4444444444444444,
              "#bd3786"
             ],
             [
              0.5555555555555556,
              "#d8576b"
             ],
             [
              0.6666666666666666,
              "#ed7953"
             ],
             [
              0.7777777777777778,
              "#fb9f3a"
             ],
             [
              0.8888888888888888,
              "#fdca26"
             ],
             [
              1,
              "#f0f921"
             ]
            ],
            "type": "histogram2d"
           }
          ],
          "histogram2dcontour": [
           {
            "colorbar": {
             "outlinewidth": 0,
             "ticks": ""
            },
            "colorscale": [
             [
              0,
              "#0d0887"
             ],
             [
              0.1111111111111111,
              "#46039f"
             ],
             [
              0.2222222222222222,
              "#7201a8"
             ],
             [
              0.3333333333333333,
              "#9c179e"
             ],
             [
              0.4444444444444444,
              "#bd3786"
             ],
             [
              0.5555555555555556,
              "#d8576b"
             ],
             [
              0.6666666666666666,
              "#ed7953"
             ],
             [
              0.7777777777777778,
              "#fb9f3a"
             ],
             [
              0.8888888888888888,
              "#fdca26"
             ],
             [
              1,
              "#f0f921"
             ]
            ],
            "type": "histogram2dcontour"
           }
          ],
          "mesh3d": [
           {
            "colorbar": {
             "outlinewidth": 0,
             "ticks": ""
            },
            "type": "mesh3d"
           }
          ],
          "parcoords": [
           {
            "line": {
             "colorbar": {
              "outlinewidth": 0,
              "ticks": ""
             }
            },
            "type": "parcoords"
           }
          ],
          "pie": [
           {
            "automargin": true,
            "type": "pie"
           }
          ],
          "scatter": [
           {
            "fillpattern": {
             "fillmode": "overlay",
             "size": 10,
             "solidity": 0.2
            },
            "type": "scatter"
           }
          ],
          "scatter3d": [
           {
            "line": {
             "colorbar": {
              "outlinewidth": 0,
              "ticks": ""
             }
            },
            "marker": {
             "colorbar": {
              "outlinewidth": 0,
              "ticks": ""
             }
            },
            "type": "scatter3d"
           }
          ],
          "scattercarpet": [
           {
            "marker": {
             "colorbar": {
              "outlinewidth": 0,
              "ticks": ""
             }
            },
            "type": "scattercarpet"
           }
          ],
          "scattergeo": [
           {
            "marker": {
             "colorbar": {
              "outlinewidth": 0,
              "ticks": ""
             }
            },
            "type": "scattergeo"
           }
          ],
          "scattergl": [
           {
            "marker": {
             "colorbar": {
              "outlinewidth": 0,
              "ticks": ""
             }
            },
            "type": "scattergl"
           }
          ],
          "scattermap": [
           {
            "marker": {
             "colorbar": {
              "outlinewidth": 0,
              "ticks": ""
             }
            },
            "type": "scattermap"
           }
          ],
          "scattermapbox": [
           {
            "marker": {
             "colorbar": {
              "outlinewidth": 0,
              "ticks": ""
             }
            },
            "type": "scattermapbox"
           }
          ],
          "scatterpolar": [
           {
            "marker": {
             "colorbar": {
              "outlinewidth": 0,
              "ticks": ""
             }
            },
            "type": "scatterpolar"
           }
          ],
          "scatterpolargl": [
           {
            "marker": {
             "colorbar": {
              "outlinewidth": 0,
              "ticks": ""
             }
            },
            "type": "scatterpolargl"
           }
          ],
          "scatterternary": [
           {
            "marker": {
             "colorbar": {
              "outlinewidth": 0,
              "ticks": ""
             }
            },
            "type": "scatterternary"
           }
          ],
          "surface": [
           {
            "colorbar": {
             "outlinewidth": 0,
             "ticks": ""
            },
            "colorscale": [
             [
              0,
              "#0d0887"
             ],
             [
              0.1111111111111111,
              "#46039f"
             ],
             [
              0.2222222222222222,
              "#7201a8"
             ],
             [
              0.3333333333333333,
              "#9c179e"
             ],
             [
              0.4444444444444444,
              "#bd3786"
             ],
             [
              0.5555555555555556,
              "#d8576b"
             ],
             [
              0.6666666666666666,
              "#ed7953"
             ],
             [
              0.7777777777777778,
              "#fb9f3a"
             ],
             [
              0.8888888888888888,
              "#fdca26"
             ],
             [
              1,
              "#f0f921"
             ]
            ],
            "type": "surface"
           }
          ],
          "table": [
           {
            "cells": {
             "fill": {
              "color": "#EBF0F8"
             },
             "line": {
              "color": "white"
             }
            },
            "header": {
             "fill": {
              "color": "#C8D4E3"
             },
             "line": {
              "color": "white"
             }
            },
            "type": "table"
           }
          ]
         },
         "layout": {
          "annotationdefaults": {
           "arrowcolor": "#2a3f5f",
           "arrowhead": 0,
           "arrowwidth": 1
          },
          "autotypenumbers": "strict",
          "coloraxis": {
           "colorbar": {
            "outlinewidth": 0,
            "ticks": ""
           }
          },
          "colorscale": {
           "diverging": [
            [
             0,
             "#8e0152"
            ],
            [
             0.1,
             "#c51b7d"
            ],
            [
             0.2,
             "#de77ae"
            ],
            [
             0.3,
             "#f1b6da"
            ],
            [
             0.4,
             "#fde0ef"
            ],
            [
             0.5,
             "#f7f7f7"
            ],
            [
             0.6,
             "#e6f5d0"
            ],
            [
             0.7,
             "#b8e186"
            ],
            [
             0.8,
             "#7fbc41"
            ],
            [
             0.9,
             "#4d9221"
            ],
            [
             1,
             "#276419"
            ]
           ],
           "sequential": [
            [
             0,
             "#0d0887"
            ],
            [
             0.1111111111111111,
             "#46039f"
            ],
            [
             0.2222222222222222,
             "#7201a8"
            ],
            [
             0.3333333333333333,
             "#9c179e"
            ],
            [
             0.4444444444444444,
             "#bd3786"
            ],
            [
             0.5555555555555556,
             "#d8576b"
            ],
            [
             0.6666666666666666,
             "#ed7953"
            ],
            [
             0.7777777777777778,
             "#fb9f3a"
            ],
            [
             0.8888888888888888,
             "#fdca26"
            ],
            [
             1,
             "#f0f921"
            ]
           ],
           "sequentialminus": [
            [
             0,
             "#0d0887"
            ],
            [
             0.1111111111111111,
             "#46039f"
            ],
            [
             0.2222222222222222,
             "#7201a8"
            ],
            [
             0.3333333333333333,
             "#9c179e"
            ],
            [
             0.4444444444444444,
             "#bd3786"
            ],
            [
             0.5555555555555556,
             "#d8576b"
            ],
            [
             0.6666666666666666,
             "#ed7953"
            ],
            [
             0.7777777777777778,
             "#fb9f3a"
            ],
            [
             0.8888888888888888,
             "#fdca26"
            ],
            [
             1,
             "#f0f921"
            ]
           ]
          },
          "colorway": [
           "#636efa",
           "#EF553B",
           "#00cc96",
           "#ab63fa",
           "#FFA15A",
           "#19d3f3",
           "#FF6692",
           "#B6E880",
           "#FF97FF",
           "#FECB52"
          ],
          "font": {
           "color": "#2a3f5f"
          },
          "geo": {
           "bgcolor": "white",
           "lakecolor": "white",
           "landcolor": "#E5ECF6",
           "showlakes": true,
           "showland": true,
           "subunitcolor": "white"
          },
          "hoverlabel": {
           "align": "left"
          },
          "hovermode": "closest",
          "mapbox": {
           "style": "light"
          },
          "paper_bgcolor": "white",
          "plot_bgcolor": "#E5ECF6",
          "polar": {
           "angularaxis": {
            "gridcolor": "white",
            "linecolor": "white",
            "ticks": ""
           },
           "bgcolor": "#E5ECF6",
           "radialaxis": {
            "gridcolor": "white",
            "linecolor": "white",
            "ticks": ""
           }
          },
          "scene": {
           "xaxis": {
            "backgroundcolor": "#E5ECF6",
            "gridcolor": "white",
            "gridwidth": 2,
            "linecolor": "white",
            "showbackground": true,
            "ticks": "",
            "zerolinecolor": "white"
           },
           "yaxis": {
            "backgroundcolor": "#E5ECF6",
            "gridcolor": "white",
            "gridwidth": 2,
            "linecolor": "white",
            "showbackground": true,
            "ticks": "",
            "zerolinecolor": "white"
           },
           "zaxis": {
            "backgroundcolor": "#E5ECF6",
            "gridcolor": "white",
            "gridwidth": 2,
            "linecolor": "white",
            "showbackground": true,
            "ticks": "",
            "zerolinecolor": "white"
           }
          },
          "shapedefaults": {
           "line": {
            "color": "#2a3f5f"
           }
          },
          "ternary": {
           "aaxis": {
            "gridcolor": "white",
            "linecolor": "white",
            "ticks": ""
           },
           "baxis": {
            "gridcolor": "white",
            "linecolor": "white",
            "ticks": ""
           },
           "bgcolor": "#E5ECF6",
           "caxis": {
            "gridcolor": "white",
            "linecolor": "white",
            "ticks": ""
           }
          },
          "title": {
           "x": 0.05
          },
          "xaxis": {
           "automargin": true,
           "gridcolor": "white",
           "linecolor": "white",
           "ticks": "",
           "title": {
            "standoff": 15
           },
           "zerolinecolor": "white",
           "zerolinewidth": 2
          },
          "yaxis": {
           "automargin": true,
           "gridcolor": "white",
           "linecolor": "white",
           "ticks": "",
           "title": {
            "standoff": 15
           },
           "zerolinecolor": "white",
           "zerolinewidth": 2
          }
         }
        },
        "xaxis": {
         "anchor": "y",
         "domain": [
          0,
          1
         ],
         "title": {
          "text": "date"
         }
        },
        "yaxis": {
         "anchor": "x",
         "domain": [
          0,
          1
         ],
         "title": {
          "text": "GOOG"
         }
        }
       }
      }
     },
     "metadata": {},
     "output_type": "display_data"
    }
   ],
   "source": [
    "import plotly.express as px\n",
    "\n",
    "df = px.data.stocks(datetimes=True)\n",
    "fig = px.scatter(\n",
    "    df, x=\"date\", y=\"GOOG\", trendline=\"lowess\", trendline_options=dict(frac=0.1)\n",
    ")\n",
    "fig.show()"
   ]
  },
  {
   "cell_type": "code",
   "execution_count": 13,
   "id": "37cb616f",
   "metadata": {},
   "outputs": [
    {
     "data": {
      "application/vnd.plotly.v1+json": {
       "config": {
        "plotlyServerURL": "https://plot.ly"
       },
       "data": [
        {
         "hovertemplate": "date=%{x}<br>GOOG=%{y}<extra></extra>",
         "legendgroup": "",
         "marker": {
          "color": "#636efa",
          "symbol": "circle"
         },
         "mode": "markers",
         "name": "",
         "orientation": "v",
         "showlegend": false,
         "type": "scatter",
         "x": [
          "2018-01-01T00:00:00.000000000",
          "2018-01-08T00:00:00.000000000",
          "2018-01-15T00:00:00.000000000",
          "2018-01-22T00:00:00.000000000",
          "2018-01-29T00:00:00.000000000",
          "2018-02-05T00:00:00.000000000",
          "2018-02-12T00:00:00.000000000",
          "2018-02-19T00:00:00.000000000",
          "2018-02-26T00:00:00.000000000",
          "2018-03-05T00:00:00.000000000",
          "2018-03-12T00:00:00.000000000",
          "2018-03-19T00:00:00.000000000",
          "2018-03-26T00:00:00.000000000",
          "2018-04-02T00:00:00.000000000",
          "2018-04-09T00:00:00.000000000",
          "2018-04-16T00:00:00.000000000",
          "2018-04-23T00:00:00.000000000",
          "2018-04-30T00:00:00.000000000",
          "2018-05-07T00:00:00.000000000",
          "2018-05-14T00:00:00.000000000",
          "2018-05-21T00:00:00.000000000",
          "2018-05-28T00:00:00.000000000",
          "2018-06-04T00:00:00.000000000",
          "2018-06-11T00:00:00.000000000",
          "2018-06-18T00:00:00.000000000",
          "2018-06-25T00:00:00.000000000",
          "2018-07-02T00:00:00.000000000",
          "2018-07-09T00:00:00.000000000",
          "2018-07-16T00:00:00.000000000",
          "2018-07-23T00:00:00.000000000",
          "2018-07-30T00:00:00.000000000",
          "2018-08-06T00:00:00.000000000",
          "2018-08-13T00:00:00.000000000",
          "2018-08-20T00:00:00.000000000",
          "2018-08-27T00:00:00.000000000",
          "2018-09-03T00:00:00.000000000",
          "2018-09-10T00:00:00.000000000",
          "2018-09-17T00:00:00.000000000",
          "2018-09-24T00:00:00.000000000",
          "2018-10-01T00:00:00.000000000",
          "2018-10-08T00:00:00.000000000",
          "2018-10-15T00:00:00.000000000",
          "2018-10-22T00:00:00.000000000",
          "2018-10-29T00:00:00.000000000",
          "2018-11-05T00:00:00.000000000",
          "2018-11-12T00:00:00.000000000",
          "2018-11-19T00:00:00.000000000",
          "2018-11-26T00:00:00.000000000",
          "2018-12-03T00:00:00.000000000",
          "2018-12-10T00:00:00.000000000",
          "2018-12-17T00:00:00.000000000",
          "2018-12-24T00:00:00.000000000",
          "2018-12-31T00:00:00.000000000",
          "2019-01-07T00:00:00.000000000",
          "2019-01-14T00:00:00.000000000",
          "2019-01-21T00:00:00.000000000",
          "2019-01-28T00:00:00.000000000",
          "2019-02-04T00:00:00.000000000",
          "2019-02-11T00:00:00.000000000",
          "2019-02-18T00:00:00.000000000",
          "2019-02-25T00:00:00.000000000",
          "2019-03-04T00:00:00.000000000",
          "2019-03-11T00:00:00.000000000",
          "2019-03-18T00:00:00.000000000",
          "2019-03-25T00:00:00.000000000",
          "2019-04-01T00:00:00.000000000",
          "2019-04-08T00:00:00.000000000",
          "2019-04-15T00:00:00.000000000",
          "2019-04-22T00:00:00.000000000",
          "2019-04-29T00:00:00.000000000",
          "2019-05-06T00:00:00.000000000",
          "2019-05-13T00:00:00.000000000",
          "2019-05-20T00:00:00.000000000",
          "2019-05-27T00:00:00.000000000",
          "2019-06-03T00:00:00.000000000",
          "2019-06-10T00:00:00.000000000",
          "2019-06-17T00:00:00.000000000",
          "2019-06-24T00:00:00.000000000",
          "2019-07-01T00:00:00.000000000",
          "2019-07-08T00:00:00.000000000",
          "2019-07-15T00:00:00.000000000",
          "2019-07-22T00:00:00.000000000",
          "2019-07-29T00:00:00.000000000",
          "2019-08-05T00:00:00.000000000",
          "2019-08-12T00:00:00.000000000",
          "2019-08-19T00:00:00.000000000",
          "2019-08-26T00:00:00.000000000",
          "2019-09-02T00:00:00.000000000",
          "2019-09-09T00:00:00.000000000",
          "2019-09-16T00:00:00.000000000",
          "2019-09-23T00:00:00.000000000",
          "2019-09-30T00:00:00.000000000",
          "2019-10-07T00:00:00.000000000",
          "2019-10-14T00:00:00.000000000",
          "2019-10-21T00:00:00.000000000",
          "2019-10-28T00:00:00.000000000",
          "2019-11-04T00:00:00.000000000",
          "2019-11-11T00:00:00.000000000",
          "2019-11-18T00:00:00.000000000",
          "2019-11-25T00:00:00.000000000",
          "2019-12-02T00:00:00.000000000",
          "2019-12-09T00:00:00.000000000",
          "2019-12-16T00:00:00.000000000",
          "2019-12-23T00:00:00.000000000",
          "2019-12-30T00:00:00.000000000"
         ],
         "xaxis": "x",
         "y": {
          "bdata": "AAAAAAAA8D/OK9MDb0rwP68QOq4ag/A/9oPp0ooR8T8TsS9U7yPwP99D4KT+IO4/3Hw6e8fI7z+q8F+IRFvwP9LSdHnBUu8/LIMaANTW8D8JvFtMfXzwPz7QZruEqO0/HpxM0nn07T+3TPA/hzztPxfM6R6/4e0/IXrkjXUm7z8heCA9i+ftP6NcPhmDbu4/QjPHjn7i7z+qgyQlaPXuP+V5ctWGOu8/ZFIUWy1A8D9vrqGpREXwP4WiXq/qufA/U4wX6uHF8D/pH6HJ3jHwP3Um9zr9jPA/0NEB+MZB8T9XHtVhPzPxPyuHvbZk+vE/NwuPnm7D8T/XXM4FFvfxP6hIRQnkbvE/az8Jog+48T9kWBFN667xP01QZMGg6PA/pI7CAT4F8T+UMFxuT+3wP6R7NKQOU/E/85Ml4tTM8D/YyoXbKx3wP2L4PrQd1e8/L6n6oWIb7z/SWD6VtrXuP9oE9qnY8+4/8kBpRjbR7j+goGHWr7ntP/MQKYMHxu8/XzbgVBMY7j8FnNv3GUHuP7udcIUkcOw/dtxkp8ob7j+2jo+avBXvP53HSc9Ase4/QjPHjn7i7z9LiPtKdqzvPxmlC0mpH/A/OvEgMLbK7z+605ckcCrwP3zeMMc/HvA/rDRmQwmQ8D+apul6+pTwPymUuDeTMfE/Lh6kE8N/8T8zPRwRJAjxPzJ9CsjkhfE/OJ3k7bqt8T/lnXpkevLxPxPbLk2Nd/I/umBFhRE18T9FfGgTjObwP4oJl/853/A/NI4dTRd08D8JjgPgMwXwP1INy2YH8+4/3LqtWYuC7z8wZfiBBUnwP9tJ47eLYe8/dM57zxpt8D8PGkn3kJ7wP/vlhlmRZ/A/R53F/qYm8j95l9xY/VTxP0LUZHXEPvE/R7cjKRUY8T/i1RHuT7bwPzyHlAsaP/E/fDnW36R98T+zOPArVf7xP79xyu6L2vE/7Hfuco/I8T9/Y3S0xIzxP06g9q+8pPE/IwGMcl4U8j+pVbJuWl3yPzJVr01ZffI/r0ZXkS8J8z/PhYSkg2DzP8kL1dedzfI/E8Ioj13x8j/WQP++4XXzP+AKN76skPM/MT5xFDeX8z+urvcqw5/zP2qQawKBaPM/",
          "dtype": "f8"
         },
         "yaxis": "y"
        },
        {
         "hovertemplate": "<b>Rolling mean trendline</b><br><br>date=%{x}<br>GOOG=%{y} <b>(trend)</b><extra></extra>",
         "legendgroup": "",
         "marker": {
          "color": "#636efa",
          "symbol": "circle"
         },
         "mode": "lines",
         "name": "",
         "showlegend": false,
         "type": "scatter",
         "x": [
          "2018-01-01T00:00:00.000000000",
          "2018-01-08T00:00:00.000000000",
          "2018-01-15T00:00:00.000000000",
          "2018-01-22T00:00:00.000000000",
          "2018-01-29T00:00:00.000000000",
          "2018-02-05T00:00:00.000000000",
          "2018-02-12T00:00:00.000000000",
          "2018-02-19T00:00:00.000000000",
          "2018-02-26T00:00:00.000000000",
          "2018-03-05T00:00:00.000000000",
          "2018-03-12T00:00:00.000000000",
          "2018-03-19T00:00:00.000000000",
          "2018-03-26T00:00:00.000000000",
          "2018-04-02T00:00:00.000000000",
          "2018-04-09T00:00:00.000000000",
          "2018-04-16T00:00:00.000000000",
          "2018-04-23T00:00:00.000000000",
          "2018-04-30T00:00:00.000000000",
          "2018-05-07T00:00:00.000000000",
          "2018-05-14T00:00:00.000000000",
          "2018-05-21T00:00:00.000000000",
          "2018-05-28T00:00:00.000000000",
          "2018-06-04T00:00:00.000000000",
          "2018-06-11T00:00:00.000000000",
          "2018-06-18T00:00:00.000000000",
          "2018-06-25T00:00:00.000000000",
          "2018-07-02T00:00:00.000000000",
          "2018-07-09T00:00:00.000000000",
          "2018-07-16T00:00:00.000000000",
          "2018-07-23T00:00:00.000000000",
          "2018-07-30T00:00:00.000000000",
          "2018-08-06T00:00:00.000000000",
          "2018-08-13T00:00:00.000000000",
          "2018-08-20T00:00:00.000000000",
          "2018-08-27T00:00:00.000000000",
          "2018-09-03T00:00:00.000000000",
          "2018-09-10T00:00:00.000000000",
          "2018-09-17T00:00:00.000000000",
          "2018-09-24T00:00:00.000000000",
          "2018-10-01T00:00:00.000000000",
          "2018-10-08T00:00:00.000000000",
          "2018-10-15T00:00:00.000000000",
          "2018-10-22T00:00:00.000000000",
          "2018-10-29T00:00:00.000000000",
          "2018-11-05T00:00:00.000000000",
          "2018-11-12T00:00:00.000000000",
          "2018-11-19T00:00:00.000000000",
          "2018-11-26T00:00:00.000000000",
          "2018-12-03T00:00:00.000000000",
          "2018-12-10T00:00:00.000000000",
          "2018-12-17T00:00:00.000000000",
          "2018-12-24T00:00:00.000000000",
          "2018-12-31T00:00:00.000000000",
          "2019-01-07T00:00:00.000000000",
          "2019-01-14T00:00:00.000000000",
          "2019-01-21T00:00:00.000000000",
          "2019-01-28T00:00:00.000000000",
          "2019-02-04T00:00:00.000000000",
          "2019-02-11T00:00:00.000000000",
          "2019-02-18T00:00:00.000000000",
          "2019-02-25T00:00:00.000000000",
          "2019-03-04T00:00:00.000000000",
          "2019-03-11T00:00:00.000000000",
          "2019-03-18T00:00:00.000000000",
          "2019-03-25T00:00:00.000000000",
          "2019-04-01T00:00:00.000000000",
          "2019-04-08T00:00:00.000000000",
          "2019-04-15T00:00:00.000000000",
          "2019-04-22T00:00:00.000000000",
          "2019-04-29T00:00:00.000000000",
          "2019-05-06T00:00:00.000000000",
          "2019-05-13T00:00:00.000000000",
          "2019-05-20T00:00:00.000000000",
          "2019-05-27T00:00:00.000000000",
          "2019-06-03T00:00:00.000000000",
          "2019-06-10T00:00:00.000000000",
          "2019-06-17T00:00:00.000000000",
          "2019-06-24T00:00:00.000000000",
          "2019-07-01T00:00:00.000000000",
          "2019-07-08T00:00:00.000000000",
          "2019-07-15T00:00:00.000000000",
          "2019-07-22T00:00:00.000000000",
          "2019-07-29T00:00:00.000000000",
          "2019-08-05T00:00:00.000000000",
          "2019-08-12T00:00:00.000000000",
          "2019-08-19T00:00:00.000000000",
          "2019-08-26T00:00:00.000000000",
          "2019-09-02T00:00:00.000000000",
          "2019-09-09T00:00:00.000000000",
          "2019-09-16T00:00:00.000000000",
          "2019-09-23T00:00:00.000000000",
          "2019-09-30T00:00:00.000000000",
          "2019-10-07T00:00:00.000000000",
          "2019-10-14T00:00:00.000000000",
          "2019-10-21T00:00:00.000000000",
          "2019-10-28T00:00:00.000000000",
          "2019-11-04T00:00:00.000000000",
          "2019-11-11T00:00:00.000000000",
          "2019-11-18T00:00:00.000000000",
          "2019-11-25T00:00:00.000000000",
          "2019-12-02T00:00:00.000000000",
          "2019-12-09T00:00:00.000000000",
          "2019-12-16T00:00:00.000000000",
          "2019-12-23T00:00:00.000000000",
          "2019-12-30T00:00:00.000000000"
         ],
         "xaxis": "x",
         "y": {
          "bdata": "AAAAAAAA+H8AAAAAAAD4fwAAAAAAAPh/AAAAAAAA+H9OsAfFAGfwP0rq6jsaN/A/nodGlLEi8D+d5xrzuRrwPzVeiRBjpe8/pRi0u/Hs7z8lKwlDRT/wP65m2i/YCPA/6yUEIHqE7z/m1xyuoRnvP6YydOc/V+4/DjN9GPL57T897jv/jAbuPyN7n0D1Hu4/c9wwHY2m7j/Dmjzrrt3uP7aa8l+y4e4/pqNaq6hm7z9+cCjqqdLvPwY6Ez13EfA/uhVhm7NT8D+33PVHbHHwP4dtVg7JgPA/zqdphEmz8D/F8xqojcvwP1aMompBCfE/AFUFYpFZ8T96+cm9/KHxP9iqCo4Cq/E/qeThmpLF8T+0QYxSerbxPx/ptoy3ivE/e1mBJVla8T/ehx+gbkDxP4ItKDo7LPE/bDksiwP/8D+7HmaQUtbwPz5OEiLJnfA/2LtlT3ZX8D/LJPZ6PuXvP2O3fkKuXe8/1gwrX3QV7z9K+zGZkanuPwoQCJOyy+4/jW8ohius7j8u9O/Ia4juP1agJG+bDu4/gt++ZToi7j92xTk3+P7tP4LiTumaHe4/JmfkbRVx7j/eYjNivxbvP51FivdAhO8/6/JA4nKo7z9IuTuUX/zvP9BQreMvB/A/uM3bHFks8D/Smm7Az0PwP7oGXWBBhvA/a+LFKYXK8D8qwsFrTPnwP6vQFVN4KvE/MTV70J5i8T9WaghzM4nxP+pcV0vCuvE/n/3Flb7D8T+jMD8L4KPxP01GyQ6TevE/w9zp1hgu8T/0ZhTB07DwPyUITsodWPA/X+gwHHYd8D8Cj1U51/7vP+VkqqW2sO8/dkunOEba7z82wxpdvyfwP7mR17IBSfA/VwNnZYio8D9zzWJ+k/zwP84BKzmCJvE/QSG93M8+8T8JHgyUj07xPwaANTBAIPE/bqCasWEo8T+25xzWsU7xPwINC2SWdfE/N/oD5W+s8T/evzBt+LvxP9U6N/3Jw/E/H5aJPjLI8T+CkFGLW+LxP/bvROqDBvI/zIOlSZlS8j/m5MGtWqvyP25NnVtn0PI/TpZOlQHu8j+j+MR4th/zP0aGvoHPOvM/Jqu6McBF8z+ImMGox2/zP83Bm4ybh/M/",
          "dtype": "f8"
         },
         "yaxis": "y"
        }
       ],
       "layout": {
        "legend": {
         "tracegroupgap": 0
        },
        "template": {
         "data": {
          "bar": [
           {
            "error_x": {
             "color": "#2a3f5f"
            },
            "error_y": {
             "color": "#2a3f5f"
            },
            "marker": {
             "line": {
              "color": "#E5ECF6",
              "width": 0.5
             },
             "pattern": {
              "fillmode": "overlay",
              "size": 10,
              "solidity": 0.2
             }
            },
            "type": "bar"
           }
          ],
          "barpolar": [
           {
            "marker": {
             "line": {
              "color": "#E5ECF6",
              "width": 0.5
             },
             "pattern": {
              "fillmode": "overlay",
              "size": 10,
              "solidity": 0.2
             }
            },
            "type": "barpolar"
           }
          ],
          "carpet": [
           {
            "aaxis": {
             "endlinecolor": "#2a3f5f",
             "gridcolor": "white",
             "linecolor": "white",
             "minorgridcolor": "white",
             "startlinecolor": "#2a3f5f"
            },
            "baxis": {
             "endlinecolor": "#2a3f5f",
             "gridcolor": "white",
             "linecolor": "white",
             "minorgridcolor": "white",
             "startlinecolor": "#2a3f5f"
            },
            "type": "carpet"
           }
          ],
          "choropleth": [
           {
            "colorbar": {
             "outlinewidth": 0,
             "ticks": ""
            },
            "type": "choropleth"
           }
          ],
          "contour": [
           {
            "colorbar": {
             "outlinewidth": 0,
             "ticks": ""
            },
            "colorscale": [
             [
              0,
              "#0d0887"
             ],
             [
              0.1111111111111111,
              "#46039f"
             ],
             [
              0.2222222222222222,
              "#7201a8"
             ],
             [
              0.3333333333333333,
              "#9c179e"
             ],
             [
              0.4444444444444444,
              "#bd3786"
             ],
             [
              0.5555555555555556,
              "#d8576b"
             ],
             [
              0.6666666666666666,
              "#ed7953"
             ],
             [
              0.7777777777777778,
              "#fb9f3a"
             ],
             [
              0.8888888888888888,
              "#fdca26"
             ],
             [
              1,
              "#f0f921"
             ]
            ],
            "type": "contour"
           }
          ],
          "contourcarpet": [
           {
            "colorbar": {
             "outlinewidth": 0,
             "ticks": ""
            },
            "type": "contourcarpet"
           }
          ],
          "heatmap": [
           {
            "colorbar": {
             "outlinewidth": 0,
             "ticks": ""
            },
            "colorscale": [
             [
              0,
              "#0d0887"
             ],
             [
              0.1111111111111111,
              "#46039f"
             ],
             [
              0.2222222222222222,
              "#7201a8"
             ],
             [
              0.3333333333333333,
              "#9c179e"
             ],
             [
              0.4444444444444444,
              "#bd3786"
             ],
             [
              0.5555555555555556,
              "#d8576b"
             ],
             [
              0.6666666666666666,
              "#ed7953"
             ],
             [
              0.7777777777777778,
              "#fb9f3a"
             ],
             [
              0.8888888888888888,
              "#fdca26"
             ],
             [
              1,
              "#f0f921"
             ]
            ],
            "type": "heatmap"
           }
          ],
          "histogram": [
           {
            "marker": {
             "pattern": {
              "fillmode": "overlay",
              "size": 10,
              "solidity": 0.2
             }
            },
            "type": "histogram"
           }
          ],
          "histogram2d": [
           {
            "colorbar": {
             "outlinewidth": 0,
             "ticks": ""
            },
            "colorscale": [
             [
              0,
              "#0d0887"
             ],
             [
              0.1111111111111111,
              "#46039f"
             ],
             [
              0.2222222222222222,
              "#7201a8"
             ],
             [
              0.3333333333333333,
              "#9c179e"
             ],
             [
              0.4444444444444444,
              "#bd3786"
             ],
             [
              0.5555555555555556,
              "#d8576b"
             ],
             [
              0.6666666666666666,
              "#ed7953"
             ],
             [
              0.7777777777777778,
              "#fb9f3a"
             ],
             [
              0.8888888888888888,
              "#fdca26"
             ],
             [
              1,
              "#f0f921"
             ]
            ],
            "type": "histogram2d"
           }
          ],
          "histogram2dcontour": [
           {
            "colorbar": {
             "outlinewidth": 0,
             "ticks": ""
            },
            "colorscale": [
             [
              0,
              "#0d0887"
             ],
             [
              0.1111111111111111,
              "#46039f"
             ],
             [
              0.2222222222222222,
              "#7201a8"
             ],
             [
              0.3333333333333333,
              "#9c179e"
             ],
             [
              0.4444444444444444,
              "#bd3786"
             ],
             [
              0.5555555555555556,
              "#d8576b"
             ],
             [
              0.6666666666666666,
              "#ed7953"
             ],
             [
              0.7777777777777778,
              "#fb9f3a"
             ],
             [
              0.8888888888888888,
              "#fdca26"
             ],
             [
              1,
              "#f0f921"
             ]
            ],
            "type": "histogram2dcontour"
           }
          ],
          "mesh3d": [
           {
            "colorbar": {
             "outlinewidth": 0,
             "ticks": ""
            },
            "type": "mesh3d"
           }
          ],
          "parcoords": [
           {
            "line": {
             "colorbar": {
              "outlinewidth": 0,
              "ticks": ""
             }
            },
            "type": "parcoords"
           }
          ],
          "pie": [
           {
            "automargin": true,
            "type": "pie"
           }
          ],
          "scatter": [
           {
            "fillpattern": {
             "fillmode": "overlay",
             "size": 10,
             "solidity": 0.2
            },
            "type": "scatter"
           }
          ],
          "scatter3d": [
           {
            "line": {
             "colorbar": {
              "outlinewidth": 0,
              "ticks": ""
             }
            },
            "marker": {
             "colorbar": {
              "outlinewidth": 0,
              "ticks": ""
             }
            },
            "type": "scatter3d"
           }
          ],
          "scattercarpet": [
           {
            "marker": {
             "colorbar": {
              "outlinewidth": 0,
              "ticks": ""
             }
            },
            "type": "scattercarpet"
           }
          ],
          "scattergeo": [
           {
            "marker": {
             "colorbar": {
              "outlinewidth": 0,
              "ticks": ""
             }
            },
            "type": "scattergeo"
           }
          ],
          "scattergl": [
           {
            "marker": {
             "colorbar": {
              "outlinewidth": 0,
              "ticks": ""
             }
            },
            "type": "scattergl"
           }
          ],
          "scattermap": [
           {
            "marker": {
             "colorbar": {
              "outlinewidth": 0,
              "ticks": ""
             }
            },
            "type": "scattermap"
           }
          ],
          "scattermapbox": [
           {
            "marker": {
             "colorbar": {
              "outlinewidth": 0,
              "ticks": ""
             }
            },
            "type": "scattermapbox"
           }
          ],
          "scatterpolar": [
           {
            "marker": {
             "colorbar": {
              "outlinewidth": 0,
              "ticks": ""
             }
            },
            "type": "scatterpolar"
           }
          ],
          "scatterpolargl": [
           {
            "marker": {
             "colorbar": {
              "outlinewidth": 0,
              "ticks": ""
             }
            },
            "type": "scatterpolargl"
           }
          ],
          "scatterternary": [
           {
            "marker": {
             "colorbar": {
              "outlinewidth": 0,
              "ticks": ""
             }
            },
            "type": "scatterternary"
           }
          ],
          "surface": [
           {
            "colorbar": {
             "outlinewidth": 0,
             "ticks": ""
            },
            "colorscale": [
             [
              0,
              "#0d0887"
             ],
             [
              0.1111111111111111,
              "#46039f"
             ],
             [
              0.2222222222222222,
              "#7201a8"
             ],
             [
              0.3333333333333333,
              "#9c179e"
             ],
             [
              0.4444444444444444,
              "#bd3786"
             ],
             [
              0.5555555555555556,
              "#d8576b"
             ],
             [
              0.6666666666666666,
              "#ed7953"
             ],
             [
              0.7777777777777778,
              "#fb9f3a"
             ],
             [
              0.8888888888888888,
              "#fdca26"
             ],
             [
              1,
              "#f0f921"
             ]
            ],
            "type": "surface"
           }
          ],
          "table": [
           {
            "cells": {
             "fill": {
              "color": "#EBF0F8"
             },
             "line": {
              "color": "white"
             }
            },
            "header": {
             "fill": {
              "color": "#C8D4E3"
             },
             "line": {
              "color": "white"
             }
            },
            "type": "table"
           }
          ]
         },
         "layout": {
          "annotationdefaults": {
           "arrowcolor": "#2a3f5f",
           "arrowhead": 0,
           "arrowwidth": 1
          },
          "autotypenumbers": "strict",
          "coloraxis": {
           "colorbar": {
            "outlinewidth": 0,
            "ticks": ""
           }
          },
          "colorscale": {
           "diverging": [
            [
             0,
             "#8e0152"
            ],
            [
             0.1,
             "#c51b7d"
            ],
            [
             0.2,
             "#de77ae"
            ],
            [
             0.3,
             "#f1b6da"
            ],
            [
             0.4,
             "#fde0ef"
            ],
            [
             0.5,
             "#f7f7f7"
            ],
            [
             0.6,
             "#e6f5d0"
            ],
            [
             0.7,
             "#b8e186"
            ],
            [
             0.8,
             "#7fbc41"
            ],
            [
             0.9,
             "#4d9221"
            ],
            [
             1,
             "#276419"
            ]
           ],
           "sequential": [
            [
             0,
             "#0d0887"
            ],
            [
             0.1111111111111111,
             "#46039f"
            ],
            [
             0.2222222222222222,
             "#7201a8"
            ],
            [
             0.3333333333333333,
             "#9c179e"
            ],
            [
             0.4444444444444444,
             "#bd3786"
            ],
            [
             0.5555555555555556,
             "#d8576b"
            ],
            [
             0.6666666666666666,
             "#ed7953"
            ],
            [
             0.7777777777777778,
             "#fb9f3a"
            ],
            [
             0.8888888888888888,
             "#fdca26"
            ],
            [
             1,
             "#f0f921"
            ]
           ],
           "sequentialminus": [
            [
             0,
             "#0d0887"
            ],
            [
             0.1111111111111111,
             "#46039f"
            ],
            [
             0.2222222222222222,
             "#7201a8"
            ],
            [
             0.3333333333333333,
             "#9c179e"
            ],
            [
             0.4444444444444444,
             "#bd3786"
            ],
            [
             0.5555555555555556,
             "#d8576b"
            ],
            [
             0.6666666666666666,
             "#ed7953"
            ],
            [
             0.7777777777777778,
             "#fb9f3a"
            ],
            [
             0.8888888888888888,
             "#fdca26"
            ],
            [
             1,
             "#f0f921"
            ]
           ]
          },
          "colorway": [
           "#636efa",
           "#EF553B",
           "#00cc96",
           "#ab63fa",
           "#FFA15A",
           "#19d3f3",
           "#FF6692",
           "#B6E880",
           "#FF97FF",
           "#FECB52"
          ],
          "font": {
           "color": "#2a3f5f"
          },
          "geo": {
           "bgcolor": "white",
           "lakecolor": "white",
           "landcolor": "#E5ECF6",
           "showlakes": true,
           "showland": true,
           "subunitcolor": "white"
          },
          "hoverlabel": {
           "align": "left"
          },
          "hovermode": "closest",
          "mapbox": {
           "style": "light"
          },
          "paper_bgcolor": "white",
          "plot_bgcolor": "#E5ECF6",
          "polar": {
           "angularaxis": {
            "gridcolor": "white",
            "linecolor": "white",
            "ticks": ""
           },
           "bgcolor": "#E5ECF6",
           "radialaxis": {
            "gridcolor": "white",
            "linecolor": "white",
            "ticks": ""
           }
          },
          "scene": {
           "xaxis": {
            "backgroundcolor": "#E5ECF6",
            "gridcolor": "white",
            "gridwidth": 2,
            "linecolor": "white",
            "showbackground": true,
            "ticks": "",
            "zerolinecolor": "white"
           },
           "yaxis": {
            "backgroundcolor": "#E5ECF6",
            "gridcolor": "white",
            "gridwidth": 2,
            "linecolor": "white",
            "showbackground": true,
            "ticks": "",
            "zerolinecolor": "white"
           },
           "zaxis": {
            "backgroundcolor": "#E5ECF6",
            "gridcolor": "white",
            "gridwidth": 2,
            "linecolor": "white",
            "showbackground": true,
            "ticks": "",
            "zerolinecolor": "white"
           }
          },
          "shapedefaults": {
           "line": {
            "color": "#2a3f5f"
           }
          },
          "ternary": {
           "aaxis": {
            "gridcolor": "white",
            "linecolor": "white",
            "ticks": ""
           },
           "baxis": {
            "gridcolor": "white",
            "linecolor": "white",
            "ticks": ""
           },
           "bgcolor": "#E5ECF6",
           "caxis": {
            "gridcolor": "white",
            "linecolor": "white",
            "ticks": ""
           }
          },
          "title": {
           "x": 0.05
          },
          "xaxis": {
           "automargin": true,
           "gridcolor": "white",
           "linecolor": "white",
           "ticks": "",
           "title": {
            "standoff": 15
           },
           "zerolinecolor": "white",
           "zerolinewidth": 2
          },
          "yaxis": {
           "automargin": true,
           "gridcolor": "white",
           "linecolor": "white",
           "ticks": "",
           "title": {
            "standoff": 15
           },
           "zerolinecolor": "white",
           "zerolinewidth": 2
          }
         }
        },
        "title": {
         "text": "5-point moving average"
        },
        "xaxis": {
         "anchor": "y",
         "domain": [
          0,
          1
         ],
         "title": {
          "text": "date"
         }
        },
        "yaxis": {
         "anchor": "x",
         "domain": [
          0,
          1
         ],
         "title": {
          "text": "GOOG"
         }
        }
       }
      }
     },
     "metadata": {},
     "output_type": "display_data"
    }
   ],
   "source": [
    "import plotly.express as px\n",
    "\n",
    "df = px.data.stocks(datetimes=True)\n",
    "fig = px.scatter(\n",
    "    df,\n",
    "    x=\"date\",\n",
    "    y=\"GOOG\",\n",
    "    trendline=\"rolling\",\n",
    "    trendline_options=dict(window=5),\n",
    "    title=\"5-point moving average\",\n",
    ")\n",
    "fig.show()"
   ]
  }
 ],
 "metadata": {
  "kernelspec": {
   "display_name": ".venv",
   "language": "python",
   "name": "python3"
  },
  "language_info": {
   "codemirror_mode": {
    "name": "ipython",
    "version": 3
   },
   "file_extension": ".py",
   "mimetype": "text/x-python",
   "name": "python",
   "nbconvert_exporter": "python",
   "pygments_lexer": "ipython3",
   "version": "3.13.7"
  }
 },
 "nbformat": 4,
 "nbformat_minor": 5
}
