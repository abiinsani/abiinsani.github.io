{
  "cells": [
    {
      "cell_type": "markdown",
      "metadata": {},
      "source": [
        "# Project 1"
      ]
    },
    {
      "cell_type": "markdown",
      "metadata": {},
      "source": [
        "## Introduction"
      ]
    },
    {
      "cell_type": "markdown",
      "metadata": {},
      "source": [
        "In this notebook, we will be sharing the data on the 2024 U.S. Presidential Election on county-level"
      ]
    },
    {
      "cell_type": "markdown",
      "metadata": {},
      "source": [
        "## Computing for Mean, Median, and Mode"
      ]
    },
    {
      "cell_type": "markdown",
      "metadata": {},
      "source": [
        "First, import and the data first."
      ]
    },
    {
      "cell_type": "code",
      "execution_count": 3,
      "metadata": {},
      "outputs": [
        {
          "name": "stdout",
          "output_type": "stream",
          "text": [
            "<class 'pandas.core.frame.DataFrame'>\n",
            "RangeIndex: 3160 entries, 0 to 3159\n",
            "Data columns (total 10 columns):\n",
            " #   Column          Non-Null Count  Dtype  \n",
            "---  ------          --------------  -----  \n",
            " 0   state_name      3160 non-null   object \n",
            " 1   county_fips     3160 non-null   int64  \n",
            " 2   county_name     3160 non-null   object \n",
            " 3   votes_gop       3160 non-null   int64  \n",
            " 4   votes_dem       3160 non-null   int64  \n",
            " 5   total_votes     3160 non-null   int64  \n",
            " 6   diff            3160 non-null   float64\n",
            " 7   per_gop         3160 non-null   float64\n",
            " 8   per_dem         3160 non-null   float64\n",
            " 9   per_point_diff  3160 non-null   float64\n",
            "dtypes: float64(4), int64(4), object(2)\n",
            "memory usage: 247.0+ KB\n"
          ]
        }
      ],
      "source": [
        "# --- Import Modules ---\n",
        "import pandas as pd\n",
        "import plotly.express as px\n",
        "from statsmodels import robust\n",
        "\n",
        "# --- 1. Read CSV ---\n",
        "df = pd.read_csv(\"2024_US_County_Level_Presidential_Results.csv\")\n",
        "\n",
        "# --- 2. Inspect Columns ---\n",
        "df.info()"
      ]
    },
    {
      "cell_type": "markdown",
      "metadata": {},
      "source": [
        "Now we find the Mean, Median, Mode using Pandas. In this case we calculate the Voters for Democratic Presidential Canditate in county-level."
      ]
    },
    {
      "cell_type": "code",
      "execution_count": null,
      "metadata": {},
      "outputs": [
        {
          "name": "stdout",
          "output_type": "stream",
          "text": [
            "Mean: 23736.310\n",
            "Median: 3458.500\n",
            "Mode: 146.000\n"
          ]
        }
      ],
      "source": [
        "# --- Import Modules ---\n",
        "import pandas as pd\n",
        "import plotly.express as px\n",
        "from statsmodels import robust\n",
        "\n",
        "# --- 1. Read CSV ---\n",
        "df = pd.read_csv(\"2024_US_County_Level_Presidential_Results.csv\")\n",
        "\n",
        "# Example numeric column to analyze (replace with actual column name)\n",
        "col = \"votes_dem\"  # adjust if needed\n",
        "\n",
        "# --- 3. Compute Descriptive Stats ---\n",
        "mean_val = df[col].mean()\n",
        "median_val = df[col].median()\n",
        "mode_val = df[col].mode().iloc[0]\n",
        "\n",
        "print(f\"Mean: {mean_val:.3f}\")\n",
        "print(f\"Median: {median_val:.3f}\")\n",
        "print(f\"Mode: {mode_val:.3f}\")\n"
      ]
    },
    {
      "cell_type": "markdown",
      "metadata": {},
      "source": [
        "This time, we calculate Mean, Median, Mode without Pandas."
      ]
    },
    {
      "cell_type": "code",
      "execution_count": 9,
      "metadata": {},
      "outputs": [
        {
          "name": "stdout",
          "output_type": "stream",
          "text": [
            "Mean: 23736.31\n",
            "Median: 3458.50\n",
            "Mode: 146.00\n",
            "Number of data points: 3160\n"
          ]
        }
      ],
      "source": [
        "import csv\n",
        "\n",
        "# read the CSV manually\n",
        "\n",
        "filename = \"2024_US_County_Level_Presidential_Results.csv\"\n",
        "column = \"votes_dem\"\n",
        "values = []\n",
        "\n",
        "# Convert entries (rows) in column dem_votes to integer\n",
        "\n",
        "with open(filename, newline=\"\", encoding=\"utf-8\") as file:\n",
        "    reader = csv.DictReader(file)\n",
        "    for row in reader:\n",
        "        val = row.get(column, \"\")\n",
        "        if val.strip() != \"\":\n",
        "            try:\n",
        "                values.append(float(val))\n",
        "            except:\n",
        "                pass\n",
        "\n",
        "# Compute the mean\n",
        "total = 0\n",
        "count = 0\n",
        "for v in values:\n",
        "    total = total + v\n",
        "    count = count + 1\n",
        "\n",
        "mean_val = total / count\n",
        "\n",
        "# Compute the median\n",
        "sorted_vals = sorted(values)\n",
        "n = len(sorted_vals)\n",
        "\n",
        "if n % 2 == 1:\n",
        "    median_val = sorted_vals[n // 2]\n",
        "else:\n",
        "    mid1 = sorted_vals[n // 2 - 1]\n",
        "    mid2 = sorted_vals[n // 2]\n",
        "    median_val = (mid1 + mid2) / 2\n",
        "\n",
        "# Compute Mode\n",
        "freq = {}\n",
        "for v in sorted_vals:\n",
        "    if v in freq:\n",
        "        freq[v] = freq[v] + 1\n",
        "    else:\n",
        "        freq[v] = 1\n",
        "\n",
        "max_count = 0\n",
        "mode_val = None\n",
        "\n",
        "for value in freq:\n",
        "    if freq[value] > max_count:\n",
        "        max_count = freq[value]\n",
        "        mode_val = value\n",
        "\n",
        "# Print results\n",
        "print(f\"Mean: {mean_val:.2f}\")\n",
        "print(f\"Median: {median_val:.2f}\")\n",
        "print(f\"Mode: {mode_val:.2f}\")\n",
        "print(f\"Number of data points: {len(values)}\")\n"
      ]
    },
    {
      "cell_type": "markdown",
      "metadata": {},
      "source": [
        "Now we visualize without plotly and other packages (Only Python). We use pound as symbol denoting histogram for Democrats voter in 2024 U.S. Presidential Election."
      ]
    },
    {
      "cell_type": "markdown",
      "metadata": {},
      "source": []
    },
    {
      "cell_type": "code",
      "execution_count": null,
      "metadata": {},
      "outputs": [
        {
          "name": "stdout",
          "output_type": "stream",
          "text": [
            "\n",
            "County-Level Distribution of Democratic Votes (votes_dem)\n",
            "Units: Number of votes per county\n",
            "Each # ≈ 50 counties\n",
            "\n",
            "x-axis: Vote Count Range | y-axis: Number of Counties\n",
            "\n",
            "      0–10,000  | #############################################\n",
            " 10,000–50,000  | ###########\n",
            " 50,000–100,000 | ##\n",
            "100,000–250,000 | ##\n",
            "250,000–500,000 | #\n",
            "500,000–1,000,000 | #\n",
            "1,000,000–2,000,000 | #\n"
          ]
        }
      ],
      "source": [
        "import csv\n",
        "\n",
        "filename = \"2024_US_County_Level_Presidential_Results.csv\"\n",
        "column = \"votes_dem\"\n",
        "\n",
        "values = []\n",
        "\n",
        "# Read CSV and collect votes_dem values\n",
        "with open(filename, newline=\"\", encoding=\"utf-8\") as file:\n",
        "    reader = csv.DictReader(file)\n",
        "    for row in reader:\n",
        "        val = row.get(column, \"\")\n",
        "        if val.strip() != \"\":\n",
        "            try:\n",
        "                values.append(float(val))\n",
        "            except:\n",
        "                pass\n",
        "\n",
        "    # Print text-based distribution\n",
        "    bins = [0, 10000, 50000, 100000, 250000, 500000, 1000000, 2000000]\n",
        "    counts = [0] * (len(bins) - 1)\n",
        "\n",
        "    # Count values per bin\n",
        "    for v in values:\n",
        "        for i in range(len(bins) - 1):\n",
        "            if bins[i] <= v < bins[i + 1]:\n",
        "                counts[i] += 1\n",
        "                break\n",
        "\n",
        "    print(\"\\nCounty-Level Distribution of Democratic Votes (votes_dem)\")\n",
        "    print(\"Units: Number of votes per county\")\n",
        "    print(\"Each # ≈ 50 counties\\n\")\n",
        "    print(\"x-axis: Vote Count Range | y-axis: Number of Counties\\n\")\n",
        "\n",
        "    scale = 50\n",
        "\n",
        "    for i in range(len(counts)):\n",
        "        label = f\"{bins[i]:>7,}–{bins[i + 1]:<7,}\"\n",
        "        bar = \"#\" * max(1, counts[i] // scale)  # at least one #\n",
        "        print(f\"{label} | {bar}\")"
      ]
    },
    {
      "cell_type": "code",
      "execution_count": null,
      "metadata": {},
      "outputs": [],
      "source": []
    }
  ],
  "metadata": {
    "colab": {
      "provenance": []
    },
    "kernelspec": {
      "display_name": "myenv",
      "language": "python",
      "name": "python3"
    },
    "language_info": {
      "codemirror_mode": {
        "name": "ipython",
        "version": 3
      },
      "file_extension": ".py",
      "mimetype": "text/x-python",
      "name": "python",
      "nbconvert_exporter": "python",
      "pygments_lexer": "ipython3",
      "version": "3.13.7"
    }
  },
  "nbformat": 4,
  "nbformat_minor": 0
}
